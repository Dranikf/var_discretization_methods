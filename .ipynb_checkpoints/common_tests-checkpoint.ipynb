{
 "cells": [
  {
   "cell_type": "markdown",
   "id": "4bdc768b-76db-420d-9f00-c15812ef0638",
   "metadata": {},
   "source": [
    "# Testing of common\n",
    "\n",
    "Those functions and classes is displayed in common.py"
   ]
  },
  {
   "cell_type": "code",
   "execution_count": 1,
   "id": "73b11500-7eb2-4deb-8552-a7ed8be8b2e0",
   "metadata": {},
   "outputs": [],
   "source": [
    "import numpy as np\n",
    "\n",
    "from var_disc_common import *"
   ]
  },
  {
   "cell_type": "markdown",
   "id": "b2ec1b9c-b0a2-4bf1-a585-d4b4d3819921",
   "metadata": {},
   "source": [
    "# get_bin_line - funciton"
   ]
  },
  {
   "cell_type": "code",
   "execution_count": 2,
   "id": "c5c708fb-60f6-418e-9e46-6dcc49f6b9a3",
   "metadata": {},
   "outputs": [
    {
     "data": {
      "text/plain": [
       "['(-inf, 5)', '[5,20)', '[20,45)', '[45,inf)']"
      ]
     },
     "execution_count": 2,
     "metadata": {},
     "output_type": "execute_result"
    }
   ],
   "source": [
    "bins = np.array([5, 20, 45])\n",
    "list(map(lambda ind: get_bin_line(ind, bins), range(len(bins) + 1)))"
   ]
  },
  {
   "cell_type": "markdown",
   "id": "1690e43c-0d01-4aa2-8be5-e28441e92bfc",
   "metadata": {},
   "source": [
    "# encode_as_lines - function"
   ]
  },
  {
   "cell_type": "code",
   "execution_count": 4,
   "id": "97ea6970-1eb2-4874-bc44-786d2354eaeb",
   "metadata": {},
   "outputs": [],
   "source": [
    "bins = np.array([5, 20, 45])\n",
    "x = np.array([2, 3, 20, 4, 65, 25, np.NaN])"
   ]
  },
  {
   "cell_type": "code",
   "execution_count": 5,
   "id": "9fbc68aa-9323-405b-bb73-60c5cea66b77",
   "metadata": {},
   "outputs": [
    {
     "data": {
      "text/plain": [
       "array(['(-inf, 5)', '(-inf, 5)', '[20,45)', '(-inf, 5)', '[45,inf)',\n",
       "       '[20,45)', 'nan'], dtype='<U9')"
      ]
     },
     "execution_count": 5,
     "metadata": {},
     "output_type": "execute_result"
    }
   ],
   "source": [
    "encode_as_lines(x, bins)"
   ]
  },
  {
   "cell_type": "code",
   "execution_count": 6,
   "id": "d260660d-f664-4997-94d8-051efbb7aef8",
   "metadata": {},
   "outputs": [
    {
     "data": {
      "text/plain": [
       "array(['(-inf, 5)', '(-inf, 5)', '[20,45)', '(-inf, 5)', '[45,inf)',\n",
       "       '[20,45)', '[45,inf)'], dtype='<U9')"
      ]
     },
     "execution_count": 6,
     "metadata": {},
     "output_type": "execute_result"
    }
   ],
   "source": [
    "encode_as_lines(x, bins, save_na = False)"
   ]
  }
 ],
 "metadata": {
  "kernelspec": {
   "display_name": "Python 3 (ipykernel)",
   "language": "python",
   "name": "python3"
  },
  "language_info": {
   "codemirror_mode": {
    "name": "ipython",
    "version": 3
   },
   "file_extension": ".py",
   "mimetype": "text/x-python",
   "name": "python",
   "nbconvert_exporter": "python",
   "pygments_lexer": "ipython3",
   "version": "3.10.0"
  }
 },
 "nbformat": 4,
 "nbformat_minor": 5
}
