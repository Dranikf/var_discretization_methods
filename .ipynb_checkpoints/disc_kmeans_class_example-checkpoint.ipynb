{
 "cells": [
  {
   "cell_type": "markdown",
   "id": "2a14dbcb-ab08-4d8f-a8de-92c701f071d6",
   "metadata": {},
   "source": [
    "# Variable discrediting using kmeans, сonsidering the task of classification as well."
   ]
  },
  {
   "cell_type": "code",
   "execution_count": 1,
   "id": "56d4f7f7-2f7e-43b8-b5e0-35822d785310",
   "metadata": {},
   "outputs": [],
   "source": [
    "from copy import deepcopy\n",
    "import numbers\n",
    "\n",
    "import numpy as np\n",
    "import pandas as pd\n",
    "\n",
    "from sklearn.datasets import make_blobs\n",
    "\n",
    "import plotly.graph_objects as go\n",
    "import plotly.express as px\n",
    "from plotly.subplots import make_subplots\n",
    "\n",
    "from rangers import kmeans_ranges"
   ]
  },
  {
   "cell_type": "markdown",
   "id": "7972d70d-4f18-4e48-8a35-f346a1d72ff3",
   "metadata": {},
   "source": [
    "# Basic data visualisation function\n",
    "\n",
    "It will helps us in future visualisations."
   ]
  },
  {
   "cell_type": "code",
   "execution_count": 2,
   "id": "4f6d2fde-1244-4ab5-95f1-89499c83e97e",
   "metadata": {},
   "outputs": [],
   "source": [
    "def blobs_with_classes_scatter(\n",
    "    data, fig = go.Figure(), colors = ['blue', 'red'], \n",
    "    class_var = 'class'):\n",
    "    \n",
    "    for i, cl in enumerate(data[class_var].unique()):\n",
    "        fig.add_trace(\n",
    "            go.Scatter(\n",
    "                x = data.loc[example_data[class_var] == cl, 'var'], \n",
    "                y = data.loc[example_data[class_var] == cl, 'blob'] + i/10,\n",
    "                marker = {'color' : colors[i]}, mode = \"markers\",\n",
    "                name = 'class ' + str(cl)\n",
    "            )\n",
    "        )\n",
    "        \n",
    "    return fig"
   ]
  },
  {
   "cell_type": "markdown",
   "id": "64356f39-778c-47a1-b7c9-0c5b5ef47830",
   "metadata": {},
   "source": [
    "# Let's generate some random ranges which will be used as test data"
   ]
  },
  {
   "cell_type": "markdown",
   "id": "52ad642d-7696-4cb7-90a5-1adbc21f4246",
   "metadata": {},
   "source": [
    "Some data blobs."
   ]
  },
  {
   "cell_type": "code",
   "execution_count": 55,
   "id": "f88bc7ae-6f76-4bbf-a953-1cb33710a496",
   "metadata": {},
   "outputs": [],
   "source": [
    "X,y = make_blobs(\n",
    "    n_samples = 10, n_features = 1,\n",
    "    centers = np.array([-9, -1, 6])[:, np.newaxis], \n",
    "    cluster_std = 2, random_state=1\n",
    ")\n",
    "\n",
    "example_data = pd.DataFrame(\n",
    "    {'var': X.ravel(), 'blob':y})\n",
    "del X,y"
   ]
  },
  {
   "cell_type": "markdown",
   "id": "f0c14ce4-8250-427b-af07-7ca9c3c27801",
   "metadata": {},
   "source": [
    "Now let's apply some classification task to our data. Data from differents blobs gets different plobability to get default."
   ]
  },
  {
   "cell_type": "markdown",
   "id": "5fb27b57-f5ad-4d25-8413-2fa3e72a9107",
   "metadata": {},
   "source": [
    "## Two classes"
   ]
  },
  {
   "cell_type": "code",
   "execution_count": 56,
   "id": "c92f42bd-42d4-4ff2-b3db-d68fd57caf2b",
   "metadata": {},
   "outputs": [
    {
     "data": {
      "application/vnd.plotly.v1+json": {
       "config": {
        "plotlyServerURL": "https://plot.ly"
       },
       "data": [
        {
         "marker": {
          "color": "blue"
         },
         "mode": "markers",
         "name": "class 1",
         "type": "scatter",
         "x": [
          6.638078192114197,
          -5.603077393760565,
          5.50125924904518,
          -5.751309272673517,
          2.48962352843296,
          4.477586198209794
         ],
         "y": [
          2,
          1,
          2,
          0,
          1,
          2
         ]
        },
        {
         "marker": {
          "color": "red"
         },
         "mode": "markers",
         "name": "class 0",
         "type": "scatter",
         "x": [
          -11.145937244312341,
          -10.223512827300151,
          0.730815258649357,
          -10.056343504526911
         ],
         "y": [
          0.1,
          0.1,
          1.1,
          0.1
         ]
        }
       ],
       "layout": {
        "autosize": true,
        "template": {
         "data": {
          "bar": [
           {
            "error_x": {
             "color": "#2a3f5f"
            },
            "error_y": {
             "color": "#2a3f5f"
            },
            "marker": {
             "line": {
              "color": "#E5ECF6",
              "width": 0.5
             },
             "pattern": {
              "fillmode": "overlay",
              "size": 10,
              "solidity": 0.2
             }
            },
            "type": "bar"
           }
          ],
          "barpolar": [
           {
            "marker": {
             "line": {
              "color": "#E5ECF6",
              "width": 0.5
             },
             "pattern": {
              "fillmode": "overlay",
              "size": 10,
              "solidity": 0.2
             }
            },
            "type": "barpolar"
           }
          ],
          "carpet": [
           {
            "aaxis": {
             "endlinecolor": "#2a3f5f",
             "gridcolor": "white",
             "linecolor": "white",
             "minorgridcolor": "white",
             "startlinecolor": "#2a3f5f"
            },
            "baxis": {
             "endlinecolor": "#2a3f5f",
             "gridcolor": "white",
             "linecolor": "white",
             "minorgridcolor": "white",
             "startlinecolor": "#2a3f5f"
            },
            "type": "carpet"
           }
          ],
          "choropleth": [
           {
            "colorbar": {
             "outlinewidth": 0,
             "ticks": ""
            },
            "type": "choropleth"
           }
          ],
          "contour": [
           {
            "colorbar": {
             "outlinewidth": 0,
             "ticks": ""
            },
            "colorscale": [
             [
              0,
              "#0d0887"
             ],
             [
              0.1111111111111111,
              "#46039f"
             ],
             [
              0.2222222222222222,
              "#7201a8"
             ],
             [
              0.3333333333333333,
              "#9c179e"
             ],
             [
              0.4444444444444444,
              "#bd3786"
             ],
             [
              0.5555555555555556,
              "#d8576b"
             ],
             [
              0.6666666666666666,
              "#ed7953"
             ],
             [
              0.7777777777777778,
              "#fb9f3a"
             ],
             [
              0.8888888888888888,
              "#fdca26"
             ],
             [
              1,
              "#f0f921"
             ]
            ],
            "type": "contour"
           }
          ],
          "contourcarpet": [
           {
            "colorbar": {
             "outlinewidth": 0,
             "ticks": ""
            },
            "type": "contourcarpet"
           }
          ],
          "heatmap": [
           {
            "colorbar": {
             "outlinewidth": 0,
             "ticks": ""
            },
            "colorscale": [
             [
              0,
              "#0d0887"
             ],
             [
              0.1111111111111111,
              "#46039f"
             ],
             [
              0.2222222222222222,
              "#7201a8"
             ],
             [
              0.3333333333333333,
              "#9c179e"
             ],
             [
              0.4444444444444444,
              "#bd3786"
             ],
             [
              0.5555555555555556,
              "#d8576b"
             ],
             [
              0.6666666666666666,
              "#ed7953"
             ],
             [
              0.7777777777777778,
              "#fb9f3a"
             ],
             [
              0.8888888888888888,
              "#fdca26"
             ],
             [
              1,
              "#f0f921"
             ]
            ],
            "type": "heatmap"
           }
          ],
          "heatmapgl": [
           {
            "colorbar": {
             "outlinewidth": 0,
             "ticks": ""
            },
            "colorscale": [
             [
              0,
              "#0d0887"
             ],
             [
              0.1111111111111111,
              "#46039f"
             ],
             [
              0.2222222222222222,
              "#7201a8"
             ],
             [
              0.3333333333333333,
              "#9c179e"
             ],
             [
              0.4444444444444444,
              "#bd3786"
             ],
             [
              0.5555555555555556,
              "#d8576b"
             ],
             [
              0.6666666666666666,
              "#ed7953"
             ],
             [
              0.7777777777777778,
              "#fb9f3a"
             ],
             [
              0.8888888888888888,
              "#fdca26"
             ],
             [
              1,
              "#f0f921"
             ]
            ],
            "type": "heatmapgl"
           }
          ],
          "histogram": [
           {
            "marker": {
             "pattern": {
              "fillmode": "overlay",
              "size": 10,
              "solidity": 0.2
             }
            },
            "type": "histogram"
           }
          ],
          "histogram2d": [
           {
            "colorbar": {
             "outlinewidth": 0,
             "ticks": ""
            },
            "colorscale": [
             [
              0,
              "#0d0887"
             ],
             [
              0.1111111111111111,
              "#46039f"
             ],
             [
              0.2222222222222222,
              "#7201a8"
             ],
             [
              0.3333333333333333,
              "#9c179e"
             ],
             [
              0.4444444444444444,
              "#bd3786"
             ],
             [
              0.5555555555555556,
              "#d8576b"
             ],
             [
              0.6666666666666666,
              "#ed7953"
             ],
             [
              0.7777777777777778,
              "#fb9f3a"
             ],
             [
              0.8888888888888888,
              "#fdca26"
             ],
             [
              1,
              "#f0f921"
             ]
            ],
            "type": "histogram2d"
           }
          ],
          "histogram2dcontour": [
           {
            "colorbar": {
             "outlinewidth": 0,
             "ticks": ""
            },
            "colorscale": [
             [
              0,
              "#0d0887"
             ],
             [
              0.1111111111111111,
              "#46039f"
             ],
             [
              0.2222222222222222,
              "#7201a8"
             ],
             [
              0.3333333333333333,
              "#9c179e"
             ],
             [
              0.4444444444444444,
              "#bd3786"
             ],
             [
              0.5555555555555556,
              "#d8576b"
             ],
             [
              0.6666666666666666,
              "#ed7953"
             ],
             [
              0.7777777777777778,
              "#fb9f3a"
             ],
             [
              0.8888888888888888,
              "#fdca26"
             ],
             [
              1,
              "#f0f921"
             ]
            ],
            "type": "histogram2dcontour"
           }
          ],
          "mesh3d": [
           {
            "colorbar": {
             "outlinewidth": 0,
             "ticks": ""
            },
            "type": "mesh3d"
           }
          ],
          "parcoords": [
           {
            "line": {
             "colorbar": {
              "outlinewidth": 0,
              "ticks": ""
             }
            },
            "type": "parcoords"
           }
          ],
          "pie": [
           {
            "automargin": true,
            "type": "pie"
           }
          ],
          "scatter": [
           {
            "fillpattern": {
             "fillmode": "overlay",
             "size": 10,
             "solidity": 0.2
            },
            "type": "scatter"
           }
          ],
          "scatter3d": [
           {
            "line": {
             "colorbar": {
              "outlinewidth": 0,
              "ticks": ""
             }
            },
            "marker": {
             "colorbar": {
              "outlinewidth": 0,
              "ticks": ""
             }
            },
            "type": "scatter3d"
           }
          ],
          "scattercarpet": [
           {
            "marker": {
             "colorbar": {
              "outlinewidth": 0,
              "ticks": ""
             }
            },
            "type": "scattercarpet"
           }
          ],
          "scattergeo": [
           {
            "marker": {
             "colorbar": {
              "outlinewidth": 0,
              "ticks": ""
             }
            },
            "type": "scattergeo"
           }
          ],
          "scattergl": [
           {
            "marker": {
             "colorbar": {
              "outlinewidth": 0,
              "ticks": ""
             }
            },
            "type": "scattergl"
           }
          ],
          "scattermapbox": [
           {
            "marker": {
             "colorbar": {
              "outlinewidth": 0,
              "ticks": ""
             }
            },
            "type": "scattermapbox"
           }
          ],
          "scatterpolar": [
           {
            "marker": {
             "colorbar": {
              "outlinewidth": 0,
              "ticks": ""
             }
            },
            "type": "scatterpolar"
           }
          ],
          "scatterpolargl": [
           {
            "marker": {
             "colorbar": {
              "outlinewidth": 0,
              "ticks": ""
             }
            },
            "type": "scatterpolargl"
           }
          ],
          "scatterternary": [
           {
            "marker": {
             "colorbar": {
              "outlinewidth": 0,
              "ticks": ""
             }
            },
            "type": "scatterternary"
           }
          ],
          "surface": [
           {
            "colorbar": {
             "outlinewidth": 0,
             "ticks": ""
            },
            "colorscale": [
             [
              0,
              "#0d0887"
             ],
             [
              0.1111111111111111,
              "#46039f"
             ],
             [
              0.2222222222222222,
              "#7201a8"
             ],
             [
              0.3333333333333333,
              "#9c179e"
             ],
             [
              0.4444444444444444,
              "#bd3786"
             ],
             [
              0.5555555555555556,
              "#d8576b"
             ],
             [
              0.6666666666666666,
              "#ed7953"
             ],
             [
              0.7777777777777778,
              "#fb9f3a"
             ],
             [
              0.8888888888888888,
              "#fdca26"
             ],
             [
              1,
              "#f0f921"
             ]
            ],
            "type": "surface"
           }
          ],
          "table": [
           {
            "cells": {
             "fill": {
              "color": "#EBF0F8"
             },
             "line": {
              "color": "white"
             }
            },
            "header": {
             "fill": {
              "color": "#C8D4E3"
             },
             "line": {
              "color": "white"
             }
            },
            "type": "table"
           }
          ]
         },
         "layout": {
          "annotationdefaults": {
           "arrowcolor": "#2a3f5f",
           "arrowhead": 0,
           "arrowwidth": 1
          },
          "autotypenumbers": "strict",
          "coloraxis": {
           "colorbar": {
            "outlinewidth": 0,
            "ticks": ""
           }
          },
          "colorscale": {
           "diverging": [
            [
             0,
             "#8e0152"
            ],
            [
             0.1,
             "#c51b7d"
            ],
            [
             0.2,
             "#de77ae"
            ],
            [
             0.3,
             "#f1b6da"
            ],
            [
             0.4,
             "#fde0ef"
            ],
            [
             0.5,
             "#f7f7f7"
            ],
            [
             0.6,
             "#e6f5d0"
            ],
            [
             0.7,
             "#b8e186"
            ],
            [
             0.8,
             "#7fbc41"
            ],
            [
             0.9,
             "#4d9221"
            ],
            [
             1,
             "#276419"
            ]
           ],
           "sequential": [
            [
             0,
             "#0d0887"
            ],
            [
             0.1111111111111111,
             "#46039f"
            ],
            [
             0.2222222222222222,
             "#7201a8"
            ],
            [
             0.3333333333333333,
             "#9c179e"
            ],
            [
             0.4444444444444444,
             "#bd3786"
            ],
            [
             0.5555555555555556,
             "#d8576b"
            ],
            [
             0.6666666666666666,
             "#ed7953"
            ],
            [
             0.7777777777777778,
             "#fb9f3a"
            ],
            [
             0.8888888888888888,
             "#fdca26"
            ],
            [
             1,
             "#f0f921"
            ]
           ],
           "sequentialminus": [
            [
             0,
             "#0d0887"
            ],
            [
             0.1111111111111111,
             "#46039f"
            ],
            [
             0.2222222222222222,
             "#7201a8"
            ],
            [
             0.3333333333333333,
             "#9c179e"
            ],
            [
             0.4444444444444444,
             "#bd3786"
            ],
            [
             0.5555555555555556,
             "#d8576b"
            ],
            [
             0.6666666666666666,
             "#ed7953"
            ],
            [
             0.7777777777777778,
             "#fb9f3a"
            ],
            [
             0.8888888888888888,
             "#fdca26"
            ],
            [
             1,
             "#f0f921"
            ]
           ]
          },
          "colorway": [
           "#636efa",
           "#EF553B",
           "#00cc96",
           "#ab63fa",
           "#FFA15A",
           "#19d3f3",
           "#FF6692",
           "#B6E880",
           "#FF97FF",
           "#FECB52"
          ],
          "font": {
           "color": "#2a3f5f"
          },
          "geo": {
           "bgcolor": "white",
           "lakecolor": "white",
           "landcolor": "#E5ECF6",
           "showlakes": true,
           "showland": true,
           "subunitcolor": "white"
          },
          "hoverlabel": {
           "align": "left"
          },
          "hovermode": "closest",
          "mapbox": {
           "style": "light"
          },
          "paper_bgcolor": "white",
          "plot_bgcolor": "#E5ECF6",
          "polar": {
           "angularaxis": {
            "gridcolor": "white",
            "linecolor": "white",
            "ticks": ""
           },
           "bgcolor": "#E5ECF6",
           "radialaxis": {
            "gridcolor": "white",
            "linecolor": "white",
            "ticks": ""
           }
          },
          "scene": {
           "xaxis": {
            "backgroundcolor": "#E5ECF6",
            "gridcolor": "white",
            "gridwidth": 2,
            "linecolor": "white",
            "showbackground": true,
            "ticks": "",
            "zerolinecolor": "white"
           },
           "yaxis": {
            "backgroundcolor": "#E5ECF6",
            "gridcolor": "white",
            "gridwidth": 2,
            "linecolor": "white",
            "showbackground": true,
            "ticks": "",
            "zerolinecolor": "white"
           },
           "zaxis": {
            "backgroundcolor": "#E5ECF6",
            "gridcolor": "white",
            "gridwidth": 2,
            "linecolor": "white",
            "showbackground": true,
            "ticks": "",
            "zerolinecolor": "white"
           }
          },
          "shapedefaults": {
           "line": {
            "color": "#2a3f5f"
           }
          },
          "ternary": {
           "aaxis": {
            "gridcolor": "white",
            "linecolor": "white",
            "ticks": ""
           },
           "baxis": {
            "gridcolor": "white",
            "linecolor": "white",
            "ticks": ""
           },
           "bgcolor": "#E5ECF6",
           "caxis": {
            "gridcolor": "white",
            "linecolor": "white",
            "ticks": ""
           }
          },
          "title": {
           "x": 0.05
          },
          "xaxis": {
           "automargin": true,
           "gridcolor": "white",
           "linecolor": "white",
           "ticks": "",
           "title": {
            "standoff": 15
           },
           "zerolinecolor": "white",
           "zerolinewidth": 2
          },
          "yaxis": {
           "automargin": true,
           "gridcolor": "white",
           "linecolor": "white",
           "ticks": "",
           "title": {
            "standoff": 15
           },
           "zerolinecolor": "white",
           "zerolinewidth": 2
          }
         }
        },
        "xaxis": {
         "autorange": true,
         "range": [
          -12.285101023797843,
          7.7772419715996985
         ],
         "type": "linear"
        },
        "yaxis": {
         "autorange": true,
         "range": [
          -0.1650485436893204,
          2.1650485436893203
         ],
         "type": "linear"
        }
       }
      },
      "image/png": "[encoded data removed]",
      "text/html": [
       "<div>                            <div id=\"5d81a5b3-f206-4bde-8f02-5080451de166\" class=\"plotly-graph-div\" style=\"height:525px; width:100%;\"></div>            <script type=\"text/javascript\">                require([\"plotly\"], function(Plotly) {                    window.PLOTLYENV=window.PLOTLYENV || {};                                    if (document.getElementById(\"5d81a5b3-f206-4bde-8f02-5080451de166\")) {                    Plotly.newPlot(                        \"5d81a5b3-f206-4bde-8f02-5080451de166\",                        [{\"marker\":{\"color\":\"blue\"},\"mode\":\"markers\",\"name\":\"class 1\",\"x\":[6.638078192114197,-5.603077393760565,5.50125924904518,-5.751309272673517,2.48962352843296,4.477586198209794],\"y\":[2.0,1.0,2.0,0.0,1.0,2.0],\"type\":\"scatter\"},{\"marker\":{\"color\":\"red\"},\"mode\":\"markers\",\"name\":\"class 0\",\"x\":[-11.145937244312341,-10.223512827300151,0.730815258649357,-10.056343504526911],\"y\":[0.1,0.1,1.1,0.1],\"type\":\"scatter\"}],                        {\"template\":{\"data\":{\"histogram2dcontour\":[{\"type\":\"histogram2dcontour\",\"colorbar\":{\"outlinewidth\":0,\"ticks\":\"\"},\"colorscale\":[[0.0,\"#0d0887\"],[0.1111111111111111,\"#46039f\"],[0.2222222222222222,\"#7201a8\"],[0.3333333333333333,\"#9c179e\"],[0.4444444444444444,\"#bd3786\"],[0.5555555555555556,\"#d8576b\"],[0.6666666666666666,\"#ed7953\"],[0.7777777777777778,\"#fb9f3a\"],[0.8888888888888888,\"#fdca26\"],[1.0,\"#f0f921\"]]}],\"choropleth\":[{\"type\":\"choropleth\",\"colorbar\":{\"outlinewidth\":0,\"ticks\":\"\"}}],\"histogram2d\":[{\"type\":\"histogram2d\",\"colorbar\":{\"outlinewidth\":0,\"ticks\":\"\"},\"colorscale\":[[0.0,\"#0d0887\"],[0.1111111111111111,\"#46039f\"],[0.2222222222222222,\"#7201a8\"],[0.3333333333333333,\"#9c179e\"],[0.4444444444444444,\"#bd3786\"],[0.5555555555555556,\"#d8576b\"],[0.6666666666666666,\"#ed7953\"],[0.7777777777777778,\"#fb9f3a\"],[0.8888888888888888,\"#fdca26\"],[1.0,\"#f0f921\"]]}],\"heatmap\":[{\"type\":\"heatmap\",\"colorbar\":{\"outlinewidth\":0,\"ticks\":\"\"},\"colorscale\":[[0.0,\"#0d0887\"],[0.1111111111111111,\"#46039f\"],[0.2222222222222222,\"#7201a8\"],[0.3333333333333333,\"#9c179e\"],[0.4444444444444444,\"#bd3786\"],[0.5555555555555556,\"#d8576b\"],[0.6666666666666666,\"#ed7953\"],[0.7777777777777778,\"#fb9f3a\"],[0.8888888888888888,\"#fdca26\"],[1.0,\"#f0f921\"]]}],\"heatmapgl\":[{\"type\":\"heatmapgl\",\"colorbar\":{\"outlinewidth\":0,\"ticks\":\"\"},\"colorscale\":[[0.0,\"#0d0887\"],[0.1111111111111111,\"#46039f\"],[0.2222222222222222,\"#7201a8\"],[0.3333333333333333,\"#9c179e\"],[0.4444444444444444,\"#bd3786\"],[0.5555555555555556,\"#d8576b\"],[0.6666666666666666,\"#ed7953\"],[0.7777777777777778,\"#fb9f3a\"],[0.8888888888888888,\"#fdca26\"],[1.0,\"#f0f921\"]]}],\"contourcarpet\":[{\"type\":\"contourcarpet\",\"colorbar\":{\"outlinewidth\":0,\"ticks\":\"\"}}],\"contour\":[{\"type\":\"contour\",\"colorbar\":{\"outlinewidth\":0,\"ticks\":\"\"},\"colorscale\":[[0.0,\"#0d0887\"],[0.1111111111111111,\"#46039f\"],[0.2222222222222222,\"#7201a8\"],[0.3333333333333333,\"#9c179e\"],[0.4444444444444444,\"#bd3786\"],[0.5555555555555556,\"#d8576b\"],[0.6666666666666666,\"#ed7953\"],[0.7777777777777778,\"#fb9f3a\"],[0.8888888888888888,\"#fdca26\"],[1.0,\"#f0f921\"]]}],\"surface\":[{\"type\":\"surface\",\"colorbar\":{\"outlinewidth\":0,\"ticks\":\"\"},\"colorscale\":[[0.0,\"#0d0887\"],[0.1111111111111111,\"#46039f\"],[0.2222222222222222,\"#7201a8\"],[0.3333333333333333,\"#9c179e\"],[0.4444444444444444,\"#bd3786\"],[0.5555555555555556,\"#d8576b\"],[0.6666666666666666,\"#ed7953\"],[0.7777777777777778,\"#fb9f3a\"],[0.8888888888888888,\"#fdca26\"],[1.0,\"#f0f921\"]]}],\"mesh3d\":[{\"type\":\"mesh3d\",\"colorbar\":{\"outlinewidth\":0,\"ticks\":\"\"}}],\"scatter\":[{\"fillpattern\":{\"fillmode\":\"overlay\",\"size\":10,\"solidity\":0.2},\"type\":\"scatter\"}],\"parcoords\":[{\"type\":\"parcoords\",\"line\":{\"colorbar\":{\"outlinewidth\":0,\"ticks\":\"\"}}}],\"scatterpolargl\":[{\"type\":\"scatterpolargl\",\"marker\":{\"colorbar\":{\"outlinewidth\":0,\"ticks\":\"\"}}}],\"bar\":[{\"error_x\":{\"color\":\"#2a3f5f\"},\"error_y\":{\"color\":\"#2a3f5f\"},\"marker\":{\"line\":{\"color\":\"#E5ECF6\",\"width\":0.5},\"pattern\":{\"fillmode\":\"overlay\",\"size\":10,\"solidity\":0.2}},\"type\":\"bar\"}],\"scattergeo\":[{\"type\":\"scattergeo\",\"marker\":{\"colorbar\":{\"outlinewidth\":0,\"ticks\":\"\"}}}],\"scatterpolar\":[{\"type\":\"scatterpolar\",\"marker\":{\"colorbar\":{\"outlinewidth\":0,\"ticks\":\"\"}}}],\"histogram\":[{\"marker\":{\"pattern\":{\"fillmode\":\"overlay\",\"size\":10,\"solidity\":0.2}},\"type\":\"histogram\"}],\"scattergl\":[{\"type\":\"scattergl\",\"marker\":{\"colorbar\":{\"outlinewidth\":0,\"ticks\":\"\"}}}],\"scatter3d\":[{\"type\":\"scatter3d\",\"line\":{\"colorbar\":{\"outlinewidth\":0,\"ticks\":\"\"}},\"marker\":{\"colorbar\":{\"outlinewidth\":0,\"ticks\":\"\"}}}],\"scattermapbox\":[{\"type\":\"scattermapbox\",\"marker\":{\"colorbar\":{\"outlinewidth\":0,\"ticks\":\"\"}}}],\"scatterternary\":[{\"type\":\"scatterternary\",\"marker\":{\"colorbar\":{\"outlinewidth\":0,\"ticks\":\"\"}}}],\"scattercarpet\":[{\"type\":\"scattercarpet\",\"marker\":{\"colorbar\":{\"outlinewidth\":0,\"ticks\":\"\"}}}],\"carpet\":[{\"aaxis\":{\"endlinecolor\":\"#2a3f5f\",\"gridcolor\":\"white\",\"linecolor\":\"white\",\"minorgridcolor\":\"white\",\"startlinecolor\":\"#2a3f5f\"},\"baxis\":{\"endlinecolor\":\"#2a3f5f\",\"gridcolor\":\"white\",\"linecolor\":\"white\",\"minorgridcolor\":\"white\",\"startlinecolor\":\"#2a3f5f\"},\"type\":\"carpet\"}],\"table\":[{\"cells\":{\"fill\":{\"color\":\"#EBF0F8\"},\"line\":{\"color\":\"white\"}},\"header\":{\"fill\":{\"color\":\"#C8D4E3\"},\"line\":{\"color\":\"white\"}},\"type\":\"table\"}],\"barpolar\":[{\"marker\":{\"line\":{\"color\":\"#E5ECF6\",\"width\":0.5},\"pattern\":{\"fillmode\":\"overlay\",\"size\":10,\"solidity\":0.2}},\"type\":\"barpolar\"}],\"pie\":[{\"automargin\":true,\"type\":\"pie\"}]},\"layout\":{\"autotypenumbers\":\"strict\",\"colorway\":[\"#636efa\",\"#EF553B\",\"#00cc96\",\"#ab63fa\",\"#FFA15A\",\"#19d3f3\",\"#FF6692\",\"#B6E880\",\"#FF97FF\",\"#FECB52\"],\"font\":{\"color\":\"#2a3f5f\"},\"hovermode\":\"closest\",\"hoverlabel\":{\"align\":\"left\"},\"paper_bgcolor\":\"white\",\"plot_bgcolor\":\"#E5ECF6\",\"polar\":{\"bgcolor\":\"#E5ECF6\",\"angularaxis\":{\"gridcolor\":\"white\",\"linecolor\":\"white\",\"ticks\":\"\"},\"radialaxis\":{\"gridcolor\":\"white\",\"linecolor\":\"white\",\"ticks\":\"\"}},\"ternary\":{\"bgcolor\":\"#E5ECF6\",\"aaxis\":{\"gridcolor\":\"white\",\"linecolor\":\"white\",\"ticks\":\"\"},\"baxis\":{\"gridcolor\":\"white\",\"linecolor\":\"white\",\"ticks\":\"\"},\"caxis\":{\"gridcolor\":\"white\",\"linecolor\":\"white\",\"ticks\":\"\"}},\"coloraxis\":{\"colorbar\":{\"outlinewidth\":0,\"ticks\":\"\"}},\"colorscale\":{\"sequential\":[[0.0,\"#0d0887\"],[0.1111111111111111,\"#46039f\"],[0.2222222222222222,\"#7201a8\"],[0.3333333333333333,\"#9c179e\"],[0.4444444444444444,\"#bd3786\"],[0.5555555555555556,\"#d8576b\"],[0.6666666666666666,\"#ed7953\"],[0.7777777777777778,\"#fb9f3a\"],[0.8888888888888888,\"#fdca26\"],[1.0,\"#f0f921\"]],\"sequentialminus\":[[0.0,\"#0d0887\"],[0.1111111111111111,\"#46039f\"],[0.2222222222222222,\"#7201a8\"],[0.3333333333333333,\"#9c179e\"],[0.4444444444444444,\"#bd3786\"],[0.5555555555555556,\"#d8576b\"],[0.6666666666666666,\"#ed7953\"],[0.7777777777777778,\"#fb9f3a\"],[0.8888888888888888,\"#fdca26\"],[1.0,\"#f0f921\"]],\"diverging\":[[0,\"#8e0152\"],[0.1,\"#c51b7d\"],[0.2,\"#de77ae\"],[0.3,\"#f1b6da\"],[0.4,\"#fde0ef\"],[0.5,\"#f7f7f7\"],[0.6,\"#e6f5d0\"],[0.7,\"#b8e186\"],[0.8,\"#7fbc41\"],[0.9,\"#4d9221\"],[1,\"#276419\"]]},\"xaxis\":{\"gridcolor\":\"white\",\"linecolor\":\"white\",\"ticks\":\"\",\"title\":{\"standoff\":15},\"zerolinecolor\":\"white\",\"automargin\":true,\"zerolinewidth\":2},\"yaxis\":{\"gridcolor\":\"white\",\"linecolor\":\"white\",\"ticks\":\"\",\"title\":{\"standoff\":15},\"zerolinecolor\":\"white\",\"automargin\":true,\"zerolinewidth\":2},\"scene\":{\"xaxis\":{\"backgroundcolor\":\"#E5ECF6\",\"gridcolor\":\"white\",\"linecolor\":\"white\",\"showbackground\":true,\"ticks\":\"\",\"zerolinecolor\":\"white\",\"gridwidth\":2},\"yaxis\":{\"backgroundcolor\":\"#E5ECF6\",\"gridcolor\":\"white\",\"linecolor\":\"white\",\"showbackground\":true,\"ticks\":\"\",\"zerolinecolor\":\"white\",\"gridwidth\":2},\"zaxis\":{\"backgroundcolor\":\"#E5ECF6\",\"gridcolor\":\"white\",\"linecolor\":\"white\",\"showbackground\":true,\"ticks\":\"\",\"zerolinecolor\":\"white\",\"gridwidth\":2}},\"shapedefaults\":{\"line\":{\"color\":\"#2a3f5f\"}},\"annotationdefaults\":{\"arrowcolor\":\"#2a3f5f\",\"arrowhead\":0,\"arrowwidth\":1},\"geo\":{\"bgcolor\":\"white\",\"landcolor\":\"#E5ECF6\",\"subunitcolor\":\"white\",\"showland\":true,\"showlakes\":true,\"lakecolor\":\"white\"},\"title\":{\"x\":0.05},\"mapbox\":{\"style\":\"light\"}}}},                        {\"responsive\": true}                    ).then(function(){\n",
       "                            \n",
       "var gd = document.getElementById('5d81a5b3-f206-4bde-8f02-5080451de166');\n",
       "var x = new MutationObserver(function (mutations, observer) {{\n",
       "        var display = window.getComputedStyle(gd).display;\n",
       "        if (!display || display === 'none') {{\n",
       "            console.log([gd, 'removed!']);\n",
       "            Plotly.purge(gd);\n",
       "            observer.disconnect();\n",
       "        }}\n",
       "}});\n",
       "\n",
       "// Listen for the removal of the full notebook cells\n",
       "var notebookContainer = gd.closest('#notebook-container');\n",
       "if (notebookContainer) {{\n",
       "    x.observe(notebookContainer, {childList: true});\n",
       "}}\n",
       "\n",
       "// Listen for the clearing of the current output cell\n",
       "var outputEl = gd.closest('.output');\n",
       "if (outputEl) {{\n",
       "    x.observe(outputEl, {childList: true});\n",
       "}}\n",
       "\n",
       "                        })                };                });            </script>        </div>"
      ]
     },
     "metadata": {},
     "output_type": "display_data"
    }
   ],
   "source": [
    "np.random.seed(423542)\n",
    "\n",
    "def default_applyer(blob_index):\n",
    "    if blob_index == 0:\n",
    "        return np.random.choice([1, 0], 1, p=[0.1, 0.9])[0]\n",
    "    if blob_index == 1:\n",
    "        return np.random.choice([1, 0], 1, p=[0.5, 0.5])[0]\n",
    "    if blob_index == 2:\n",
    "        return np.random.choice([1, 0], 1, p=[0.9, 0.1])[0]\n",
    "    \n",
    "example_data[\"class2\"] = example_data['blob'].apply(default_applyer)\n",
    "\n",
    "two_classes_fig = blobs_with_classes_scatter(\n",
    "    example_data, fig = go.Figure(), \n",
    "    class_var = 'class2')\n",
    "two_classes_fig.show()"
   ]
  },
  {
   "cell_type": "markdown",
   "id": "6b51faa9-23b5-4ca8-a123-0766cefab750",
   "metadata": {},
   "source": [
    "# Three classes"
   ]
  },
  {
   "cell_type": "code",
   "execution_count": 5,
   "id": "3c48b6b6-9704-4f4c-976f-3dc89283668c",
   "metadata": {},
   "outputs": [
    {
     "data": {
      "application/vnd.plotly.v1+json": {
       "config": {
        "plotlyServerURL": "https://plot.ly"
       },
       "data": [
        {
         "marker": {
          "color": "red"
         },
         "mode": "markers",
         "name": "class 1",
         "type": "scatter",
         "x": [
          0.20463856059125796,
          1.7775587927405367,
          -13.120281418995308,
          0.6491692500669148,
          -1.5083597352147367,
          -0.16539599005027494,
          4.056651413612796,
          0.6219033456071115,
          0.24360700861114482,
          8.395661683442501,
          -2.5638233653736013,
          -0.8381457980534428,
          0.34942305137594465,
          5.170306197423529,
          -0.3894659195119785,
          -9.23810837554962,
          -12.715963728893504,
          0.12552219323805258,
          -1.996427127262156,
          5.789310574984916,
          -3.089178763815583,
          2.9224135085107137,
          -9.151143426042111,
          5.649082062676495,
          -8.629687165032113,
          2.095789425509535,
          -8.1930167164184,
          0.569541302031179,
          0.2421654016780168,
          -0.4470013903556327,
          -0.5729321973291164,
          7.0308276035664825,
          -0.14094771995607103,
          1.8150800004824572,
          0.6720094388685376,
          -1.5746157269520378,
          0.751677855298599,
          5.436527461868774,
          1.464506141656872,
          -4.301442531648201,
          -9.049233911751557,
          -2.5945395709862593,
          -0.7811946071491437,
          -0.6456245594480792,
          -7.898925008047569,
          -3.6639033330344963,
          -2.199609062141695,
          2.584316417951134,
          -7.32203317225099,
          0.5176113201958619,
          1.7996878849619717,
          -1.875017965657162,
          -6.58617000029308,
          3.8987372981227946,
          -9.593282304741725,
          -4.799489727042316,
          -10.240001687896259,
          -2.9108505247473784,
          -2.3613562820177716,
          3.7702578952681263,
          8.23626679343539,
          -6.494263689533424,
          -2.411681014804568,
          9.669435253299373,
          -1.2208940528346326,
          -4.348391615237864,
          0.006369626870652123,
          2.841687429211069,
          -9.894257129571997,
          -6.452488139682447,
          -10.871538868518137,
          -4.792721845782185,
          -3.232940035769489,
          -5.744698493702187,
          5.762457655793821,
          -9.704499692987037,
          -0.596339642251992,
          -7.958847325853259,
          -0.43050377830188413,
          -10.69041128299744,
          -4.254876681232515,
          -2.660343790630228,
          5.154286077218449,
          2.8093174166819623,
          4.1321706887469976,
          -1.3976757257777934,
          6.3125277005401665,
          -0.7417968405785491,
          -2.4665432077906257,
          -1.3731579870229327,
          -1.6219699566057018,
          -3.94231385166525,
          -7.634897186271029,
          -0.5146611178364109,
          2.8750576272321595,
          1.92559754863841,
          3.102346885714889,
          -0.4386698457547219,
          -1.1462254074945555,
          4.428932006159529,
          -9.62023354703612,
          -10.775257928169673,
          5.527126096374027,
          -3.238230797119456,
          -1.1690160548092596,
          5.609885318248198,
          8.208348652606427,
          -1.49726955543092,
          -3.793240849190864,
          6.070720194109515,
          -1.8017563835778532,
          -3.611453845115475,
          1.385372135509387,
          -2.451194238268855,
          -11.792992670976275,
          -2.722632721552084,
          -2.754563037836377,
          -4.521377120797567,
          -0.9669448653887688,
          -1.6529989961563685,
          2.2338991977146003,
          1.2446566433141846,
          -3.88175204858368,
          1.4041097243994116,
          -6.732461115329125,
          -5.960366367155602,
          -6.710552580320772,
          -0.7319036068907537,
          3.784574995430895,
          -8.00957735204408,
          -9.698685444825754,
          -2.173047877643185,
          -7.414386268161305,
          1.5258269777750586,
          1.715066541845263,
          1.8115043675543756,
          -3.4737067530827948,
          7.741939605064484,
          7.348792209641738,
          -6.527671939094359,
          -2.293833376509816,
          -1.6396031977973424,
          -2.994039591059365,
          -0.7875545519295644,
          -1.2135879735584503,
          -8.661235133882665,
          -0.26101456724855254,
          -0.9732946473056469,
          7.706562443911245,
          -0.8784996084009865,
          1.5864517650645236,
          7.217029396969699,
          -0.2673359709198835,
          0.7698176289297667,
          -0.15943559270588092,
          8.91621647721904,
          2.0867182216089675,
          7.057759491170348,
          7.443422584225385,
          -1.4526284850272104,
          -1.2719546522011786,
          3.1315666404376685,
          -0.4346485755031595,
          -3.4662414708928533,
          -0.5185258155245356
         ],
         "y": [
          1,
          1,
          0,
          1,
          1,
          1,
          1,
          1,
          1,
          2,
          1,
          1,
          1,
          2,
          1,
          0,
          0,
          1,
          1,
          2,
          1,
          2,
          0,
          2,
          0,
          2,
          0,
          1,
          1,
          1,
          1,
          2,
          1,
          1,
          1,
          1,
          1,
          2,
          1,
          1,
          0,
          1,
          1,
          1,
          0,
          1,
          1,
          1,
          0,
          1,
          1,
          1,
          1,
          1,
          0,
          0,
          0,
          1,
          1,
          2,
          2,
          0,
          1,
          2,
          1,
          1,
          1,
          2,
          0,
          0,
          0,
          1,
          1,
          0,
          2,
          0,
          1,
          0,
          1,
          0,
          1,
          1,
          2,
          1,
          2,
          1,
          2,
          1,
          1,
          1,
          1,
          1,
          0,
          1,
          1,
          2,
          1,
          1,
          1,
          2,
          0,
          0,
          2,
          1,
          1,
          2,
          2,
          1,
          1,
          2,
          1,
          1,
          1,
          1,
          0,
          1,
          1,
          1,
          1,
          1,
          1,
          1,
          1,
          1,
          0,
          0,
          0,
          1,
          2,
          0,
          0,
          1,
          0,
          2,
          2,
          2,
          1,
          2,
          2,
          0,
          1,
          1,
          1,
          1,
          1,
          0,
          1,
          1,
          2,
          1,
          1,
          2,
          1,
          1,
          1,
          2,
          1,
          2,
          2,
          1,
          1,
          1,
          1,
          1,
          1
         ]
        },
        {
         "marker": {
          "color": "blue"
         },
         "mode": "markers",
         "name": "class 2",
         "type": "scatter",
         "x": [
          4.1631199233999485,
          5.312198581579215,
          -11.244037457493777,
          5.964563364179716,
          0.6480112369008153,
          6.9025680320803415,
          4.655103922426807,
          -6.550984590389002,
          3.381399457939467,
          0.802973783297422,
          7.589056479202164,
          4.925553952249324,
          -6.757164583528672,
          -9.76810870933683,
          4.5552161891716985,
          7.030147227278731,
          9.530670201038143,
          -7.137795837392885,
          -1.5947237655470072,
          -10.994053655300526,
          6.647054707202864,
          0.3180995922004204,
          -1.4616794862709388,
          7.455626999999298,
          4.355065622191496,
          7.841230236109912,
          8.557056165683443,
          5.041630169745188,
          2.909756150018069,
          5.1042096305677624,
          5.102523934656754,
          5.04168580242784,
          8.020254354669449,
          2.444867248388025,
          4.749315997068024,
          -1.7488766376864413,
          -13.044402431648006,
          10.10924820503623,
          6.900311025534358,
          8.231682215848338,
          1.2287659535595838,
          -10.223512827300151,
          1.2468243240438706,
          8.089988819347795,
          7.18494560284804,
          7.1287657109886275,
          7.610786848464363,
          6.955220363635115,
          4.465380347336531,
          -9.077391018532103,
          8.067373735879002,
          1.3206771399875392,
          4.196731019048004,
          4.297088686938347,
          2.1176110812397186,
          -0.015326888126702354,
          6.9332865344576815,
          -4.6260407060514845,
          -7.24766215776755,
          5.861342606619035,
          -8.24487242735816,
          -0.3729045590731357,
          -10.207841255586514,
          8.080178306308191,
          3.6480346571173694,
          8.700213637363452,
          9.579509366412543,
          0.6500596488779717,
          10.221210107201419,
          0.8429001373190228,
          -3.4394887939580654,
          5.78321586565292,
          0.23707826157258638,
          -8.618169030665069,
          -11.288682779246285,
          -3.3646362530192673,
          4.597311147485646,
          7.840035866495526,
          8.921784760926156,
          10.275656134878965,
          2.6210698282509126,
          6.648548486896842,
          -0.12366730541752502,
          -9.596185670205431,
          5.1739413805779355,
          -0.4750651090734628,
          9.535919896622053,
          5.337433660134743,
          -9.025329197837802,
          10.112711046396587,
          -7.198288101471176,
          0.24672435315606545,
          -2.1246108620381796,
          4.983085731449199,
          9.73294275030425,
          3.146889158958936,
          7.349141413912007,
          5.23033550233442,
          6.9022458774691975,
          5.115541440973654,
          4.885010556427913,
          7.878337488392976,
          -8.117271112862836,
          3.9996616202549684,
          5.049254249724036,
          1.6629142251751836,
          8.001762847360602,
          -2.234724127424722,
          -11.888227610859179,
          2.253678044729397,
          -1.689974420309959,
          7.554838410497726,
          9.226722749126232,
          2.4881487195342964,
          8.902858521181871,
          3.386931854311963,
          0.3091603051734009,
          -5.6803956457802585,
          -10.374345400239198,
          6.903892074642446,
          5.900594841682648,
          6.172928813048575,
          -10.367455718348666,
          8.293800752798965,
          5.794225564852924,
          5.250390625394695,
          -10.342492261673637,
          -1.240929143577015,
          7.42957919497163,
          6.903231901110483,
          7.705408123450573,
          -7.5188870978074505,
          6.734463627767729,
          5.1417154435298125,
          5.651639311384018,
          -2.6521948636946404,
          -2.3893871905744524,
          4.5000607654486675,
          8.197992665494358,
          -8.845319863302882,
          5.780017019672786,
          -11.189823691482083,
          6.700334317656558,
          6.043725673253105,
          -6.741032184176161,
          5.062652367444217,
          4.339662271954584,
          3.1953417090937264,
          4.444282346745174,
          0.1718208622052313,
          6.620544575567535,
          -7.826753617635605,
          -5.615090797944507,
          -0.5777504899845665,
          -10.755716835842744,
          4.342744042287189,
          7.260391341369822,
          2.912157807407284,
          3.9562281107173813,
          -4.0513606324587155,
          6.01709789087205,
          5.176721673623035,
          -8.531168604365815,
          0.9871186946478776,
          -10.522413801790206
         ],
         "y": [
          2.1,
          2.1,
          0.1,
          2.1,
          1.1,
          2.1,
          2.1,
          0.1,
          1.1,
          1.1,
          2.1,
          2.1,
          0.1,
          0.1,
          2.1,
          2.1,
          2.1,
          0.1,
          1.1,
          0.1,
          2.1,
          1.1,
          1.1,
          2.1,
          2.1,
          2.1,
          2.1,
          2.1,
          1.1,
          2.1,
          2.1,
          2.1,
          2.1,
          2.1,
          2.1,
          1.1,
          0.1,
          2.1,
          2.1,
          2.1,
          1.1,
          0.1,
          1.1,
          2.1,
          2.1,
          2.1,
          2.1,
          2.1,
          2.1,
          0.1,
          2.1,
          1.1,
          2.1,
          2.1,
          1.1,
          1.1,
          2.1,
          0.1,
          0.1,
          2.1,
          0.1,
          1.1,
          0.1,
          2.1,
          2.1,
          2.1,
          2.1,
          1.1,
          2.1,
          1.1,
          1.1,
          2.1,
          1.1,
          0.1,
          0.1,
          1.1,
          2.1,
          2.1,
          2.1,
          2.1,
          1.1,
          2.1,
          1.1,
          0.1,
          2.1,
          1.1,
          2.1,
          2.1,
          0.1,
          2.1,
          0.1,
          1.1,
          1.1,
          2.1,
          2.1,
          2.1,
          2.1,
          2.1,
          2.1,
          2.1,
          2.1,
          2.1,
          0.1,
          2.1,
          2.1,
          1.1,
          2.1,
          1.1,
          0.1,
          2.1,
          1.1,
          2.1,
          2.1,
          2.1,
          2.1,
          2.1,
          1.1,
          0.1,
          0.1,
          2.1,
          2.1,
          2.1,
          0.1,
          2.1,
          2.1,
          2.1,
          0.1,
          1.1,
          2.1,
          2.1,
          2.1,
          0.1,
          2.1,
          2.1,
          2.1,
          1.1,
          1.1,
          2.1,
          2.1,
          0.1,
          2.1,
          0.1,
          2.1,
          2.1,
          0.1,
          2.1,
          2.1,
          2.1,
          2.1,
          1.1,
          2.1,
          0.1,
          0.1,
          1.1,
          0.1,
          2.1,
          2.1,
          1.1,
          2.1,
          1.1,
          2.1,
          2.1,
          0.1,
          2.1,
          0.1
         ]
        },
        {
         "marker": {
          "color": "yellow"
         },
         "mode": "markers",
         "name": "class 0",
         "type": "scatter",
         "x": [
          -8.369681215915417,
          -10.008931725892902,
          -11.746234640493512,
          -11.145937244312341,
          5.663602320510568,
          -10.277460814908444,
          -7.39627793625731,
          -8.934770906613283,
          -7.834369572568356,
          -1.4758838715043652,
          -8.756357458017126,
          -8.759682095036741,
          5.542468342259675,
          -13.603077393760564,
          0.17132400034476492,
          1.2221133971210092,
          -7.273309364911957,
          -10.508795881993306,
          -11.234620697270556,
          -10.383321503450619,
          -9.344856415100871,
          -8.898384490447942,
          3.6796597900354477,
          6.152760960319184,
          -7.307678704829933,
          -6.922350796281172,
          -10.719031881663973,
          -9.532437012007245,
          4.7639263046368425,
          2.245698171908002,
          7.681723116282208,
          -9.361840604156301,
          -1.406788897929117,
          -2.3226884863060375,
          -11.460116271333924,
          -1.5581954430865805,
          -11.624566822474863,
          4.933959347832801,
          -8.502401677224459,
          -7.515911678845329,
          5.619557949830277,
          -2.761155199688342,
          -9.401516137859995,
          7.235971067840669,
          -7.262227685988265,
          -7.475977639375951,
          -8.182198924126345,
          -10.90740120361587,
          -9.417788466749556,
          -2.2139967964000924,
          -11.398536064670372,
          -9.644834408027014,
          -6.736741225097147,
          -7.4991767202699835,
          4.610158197629522,
          -7.765593780585162,
          -7.941069351294582,
          1.1729939976524246,
          -11.199782534628062,
          5.768029629055207,
          7.169293220954852,
          -7.995011322196263,
          0.5900521888496895,
          -10.247061459359584,
          5.929264150242578,
          -8.679925861104339,
          6.034329452748177,
          -7.1968185588144085,
          8.465798384752475,
          -1.8699133659104554,
          1.771672156166348,
          -7.763239476002951,
          -5.751309272673517,
          -8.428825349491483,
          -8.153011291871774,
          -10.273991293138707,
          -9.38367110472323,
          -6.602164240196986,
          -8.399659360088345,
          5.63164734869251,
          1.0888841894145176,
          -8.535010881642524,
          -9.444656285220718,
          -8.539810529271232,
          -0.9126620136432217,
          -0.8091498256174846,
          0.43493106469415466,
          -10.056343504526911,
          -5.5103764715670405,
          -9.20349174505829,
          -10.550323238338319,
          6.106819073596696,
          0.005481763999808598,
          -8.62687721802343,
          -8.361921807885803,
          2.6318800282635255,
          2.1133531886632944,
          -1.8863438614012755,
          -13.869675528214277,
          -7.974140359163982,
          -12.23154470940659,
          -9.245780451037296,
          2.114821637047089,
          -9.200310466567,
          -9.687707351142151,
          -7.603935931855562,
          0.9122434082493929,
          -8.179896705583488,
          -9.612408025256745,
          -2.4007970098425093,
          -7.269184741350643,
          -9.750569900180228,
          -2.735537355247181,
          -8.912806286331506,
          -4.628849186933677,
          -5.065796501490531,
          -7.229717671458544,
          8.231403605568973,
          -3.685351578754872,
          6.773078290266183,
          -7.027329624357516,
          -8.761982708385082,
          -9.272889487792066,
          -1.1136489617716947,
          -7.344050714785507,
          9.520498452898186,
          -10.494316587501675,
          -11.201238354425843,
          -8.915572506568815,
          -8.36873010551679,
          1.3105757721764504,
          -9.373139543814698,
          -8.844357744174587,
          -8.965181183399991,
          -7.812842953525866,
          -9.49874075095482,
          6.704988728738666,
          -6.075784125910052,
          -8.323976606851048,
          5.061714224744061,
          -8.298908042671785,
          -8.022963706925006,
          0.3601396797562091,
          -7.939289066523628,
          -8.90686540315171,
          7.617688720531364,
          -9.349406319485002,
          -2.0915483359651352,
          -3.5451175104919885,
          6.922328199954035,
          5.6020036323925515,
          0.3220405751973858,
          9.409188342744814,
          -1.1023768952153283,
          -10.341324572578062,
          -1.0037829656760073,
          -8.724597580005227,
          5.87869501645038,
          -2.781111168326097,
          -2.331509036398253,
          -2.7355744457458515,
          -9.535776159252032,
          4.935531958203645,
          -11.28503639604428,
          4.812313865490981,
          8.416912657103925,
          -10.034188915840456,
          5.162124204643754,
          -9.793507053711954,
          -8.603400559746461
         ],
         "y": [
          0.2,
          0.2,
          0.2,
          0.2,
          2.2,
          0.2,
          0.2,
          0.2,
          0.2,
          1.2,
          0.2,
          0.2,
          2.2,
          0.2,
          1.2,
          1.2,
          0.2,
          0.2,
          0.2,
          0.2,
          0.2,
          0.2,
          2.2,
          2.2,
          0.2,
          0.2,
          0.2,
          0.2,
          2.2,
          1.2,
          2.2,
          0.2,
          1.2,
          1.2,
          0.2,
          1.2,
          0.2,
          2.2,
          0.2,
          0.2,
          2.2,
          1.2,
          0.2,
          2.2,
          0.2,
          0.2,
          0.2,
          0.2,
          0.2,
          1.2,
          0.2,
          0.2,
          0.2,
          0.2,
          2.2,
          0.2,
          0.2,
          2.2,
          0.2,
          2.2,
          2.2,
          0.2,
          1.2,
          0.2,
          2.2,
          0.2,
          2.2,
          0.2,
          2.2,
          1.2,
          2.2,
          0.2,
          0.2,
          0.2,
          0.2,
          0.2,
          0.2,
          0.2,
          0.2,
          2.2,
          1.2,
          0.2,
          0.2,
          0.2,
          1.2,
          1.2,
          2.2,
          0.2,
          0.2,
          0.2,
          0.2,
          2.2,
          1.2,
          0.2,
          0.2,
          2.2,
          2.2,
          1.2,
          0.2,
          0.2,
          0.2,
          0.2,
          2.2,
          0.2,
          0.2,
          0.2,
          1.2,
          0.2,
          0.2,
          1.2,
          0.2,
          0.2,
          1.2,
          0.2,
          0.2,
          0.2,
          0.2,
          2.2,
          1.2,
          2.2,
          0.2,
          0.2,
          0.2,
          1.2,
          0.2,
          2.2,
          0.2,
          0.2,
          0.2,
          0.2,
          1.2,
          0.2,
          0.2,
          0.2,
          0.2,
          0.2,
          2.2,
          0.2,
          0.2,
          1.2,
          0.2,
          0.2,
          1.2,
          0.2,
          0.2,
          2.2,
          0.2,
          1.2,
          1.2,
          2.2,
          2.2,
          1.2,
          2.2,
          1.2,
          0.2,
          1.2,
          0.2,
          2.2,
          1.2,
          1.2,
          1.2,
          0.2,
          2.2,
          0.2,
          2.2,
          2.2,
          0.2,
          2.2,
          0.2,
          0.2
         ]
        }
       ],
       "layout": {
        "autosize": true,
        "template": {
         "data": {
          "bar": [
           {
            "error_x": {
             "color": "#2a3f5f"
            },
            "error_y": {
             "color": "#2a3f5f"
            },
            "marker": {
             "line": {
              "color": "#E5ECF6",
              "width": 0.5
             },
             "pattern": {
              "fillmode": "overlay",
              "size": 10,
              "solidity": 0.2
             }
            },
            "type": "bar"
           }
          ],
          "barpolar": [
           {
            "marker": {
             "line": {
              "color": "#E5ECF6",
              "width": 0.5
             },
             "pattern": {
              "fillmode": "overlay",
              "size": 10,
              "solidity": 0.2
             }
            },
            "type": "barpolar"
           }
          ],
          "carpet": [
           {
            "aaxis": {
             "endlinecolor": "#2a3f5f",
             "gridcolor": "white",
             "linecolor": "white",
             "minorgridcolor": "white",
             "startlinecolor": "#2a3f5f"
            },
            "baxis": {
             "endlinecolor": "#2a3f5f",
             "gridcolor": "white",
             "linecolor": "white",
             "minorgridcolor": "white",
             "startlinecolor": "#2a3f5f"
            },
            "type": "carpet"
           }
          ],
          "choropleth": [
           {
            "colorbar": {
             "outlinewidth": 0,
             "ticks": ""
            },
            "type": "choropleth"
           }
          ],
          "contour": [
           {
            "colorbar": {
             "outlinewidth": 0,
             "ticks": ""
            },
            "colorscale": [
             [
              0,
              "#0d0887"
             ],
             [
              0.1111111111111111,
              "#46039f"
             ],
             [
              0.2222222222222222,
              "#7201a8"
             ],
             [
              0.3333333333333333,
              "#9c179e"
             ],
             [
              0.4444444444444444,
              "#bd3786"
             ],
             [
              0.5555555555555556,
              "#d8576b"
             ],
             [
              0.6666666666666666,
              "#ed7953"
             ],
             [
              0.7777777777777778,
              "#fb9f3a"
             ],
             [
              0.8888888888888888,
              "#fdca26"
             ],
             [
              1,
              "#f0f921"
             ]
            ],
            "type": "contour"
           }
          ],
          "contourcarpet": [
           {
            "colorbar": {
             "outlinewidth": 0,
             "ticks": ""
            },
            "type": "contourcarpet"
           }
          ],
          "heatmap": [
           {
            "colorbar": {
             "outlinewidth": 0,
             "ticks": ""
            },
            "colorscale": [
             [
              0,
              "#0d0887"
             ],
             [
              0.1111111111111111,
              "#46039f"
             ],
             [
              0.2222222222222222,
              "#7201a8"
             ],
             [
              0.3333333333333333,
              "#9c179e"
             ],
             [
              0.4444444444444444,
              "#bd3786"
             ],
             [
              0.5555555555555556,
              "#d8576b"
             ],
             [
              0.6666666666666666,
              "#ed7953"
             ],
             [
              0.7777777777777778,
              "#fb9f3a"
             ],
             [
              0.8888888888888888,
              "#fdca26"
             ],
             [
              1,
              "#f0f921"
             ]
            ],
            "type": "heatmap"
           }
          ],
          "heatmapgl": [
           {
            "colorbar": {
             "outlinewidth": 0,
             "ticks": ""
            },
            "colorscale": [
             [
              0,
              "#0d0887"
             ],
             [
              0.1111111111111111,
              "#46039f"
             ],
             [
              0.2222222222222222,
              "#7201a8"
             ],
             [
              0.3333333333333333,
              "#9c179e"
             ],
             [
              0.4444444444444444,
              "#bd3786"
             ],
             [
              0.5555555555555556,
              "#d8576b"
             ],
             [
              0.6666666666666666,
              "#ed7953"
             ],
             [
              0.7777777777777778,
              "#fb9f3a"
             ],
             [
              0.8888888888888888,
              "#fdca26"
             ],
             [
              1,
              "#f0f921"
             ]
            ],
            "type": "heatmapgl"
           }
          ],
          "histogram": [
           {
            "marker": {
             "pattern": {
              "fillmode": "overlay",
              "size": 10,
              "solidity": 0.2
             }
            },
            "type": "histogram"
           }
          ],
          "histogram2d": [
           {
            "colorbar": {
             "outlinewidth": 0,
             "ticks": ""
            },
            "colorscale": [
             [
              0,
              "#0d0887"
             ],
             [
              0.1111111111111111,
              "#46039f"
             ],
             [
              0.2222222222222222,
              "#7201a8"
             ],
             [
              0.3333333333333333,
              "#9c179e"
             ],
             [
              0.4444444444444444,
              "#bd3786"
             ],
             [
              0.5555555555555556,
              "#d8576b"
             ],
             [
              0.6666666666666666,
              "#ed7953"
             ],
             [
              0.7777777777777778,
              "#fb9f3a"
             ],
             [
              0.8888888888888888,
              "#fdca26"
             ],
             [
              1,
              "#f0f921"
             ]
            ],
            "type": "histogram2d"
           }
          ],
          "histogram2dcontour": [
           {
            "colorbar": {
             "outlinewidth": 0,
             "ticks": ""
            },
            "colorscale": [
             [
              0,
              "#0d0887"
             ],
             [
              0.1111111111111111,
              "#46039f"
             ],
             [
              0.2222222222222222,
              "#7201a8"
             ],
             [
              0.3333333333333333,
              "#9c179e"
             ],
             [
              0.4444444444444444,
              "#bd3786"
             ],
             [
              0.5555555555555556,
              "#d8576b"
             ],
             [
              0.6666666666666666,
              "#ed7953"
             ],
             [
              0.7777777777777778,
              "#fb9f3a"
             ],
             [
              0.8888888888888888,
              "#fdca26"
             ],
             [
              1,
              "#f0f921"
             ]
            ],
            "type": "histogram2dcontour"
           }
          ],
          "mesh3d": [
           {
            "colorbar": {
             "outlinewidth": 0,
             "ticks": ""
            },
            "type": "mesh3d"
           }
          ],
          "parcoords": [
           {
            "line": {
             "colorbar": {
              "outlinewidth": 0,
              "ticks": ""
             }
            },
            "type": "parcoords"
           }
          ],
          "pie": [
           {
            "automargin": true,
            "type": "pie"
           }
          ],
          "scatter": [
           {
            "fillpattern": {
             "fillmode": "overlay",
             "size": 10,
             "solidity": 0.2
            },
            "type": "scatter"
           }
          ],
          "scatter3d": [
           {
            "line": {
             "colorbar": {
              "outlinewidth": 0,
              "ticks": ""
             }
            },
            "marker": {
             "colorbar": {
              "outlinewidth": 0,
              "ticks": ""
             }
            },
            "type": "scatter3d"
           }
          ],
          "scattercarpet": [
           {
            "marker": {
             "colorbar": {
              "outlinewidth": 0,
              "ticks": ""
             }
            },
            "type": "scattercarpet"
           }
          ],
          "scattergeo": [
           {
            "marker": {
             "colorbar": {
              "outlinewidth": 0,
              "ticks": ""
             }
            },
            "type": "scattergeo"
           }
          ],
          "scattergl": [
           {
            "marker": {
             "colorbar": {
              "outlinewidth": 0,
              "ticks": ""
             }
            },
            "type": "scattergl"
           }
          ],
          "scattermapbox": [
           {
            "marker": {
             "colorbar": {
              "outlinewidth": 0,
              "ticks": ""
             }
            },
            "type": "scattermapbox"
           }
          ],
          "scatterpolar": [
           {
            "marker": {
             "colorbar": {
              "outlinewidth": 0,
              "ticks": ""
             }
            },
            "type": "scatterpolar"
           }
          ],
          "scatterpolargl": [
           {
            "marker": {
             "colorbar": {
              "outlinewidth": 0,
              "ticks": ""
             }
            },
            "type": "scatterpolargl"
           }
          ],
          "scatterternary": [
           {
            "marker": {
             "colorbar": {
              "outlinewidth": 0,
              "ticks": ""
             }
            },
            "type": "scatterternary"
           }
          ],
          "surface": [
           {
            "colorbar": {
             "outlinewidth": 0,
             "ticks": ""
            },
            "colorscale": [
             [
              0,
              "#0d0887"
             ],
             [
              0.1111111111111111,
              "#46039f"
             ],
             [
              0.2222222222222222,
              "#7201a8"
             ],
             [
              0.3333333333333333,
              "#9c179e"
             ],
             [
              0.4444444444444444,
              "#bd3786"
             ],
             [
              0.5555555555555556,
              "#d8576b"
             ],
             [
              0.6666666666666666,
              "#ed7953"
             ],
             [
              0.7777777777777778,
              "#fb9f3a"
             ],
             [
              0.8888888888888888,
              "#fdca26"
             ],
             [
              1,
              "#f0f921"
             ]
            ],
            "type": "surface"
           }
          ],
          "table": [
           {
            "cells": {
             "fill": {
              "color": "#EBF0F8"
             },
             "line": {
              "color": "white"
             }
            },
            "header": {
             "fill": {
              "color": "#C8D4E3"
             },
             "line": {
              "color": "white"
             }
            },
            "type": "table"
           }
          ]
         },
         "layout": {
          "annotationdefaults": {
           "arrowcolor": "#2a3f5f",
           "arrowhead": 0,
           "arrowwidth": 1
          },
          "autotypenumbers": "strict",
          "coloraxis": {
           "colorbar": {
            "outlinewidth": 0,
            "ticks": ""
           }
          },
          "colorscale": {
           "diverging": [
            [
             0,
             "#8e0152"
            ],
            [
             0.1,
             "#c51b7d"
            ],
            [
             0.2,
             "#de77ae"
            ],
            [
             0.3,
             "#f1b6da"
            ],
            [
             0.4,
             "#fde0ef"
            ],
            [
             0.5,
             "#f7f7f7"
            ],
            [
             0.6,
             "#e6f5d0"
            ],
            [
             0.7,
             "#b8e186"
            ],
            [
             0.8,
             "#7fbc41"
            ],
            [
             0.9,
             "#4d9221"
            ],
            [
             1,
             "#276419"
            ]
           ],
           "sequential": [
            [
             0,
             "#0d0887"
            ],
            [
             0.1111111111111111,
             "#46039f"
            ],
            [
             0.2222222222222222,
             "#7201a8"
            ],
            [
             0.3333333333333333,
             "#9c179e"
            ],
            [
             0.4444444444444444,
             "#bd3786"
            ],
            [
             0.5555555555555556,
             "#d8576b"
            ],
            [
             0.6666666666666666,
             "#ed7953"
            ],
            [
             0.7777777777777778,
             "#fb9f3a"
            ],
            [
             0.8888888888888888,
             "#fdca26"
            ],
            [
             1,
             "#f0f921"
            ]
           ],
           "sequentialminus": [
            [
             0,
             "#0d0887"
            ],
            [
             0.1111111111111111,
             "#46039f"
            ],
            [
             0.2222222222222222,
             "#7201a8"
            ],
            [
             0.3333333333333333,
             "#9c179e"
            ],
            [
             0.4444444444444444,
             "#bd3786"
            ],
            [
             0.5555555555555556,
             "#d8576b"
            ],
            [
             0.6666666666666666,
             "#ed7953"
            ],
            [
             0.7777777777777778,
             "#fb9f3a"
            ],
            [
             0.8888888888888888,
             "#fdca26"
            ],
            [
             1,
             "#f0f921"
            ]
           ]
          },
          "colorway": [
           "#636efa",
           "#EF553B",
           "#00cc96",
           "#ab63fa",
           "#FFA15A",
           "#19d3f3",
           "#FF6692",
           "#B6E880",
           "#FF97FF",
           "#FECB52"
          ],
          "font": {
           "color": "#2a3f5f"
          },
          "geo": {
           "bgcolor": "white",
           "lakecolor": "white",
           "landcolor": "#E5ECF6",
           "showlakes": true,
           "showland": true,
           "subunitcolor": "white"
          },
          "hoverlabel": {
           "align": "left"
          },
          "hovermode": "closest",
          "mapbox": {
           "style": "light"
          },
          "paper_bgcolor": "white",
          "plot_bgcolor": "#E5ECF6",
          "polar": {
           "angularaxis": {
            "gridcolor": "white",
            "linecolor": "white",
            "ticks": ""
           },
           "bgcolor": "#E5ECF6",
           "radialaxis": {
            "gridcolor": "white",
            "linecolor": "white",
            "ticks": ""
           }
          },
          "scene": {
           "xaxis": {
            "backgroundcolor": "#E5ECF6",
            "gridcolor": "white",
            "gridwidth": 2,
            "linecolor": "white",
            "showbackground": true,
            "ticks": "",
            "zerolinecolor": "white"
           },
           "yaxis": {
            "backgroundcolor": "#E5ECF6",
            "gridcolor": "white",
            "gridwidth": 2,
            "linecolor": "white",
            "showbackground": true,
            "ticks": "",
            "zerolinecolor": "white"
           },
           "zaxis": {
            "backgroundcolor": "#E5ECF6",
            "gridcolor": "white",
            "gridwidth": 2,
            "linecolor": "white",
            "showbackground": true,
            "ticks": "",
            "zerolinecolor": "white"
           }
          },
          "shapedefaults": {
           "line": {
            "color": "#2a3f5f"
           }
          },
          "ternary": {
           "aaxis": {
            "gridcolor": "white",
            "linecolor": "white",
            "ticks": ""
           },
           "baxis": {
            "gridcolor": "white",
            "linecolor": "white",
            "ticks": ""
           },
           "bgcolor": "#E5ECF6",
           "caxis": {
            "gridcolor": "white",
            "linecolor": "white",
            "ticks": ""
           }
          },
          "title": {
           "x": 0.05
          },
          "xaxis": {
           "automargin": true,
           "gridcolor": "white",
           "linecolor": "white",
           "ticks": "",
           "title": {
            "standoff": 15
           },
           "zerolinecolor": "white",
           "zerolinewidth": 2
          },
          "yaxis": {
           "automargin": true,
           "gridcolor": "white",
           "linecolor": "white",
           "ticks": "",
           "title": {
            "standoff": 15
           },
           "zerolinecolor": "white",
           "zerolinewidth": 2
          }
         }
        },
        "xaxis": {
         "autorange": true,
         "range": [
          -15.416316520097443,
          11.82229712676213
         ],
         "type": "linear"
        },
        "yaxis": {
         "autorange": true,
         "range": [
          -0.18155339805825244,
          2.3815533980582524
         ],
         "type": "linear"
        }
       }
      },
      "image/png": "[encoded data removed]",
      "text/html": [
       "<div>                            <div id=\"5d0fd81d-c09d-4edb-897c-564290d1a7cb\" class=\"plotly-graph-div\" style=\"height:525px; width:100%;\"></div>            <script type=\"text/javascript\">                require([\"plotly\"], function(Plotly) {                    window.PLOTLYENV=window.PLOTLYENV || {};                                    if (document.getElementById(\"5d0fd81d-c09d-4edb-897c-564290d1a7cb\")) {                    Plotly.newPlot(                        \"5d0fd81d-c09d-4edb-897c-564290d1a7cb\",                        [{\"marker\":{\"color\":\"red\"},\"mode\":\"markers\",\"name\":\"class 1\",\"x\":[0.20463856059125796,1.7775587927405367,-13.120281418995308,0.6491692500669148,-1.5083597352147367,-0.16539599005027494,4.056651413612796,0.6219033456071115,0.24360700861114482,8.395661683442501,-2.5638233653736013,-0.8381457980534428,0.34942305137594465,5.170306197423529,-0.3894659195119785,-9.23810837554962,-12.715963728893504,0.12552219323805258,-1.996427127262156,5.789310574984916,-3.089178763815583,2.9224135085107137,-9.151143426042111,5.649082062676495,-8.629687165032113,2.095789425509535,-8.1930167164184,0.569541302031179,0.2421654016780168,-0.4470013903556327,-0.5729321973291164,7.0308276035664825,-0.14094771995607103,1.8150800004824572,0.6720094388685376,-1.5746157269520378,0.751677855298599,5.436527461868774,1.464506141656872,-4.301442531648201,-9.049233911751557,-2.5945395709862593,-0.7811946071491437,-0.6456245594480792,-7.898925008047569,-3.6639033330344963,-2.199609062141695,2.584316417951134,-7.32203317225099,0.5176113201958619,1.7996878849619717,-1.875017965657162,-6.58617000029308,3.8987372981227946,-9.593282304741725,-4.799489727042316,-10.240001687896259,-2.9108505247473784,-2.3613562820177716,3.7702578952681263,8.23626679343539,-6.494263689533424,-2.411681014804568,9.669435253299373,-1.2208940528346326,-4.348391615237864,0.006369626870652123,2.841687429211069,-9.894257129571997,-6.452488139682447,-10.871538868518137,-4.792721845782185,-3.232940035769489,-5.744698493702187,5.762457655793821,-9.704499692987037,-0.596339642251992,-7.958847325853259,-0.43050377830188413,-10.69041128299744,-4.254876681232515,-2.660343790630228,5.154286077218449,2.8093174166819623,4.1321706887469976,-1.3976757257777934,6.3125277005401665,-0.7417968405785491,-2.4665432077906257,-1.3731579870229327,-1.6219699566057018,-3.94231385166525,-7.634897186271029,-0.5146611178364109,2.8750576272321595,1.92559754863841,3.102346885714889,-0.4386698457547219,-1.1462254074945555,4.428932006159529,-9.62023354703612,-10.775257928169673,5.527126096374027,-3.238230797119456,-1.1690160548092596,5.609885318248198,8.208348652606427,-1.49726955543092,-3.793240849190864,6.070720194109515,-1.8017563835778532,-3.611453845115475,1.385372135509387,-2.451194238268855,-11.792992670976275,-2.722632721552084,-2.754563037836377,-4.521377120797567,-0.9669448653887688,-1.6529989961563685,2.2338991977146003,1.2446566433141846,-3.88175204858368,1.4041097243994116,-6.732461115329125,-5.960366367155602,-6.710552580320772,-0.7319036068907537,3.784574995430895,-8.00957735204408,-9.698685444825754,-2.173047877643185,-7.414386268161305,1.5258269777750586,1.715066541845263,1.8115043675543756,-3.4737067530827948,7.741939605064484,7.348792209641738,-6.527671939094359,-2.293833376509816,-1.6396031977973424,-2.994039591059365,-0.7875545519295644,-1.2135879735584503,-8.661235133882665,-0.26101456724855254,-0.9732946473056469,7.706562443911245,-0.8784996084009865,1.5864517650645236,7.217029396969699,-0.2673359709198835,0.7698176289297667,-0.15943559270588092,8.91621647721904,2.0867182216089675,7.057759491170348,7.443422584225385,-1.4526284850272104,-1.2719546522011786,3.1315666404376685,-0.4346485755031595,-3.4662414708928533,-0.5185258155245356],\"y\":[1.0,1.0,0.0,1.0,1.0,1.0,1.0,1.0,1.0,2.0,1.0,1.0,1.0,2.0,1.0,0.0,0.0,1.0,1.0,2.0,1.0,2.0,0.0,2.0,0.0,2.0,0.0,1.0,1.0,1.0,1.0,2.0,1.0,1.0,1.0,1.0,1.0,2.0,1.0,1.0,0.0,1.0,1.0,1.0,0.0,1.0,1.0,1.0,0.0,1.0,1.0,1.0,1.0,1.0,0.0,0.0,0.0,1.0,1.0,2.0,2.0,0.0,1.0,2.0,1.0,1.0,1.0,2.0,0.0,0.0,0.0,1.0,1.0,0.0,2.0,0.0,1.0,0.0,1.0,0.0,1.0,1.0,2.0,1.0,2.0,1.0,2.0,1.0,1.0,1.0,1.0,1.0,0.0,1.0,1.0,2.0,1.0,1.0,1.0,2.0,0.0,0.0,2.0,1.0,1.0,2.0,2.0,1.0,1.0,2.0,1.0,1.0,1.0,1.0,0.0,1.0,1.0,1.0,1.0,1.0,1.0,1.0,1.0,1.0,0.0,0.0,0.0,1.0,2.0,0.0,0.0,1.0,0.0,2.0,2.0,2.0,1.0,2.0,2.0,0.0,1.0,1.0,1.0,1.0,1.0,0.0,1.0,1.0,2.0,1.0,1.0,2.0,1.0,1.0,1.0,2.0,1.0,2.0,2.0,1.0,1.0,1.0,1.0,1.0,1.0],\"type\":\"scatter\"},{\"marker\":{\"color\":\"blue\"},\"mode\":\"markers\",\"name\":\"class 2\",\"x\":[4.1631199233999485,5.312198581579215,-11.244037457493777,5.964563364179716,0.6480112369008153,6.9025680320803415,4.655103922426807,-6.550984590389002,3.381399457939467,0.802973783297422,7.589056479202164,4.925553952249324,-6.757164583528672,-9.76810870933683,4.5552161891716985,7.030147227278731,9.530670201038143,-7.137795837392885,-1.5947237655470072,-10.994053655300526,6.647054707202864,0.3180995922004204,-1.4616794862709388,7.455626999999298,4.355065622191496,7.841230236109912,8.557056165683443,5.041630169745188,2.909756150018069,5.1042096305677624,5.102523934656754,5.04168580242784,8.020254354669449,2.444867248388025,4.749315997068024,-1.7488766376864413,-13.044402431648006,10.10924820503623,6.900311025534358,8.231682215848338,1.2287659535595838,-10.223512827300151,1.2468243240438706,8.089988819347795,7.18494560284804,7.1287657109886275,7.610786848464363,6.955220363635115,4.465380347336531,-9.077391018532103,8.067373735879002,1.3206771399875392,4.196731019048004,4.297088686938347,2.1176110812397186,-0.015326888126702354,6.9332865344576815,-4.6260407060514845,-7.24766215776755,5.861342606619035,-8.24487242735816,-0.3729045590731357,-10.207841255586514,8.080178306308191,3.6480346571173694,8.700213637363452,9.579509366412543,0.6500596488779717,10.221210107201419,0.8429001373190228,-3.4394887939580654,5.78321586565292,0.23707826157258638,-8.618169030665069,-11.288682779246285,-3.3646362530192673,4.597311147485646,7.840035866495526,8.921784760926156,10.275656134878965,2.6210698282509126,6.648548486896842,-0.12366730541752502,-9.596185670205431,5.1739413805779355,-0.4750651090734628,9.535919896622053,5.337433660134743,-9.025329197837802,10.112711046396587,-7.198288101471176,0.24672435315606545,-2.1246108620381796,4.983085731449199,9.73294275030425,3.146889158958936,7.349141413912007,5.23033550233442,6.9022458774691975,5.115541440973654,4.885010556427913,7.878337488392976,-8.117271112862836,3.9996616202549684,5.049254249724036,1.6629142251751836,8.001762847360602,-2.234724127424722,-11.888227610859179,2.253678044729397,-1.689974420309959,7.554838410497726,9.226722749126232,2.4881487195342964,8.902858521181871,3.386931854311963,0.3091603051734009,-5.6803956457802585,-10.374345400239198,6.903892074642446,5.900594841682648,6.172928813048575,-10.367455718348666,8.293800752798965,5.794225564852924,5.250390625394695,-10.342492261673637,-1.240929143577015,7.42957919497163,6.903231901110483,7.705408123450573,-7.5188870978074505,6.734463627767729,5.1417154435298125,5.651639311384018,-2.6521948636946404,-2.3893871905744524,4.5000607654486675,8.197992665494358,-8.845319863302882,5.780017019672786,-11.189823691482083,6.700334317656558,6.043725673253105,-6.741032184176161,5.062652367444217,4.339662271954584,3.1953417090937264,4.444282346745174,0.1718208622052313,6.620544575567535,-7.826753617635605,-5.615090797944507,-0.5777504899845665,-10.755716835842744,4.342744042287189,7.260391341369822,2.912157807407284,3.9562281107173813,-4.0513606324587155,6.01709789087205,5.176721673623035,-8.531168604365815,0.9871186946478776,-10.522413801790206],\"y\":[2.1,2.1,0.1,2.1,1.1,2.1,2.1,0.1,1.1,1.1,2.1,2.1,0.1,0.1,2.1,2.1,2.1,0.1,1.1,0.1,2.1,1.1,1.1,2.1,2.1,2.1,2.1,2.1,1.1,2.1,2.1,2.1,2.1,2.1,2.1,1.1,0.1,2.1,2.1,2.1,1.1,0.1,1.1,2.1,2.1,2.1,2.1,2.1,2.1,0.1,2.1,1.1,2.1,2.1,1.1,1.1,2.1,0.1,0.1,2.1,0.1,1.1,0.1,2.1,2.1,2.1,2.1,1.1,2.1,1.1,1.1,2.1,1.1,0.1,0.1,1.1,2.1,2.1,2.1,2.1,1.1,2.1,1.1,0.1,2.1,1.1,2.1,2.1,0.1,2.1,0.1,1.1,1.1,2.1,2.1,2.1,2.1,2.1,2.1,2.1,2.1,2.1,0.1,2.1,2.1,1.1,2.1,1.1,0.1,2.1,1.1,2.1,2.1,2.1,2.1,2.1,1.1,0.1,0.1,2.1,2.1,2.1,0.1,2.1,2.1,2.1,0.1,1.1,2.1,2.1,2.1,0.1,2.1,2.1,2.1,1.1,1.1,2.1,2.1,0.1,2.1,0.1,2.1,2.1,0.1,2.1,2.1,2.1,2.1,1.1,2.1,0.1,0.1,1.1,0.1,2.1,2.1,1.1,2.1,1.1,2.1,2.1,0.1,2.1,0.1],\"type\":\"scatter\"},{\"marker\":{\"color\":\"yellow\"},\"mode\":\"markers\",\"name\":\"class 0\",\"x\":[-8.369681215915417,-10.008931725892902,-11.746234640493512,-11.145937244312341,5.663602320510568,-10.277460814908444,-7.39627793625731,-8.934770906613283,-7.834369572568356,-1.4758838715043652,-8.756357458017126,-8.759682095036741,5.542468342259675,-13.603077393760564,0.17132400034476492,1.2221133971210092,-7.273309364911957,-10.508795881993306,-11.234620697270556,-10.383321503450619,-9.344856415100871,-8.898384490447942,3.6796597900354477,6.152760960319184,-7.307678704829933,-6.922350796281172,-10.719031881663973,-9.532437012007245,4.7639263046368425,2.245698171908002,7.681723116282208,-9.361840604156301,-1.406788897929117,-2.3226884863060375,-11.460116271333924,-1.5581954430865805,-11.624566822474863,4.933959347832801,-8.502401677224459,-7.515911678845329,5.619557949830277,-2.761155199688342,-9.401516137859995,7.235971067840669,-7.262227685988265,-7.475977639375951,-8.182198924126345,-10.90740120361587,-9.417788466749556,-2.2139967964000924,-11.398536064670372,-9.644834408027014,-6.736741225097147,-7.4991767202699835,4.610158197629522,-7.765593780585162,-7.941069351294582,1.1729939976524246,-11.199782534628062,5.768029629055207,7.169293220954852,-7.995011322196263,0.5900521888496895,-10.247061459359584,5.929264150242578,-8.679925861104339,6.034329452748177,-7.1968185588144085,8.465798384752475,-1.8699133659104554,1.771672156166348,-7.763239476002951,-5.751309272673517,-8.428825349491483,-8.153011291871774,-10.273991293138707,-9.38367110472323,-6.602164240196986,-8.399659360088345,5.63164734869251,1.0888841894145176,-8.535010881642524,-9.444656285220718,-8.539810529271232,-0.9126620136432217,-0.8091498256174846,0.43493106469415466,-10.056343504526911,-5.5103764715670405,-9.20349174505829,-10.550323238338319,6.106819073596696,0.005481763999808598,-8.62687721802343,-8.361921807885803,2.6318800282635255,2.1133531886632944,-1.8863438614012755,-13.869675528214277,-7.974140359163982,-12.23154470940659,-9.245780451037296,2.114821637047089,-9.200310466567,-9.687707351142151,-7.603935931855562,0.9122434082493929,-8.179896705583488,-9.612408025256745,-2.4007970098425093,-7.269184741350643,-9.750569900180228,-2.735537355247181,-8.912806286331506,-4.628849186933677,-5.065796501490531,-7.229717671458544,8.231403605568973,-3.685351578754872,6.773078290266183,-7.027329624357516,-8.761982708385082,-9.272889487792066,-1.1136489617716947,-7.344050714785507,9.520498452898186,-10.494316587501675,-11.201238354425843,-8.915572506568815,-8.36873010551679,1.3105757721764504,-9.373139543814698,-8.844357744174587,-8.965181183399991,-7.812842953525866,-9.49874075095482,6.704988728738666,-6.075784125910052,-8.323976606851048,5.061714224744061,-8.298908042671785,-8.022963706925006,0.3601396797562091,-7.939289066523628,-8.90686540315171,7.617688720531364,-9.349406319485002,-2.0915483359651352,-3.5451175104919885,6.922328199954035,5.6020036323925515,0.3220405751973858,9.409188342744814,-1.1023768952153283,-10.341324572578062,-1.0037829656760073,-8.724597580005227,5.87869501645038,-2.781111168326097,-2.331509036398253,-2.7355744457458515,-9.535776159252032,4.935531958203645,-11.28503639604428,4.812313865490981,8.416912657103925,-10.034188915840456,5.162124204643754,-9.793507053711954,-8.603400559746461],\"y\":[0.2,0.2,0.2,0.2,2.2,0.2,0.2,0.2,0.2,1.2,0.2,0.2,2.2,0.2,1.2,1.2,0.2,0.2,0.2,0.2,0.2,0.2,2.2,2.2,0.2,0.2,0.2,0.2,2.2,1.2,2.2,0.2,1.2,1.2,0.2,1.2,0.2,2.2,0.2,0.2,2.2,1.2,0.2,2.2,0.2,0.2,0.2,0.2,0.2,1.2,0.2,0.2,0.2,0.2,2.2,0.2,0.2,2.2,0.2,2.2,2.2,0.2,1.2,0.2,2.2,0.2,2.2,0.2,2.2,1.2,2.2,0.2,0.2,0.2,0.2,0.2,0.2,0.2,0.2,2.2,1.2,0.2,0.2,0.2,1.2,1.2,2.2,0.2,0.2,0.2,0.2,2.2,1.2,0.2,0.2,2.2,2.2,1.2,0.2,0.2,0.2,0.2,2.2,0.2,0.2,0.2,1.2,0.2,0.2,1.2,0.2,0.2,1.2,0.2,0.2,0.2,0.2,2.2,1.2,2.2,0.2,0.2,0.2,1.2,0.2,2.2,0.2,0.2,0.2,0.2,1.2,0.2,0.2,0.2,0.2,0.2,2.2,0.2,0.2,1.2,0.2,0.2,1.2,0.2,0.2,2.2,0.2,1.2,1.2,2.2,2.2,1.2,2.2,1.2,0.2,1.2,0.2,2.2,1.2,1.2,1.2,0.2,2.2,0.2,2.2,2.2,0.2,2.2,0.2,0.2],\"type\":\"scatter\"}],                        {\"template\":{\"data\":{\"histogram2dcontour\":[{\"type\":\"histogram2dcontour\",\"colorbar\":{\"outlinewidth\":0,\"ticks\":\"\"},\"colorscale\":[[0.0,\"#0d0887\"],[0.1111111111111111,\"#46039f\"],[0.2222222222222222,\"#7201a8\"],[0.3333333333333333,\"#9c179e\"],[0.4444444444444444,\"#bd3786\"],[0.5555555555555556,\"#d8576b\"],[0.6666666666666666,\"#ed7953\"],[0.7777777777777778,\"#fb9f3a\"],[0.8888888888888888,\"#fdca26\"],[1.0,\"#f0f921\"]]}],\"choropleth\":[{\"type\":\"choropleth\",\"colorbar\":{\"outlinewidth\":0,\"ticks\":\"\"}}],\"histogram2d\":[{\"type\":\"histogram2d\",\"colorbar\":{\"outlinewidth\":0,\"ticks\":\"\"},\"colorscale\":[[0.0,\"#0d0887\"],[0.1111111111111111,\"#46039f\"],[0.2222222222222222,\"#7201a8\"],[0.3333333333333333,\"#9c179e\"],[0.4444444444444444,\"#bd3786\"],[0.5555555555555556,\"#d8576b\"],[0.6666666666666666,\"#ed7953\"],[0.7777777777777778,\"#fb9f3a\"],[0.8888888888888888,\"#fdca26\"],[1.0,\"#f0f921\"]]}],\"heatmap\":[{\"type\":\"heatmap\",\"colorbar\":{\"outlinewidth\":0,\"ticks\":\"\"},\"colorscale\":[[0.0,\"#0d0887\"],[0.1111111111111111,\"#46039f\"],[0.2222222222222222,\"#7201a8\"],[0.3333333333333333,\"#9c179e\"],[0.4444444444444444,\"#bd3786\"],[0.5555555555555556,\"#d8576b\"],[0.6666666666666666,\"#ed7953\"],[0.7777777777777778,\"#fb9f3a\"],[0.8888888888888888,\"#fdca26\"],[1.0,\"#f0f921\"]]}],\"heatmapgl\":[{\"type\":\"heatmapgl\",\"colorbar\":{\"outlinewidth\":0,\"ticks\":\"\"},\"colorscale\":[[0.0,\"#0d0887\"],[0.1111111111111111,\"#46039f\"],[0.2222222222222222,\"#7201a8\"],[0.3333333333333333,\"#9c179e\"],[0.4444444444444444,\"#bd3786\"],[0.5555555555555556,\"#d8576b\"],[0.6666666666666666,\"#ed7953\"],[0.7777777777777778,\"#fb9f3a\"],[0.8888888888888888,\"#fdca26\"],[1.0,\"#f0f921\"]]}],\"contourcarpet\":[{\"type\":\"contourcarpet\",\"colorbar\":{\"outlinewidth\":0,\"ticks\":\"\"}}],\"contour\":[{\"type\":\"contour\",\"colorbar\":{\"outlinewidth\":0,\"ticks\":\"\"},\"colorscale\":[[0.0,\"#0d0887\"],[0.1111111111111111,\"#46039f\"],[0.2222222222222222,\"#7201a8\"],[0.3333333333333333,\"#9c179e\"],[0.4444444444444444,\"#bd3786\"],[0.5555555555555556,\"#d8576b\"],[0.6666666666666666,\"#ed7953\"],[0.7777777777777778,\"#fb9f3a\"],[0.8888888888888888,\"#fdca26\"],[1.0,\"#f0f921\"]]}],\"surface\":[{\"type\":\"surface\",\"colorbar\":{\"outlinewidth\":0,\"ticks\":\"\"},\"colorscale\":[[0.0,\"#0d0887\"],[0.1111111111111111,\"#46039f\"],[0.2222222222222222,\"#7201a8\"],[0.3333333333333333,\"#9c179e\"],[0.4444444444444444,\"#bd3786\"],[0.5555555555555556,\"#d8576b\"],[0.6666666666666666,\"#ed7953\"],[0.7777777777777778,\"#fb9f3a\"],[0.8888888888888888,\"#fdca26\"],[1.0,\"#f0f921\"]]}],\"mesh3d\":[{\"type\":\"mesh3d\",\"colorbar\":{\"outlinewidth\":0,\"ticks\":\"\"}}],\"scatter\":[{\"fillpattern\":{\"fillmode\":\"overlay\",\"size\":10,\"solidity\":0.2},\"type\":\"scatter\"}],\"parcoords\":[{\"type\":\"parcoords\",\"line\":{\"colorbar\":{\"outlinewidth\":0,\"ticks\":\"\"}}}],\"scatterpolargl\":[{\"type\":\"scatterpolargl\",\"marker\":{\"colorbar\":{\"outlinewidth\":0,\"ticks\":\"\"}}}],\"bar\":[{\"error_x\":{\"color\":\"#2a3f5f\"},\"error_y\":{\"color\":\"#2a3f5f\"},\"marker\":{\"line\":{\"color\":\"#E5ECF6\",\"width\":0.5},\"pattern\":{\"fillmode\":\"overlay\",\"size\":10,\"solidity\":0.2}},\"type\":\"bar\"}],\"scattergeo\":[{\"type\":\"scattergeo\",\"marker\":{\"colorbar\":{\"outlinewidth\":0,\"ticks\":\"\"}}}],\"scatterpolar\":[{\"type\":\"scatterpolar\",\"marker\":{\"colorbar\":{\"outlinewidth\":0,\"ticks\":\"\"}}}],\"histogram\":[{\"marker\":{\"pattern\":{\"fillmode\":\"overlay\",\"size\":10,\"solidity\":0.2}},\"type\":\"histogram\"}],\"scattergl\":[{\"type\":\"scattergl\",\"marker\":{\"colorbar\":{\"outlinewidth\":0,\"ticks\":\"\"}}}],\"scatter3d\":[{\"type\":\"scatter3d\",\"line\":{\"colorbar\":{\"outlinewidth\":0,\"ticks\":\"\"}},\"marker\":{\"colorbar\":{\"outlinewidth\":0,\"ticks\":\"\"}}}],\"scattermapbox\":[{\"type\":\"scattermapbox\",\"marker\":{\"colorbar\":{\"outlinewidth\":0,\"ticks\":\"\"}}}],\"scatterternary\":[{\"type\":\"scatterternary\",\"marker\":{\"colorbar\":{\"outlinewidth\":0,\"ticks\":\"\"}}}],\"scattercarpet\":[{\"type\":\"scattercarpet\",\"marker\":{\"colorbar\":{\"outlinewidth\":0,\"ticks\":\"\"}}}],\"carpet\":[{\"aaxis\":{\"endlinecolor\":\"#2a3f5f\",\"gridcolor\":\"white\",\"linecolor\":\"white\",\"minorgridcolor\":\"white\",\"startlinecolor\":\"#2a3f5f\"},\"baxis\":{\"endlinecolor\":\"#2a3f5f\",\"gridcolor\":\"white\",\"linecolor\":\"white\",\"minorgridcolor\":\"white\",\"startlinecolor\":\"#2a3f5f\"},\"type\":\"carpet\"}],\"table\":[{\"cells\":{\"fill\":{\"color\":\"#EBF0F8\"},\"line\":{\"color\":\"white\"}},\"header\":{\"fill\":{\"color\":\"#C8D4E3\"},\"line\":{\"color\":\"white\"}},\"type\":\"table\"}],\"barpolar\":[{\"marker\":{\"line\":{\"color\":\"#E5ECF6\",\"width\":0.5},\"pattern\":{\"fillmode\":\"overlay\",\"size\":10,\"solidity\":0.2}},\"type\":\"barpolar\"}],\"pie\":[{\"automargin\":true,\"type\":\"pie\"}]},\"layout\":{\"autotypenumbers\":\"strict\",\"colorway\":[\"#636efa\",\"#EF553B\",\"#00cc96\",\"#ab63fa\",\"#FFA15A\",\"#19d3f3\",\"#FF6692\",\"#B6E880\",\"#FF97FF\",\"#FECB52\"],\"font\":{\"color\":\"#2a3f5f\"},\"hovermode\":\"closest\",\"hoverlabel\":{\"align\":\"left\"},\"paper_bgcolor\":\"white\",\"plot_bgcolor\":\"#E5ECF6\",\"polar\":{\"bgcolor\":\"#E5ECF6\",\"angularaxis\":{\"gridcolor\":\"white\",\"linecolor\":\"white\",\"ticks\":\"\"},\"radialaxis\":{\"gridcolor\":\"white\",\"linecolor\":\"white\",\"ticks\":\"\"}},\"ternary\":{\"bgcolor\":\"#E5ECF6\",\"aaxis\":{\"gridcolor\":\"white\",\"linecolor\":\"white\",\"ticks\":\"\"},\"baxis\":{\"gridcolor\":\"white\",\"linecolor\":\"white\",\"ticks\":\"\"},\"caxis\":{\"gridcolor\":\"white\",\"linecolor\":\"white\",\"ticks\":\"\"}},\"coloraxis\":{\"colorbar\":{\"outlinewidth\":0,\"ticks\":\"\"}},\"colorscale\":{\"sequential\":[[0.0,\"#0d0887\"],[0.1111111111111111,\"#46039f\"],[0.2222222222222222,\"#7201a8\"],[0.3333333333333333,\"#9c179e\"],[0.4444444444444444,\"#bd3786\"],[0.5555555555555556,\"#d8576b\"],[0.6666666666666666,\"#ed7953\"],[0.7777777777777778,\"#fb9f3a\"],[0.8888888888888888,\"#fdca26\"],[1.0,\"#f0f921\"]],\"sequentialminus\":[[0.0,\"#0d0887\"],[0.1111111111111111,\"#46039f\"],[0.2222222222222222,\"#7201a8\"],[0.3333333333333333,\"#9c179e\"],[0.4444444444444444,\"#bd3786\"],[0.5555555555555556,\"#d8576b\"],[0.6666666666666666,\"#ed7953\"],[0.7777777777777778,\"#fb9f3a\"],[0.8888888888888888,\"#fdca26\"],[1.0,\"#f0f921\"]],\"diverging\":[[0,\"#8e0152\"],[0.1,\"#c51b7d\"],[0.2,\"#de77ae\"],[0.3,\"#f1b6da\"],[0.4,\"#fde0ef\"],[0.5,\"#f7f7f7\"],[0.6,\"#e6f5d0\"],[0.7,\"#b8e186\"],[0.8,\"#7fbc41\"],[0.9,\"#4d9221\"],[1,\"#276419\"]]},\"xaxis\":{\"gridcolor\":\"white\",\"linecolor\":\"white\",\"ticks\":\"\",\"title\":{\"standoff\":15},\"zerolinecolor\":\"white\",\"automargin\":true,\"zerolinewidth\":2},\"yaxis\":{\"gridcolor\":\"white\",\"linecolor\":\"white\",\"ticks\":\"\",\"title\":{\"standoff\":15},\"zerolinecolor\":\"white\",\"automargin\":true,\"zerolinewidth\":2},\"scene\":{\"xaxis\":{\"backgroundcolor\":\"#E5ECF6\",\"gridcolor\":\"white\",\"linecolor\":\"white\",\"showbackground\":true,\"ticks\":\"\",\"zerolinecolor\":\"white\",\"gridwidth\":2},\"yaxis\":{\"backgroundcolor\":\"#E5ECF6\",\"gridcolor\":\"white\",\"linecolor\":\"white\",\"showbackground\":true,\"ticks\":\"\",\"zerolinecolor\":\"white\",\"gridwidth\":2},\"zaxis\":{\"backgroundcolor\":\"#E5ECF6\",\"gridcolor\":\"white\",\"linecolor\":\"white\",\"showbackground\":true,\"ticks\":\"\",\"zerolinecolor\":\"white\",\"gridwidth\":2}},\"shapedefaults\":{\"line\":{\"color\":\"#2a3f5f\"}},\"annotationdefaults\":{\"arrowcolor\":\"#2a3f5f\",\"arrowhead\":0,\"arrowwidth\":1},\"geo\":{\"bgcolor\":\"white\",\"landcolor\":\"#E5ECF6\",\"subunitcolor\":\"white\",\"showland\":true,\"showlakes\":true,\"lakecolor\":\"white\"},\"title\":{\"x\":0.05},\"mapbox\":{\"style\":\"light\"}}}},                        {\"responsive\": true}                    ).then(function(){\n",
       "                            \n",
       "var gd = document.getElementById('5d0fd81d-c09d-4edb-897c-564290d1a7cb');\n",
       "var x = new MutationObserver(function (mutations, observer) {{\n",
       "        var display = window.getComputedStyle(gd).display;\n",
       "        if (!display || display === 'none') {{\n",
       "            console.log([gd, 'removed!']);\n",
       "            Plotly.purge(gd);\n",
       "            observer.disconnect();\n",
       "        }}\n",
       "}});\n",
       "\n",
       "// Listen for the removal of the full notebook cells\n",
       "var notebookContainer = gd.closest('#notebook-container');\n",
       "if (notebookContainer) {{\n",
       "    x.observe(notebookContainer, {childList: true});\n",
       "}}\n",
       "\n",
       "// Listen for the clearing of the current output cell\n",
       "var outputEl = gd.closest('.output');\n",
       "if (outputEl) {{\n",
       "    x.observe(outputEl, {childList: true});\n",
       "}}\n",
       "\n",
       "                        })                };                });            </script>        </div>"
      ]
     },
     "metadata": {},
     "output_type": "display_data"
    }
   ],
   "source": [
    "np.random.seed(69634)\n",
    "\n",
    "def default_applyer(blob_index):\n",
    "    if blob_index == 0:\n",
    "        return np.random.choice(range(3), 1, p=[0.6, 0.2, 0.2])[0]\n",
    "    if blob_index == 1:\n",
    "        return np.random.choice(range(3), 1, p=[0.25, 0.5, 0.25])[0]\n",
    "    if blob_index == 2:\n",
    "        return np.random.choice(range(3), 1, p=[0.2, 0.2, 0.6])[0]\n",
    "    \n",
    "example_data[\"class3\"] = example_data['blob'].apply(default_applyer)\n",
    "\n",
    "three_classes_fig = blobs_with_classes_scatter(\n",
    "    example_data, fig = go.Figure(), class_var = 'class3', \n",
    "    colors = ['red', 'blue', 'yellow']\n",
    ")\n",
    "three_classes_fig.show()"
   ]
  },
  {
   "cell_type": "markdown",
   "id": "446ea866-f2b1-444d-b2f9-5106680a54e4",
   "metadata": {},
   "source": [
    "# Now let's look how basic KMeans discretizes the folowing range\n",
    "\n",
    "Class kmeans_ranges described in disc_kmeans_example.ipynb"
   ]
  },
  {
   "cell_type": "code",
   "execution_count": 6,
   "id": "56379d10-5886-488f-9015-66eca6b62fcd",
   "metadata": {},
   "outputs": [
    {
     "data": {
      "application/vnd.plotly.v1+json": {
       "config": {
        "plotlyServerURL": "https://plot.ly"
       },
       "data": [
        {
         "marker": {
          "color": "blue"
         },
         "mode": "markers",
         "name": "class 0",
         "type": "scatter",
         "x": [
          0.20463856059125796,
          4.1631199233999485,
          -8.369681215915417,
          1.7775587927405367,
          -11.244037457493777,
          -13.120281418995308,
          0.6480112369008153,
          0.6491692500669148,
          -1.5083597352147367,
          -11.746234640493512,
          -0.16539599005027494,
          -6.550984590389002,
          3.381399457939467,
          -11.145937244312341,
          4.056651413612796,
          -10.277460814908444,
          -6.757164583528672,
          -9.76810870933683,
          -7.39627793625731,
          -2.5638233653736013,
          7.030147227278731,
          -8.934770906613283,
          -7.834369572568356,
          0.34942305137594465,
          -7.137795837392885,
          -8.756357458017126,
          -8.759682095036741,
          -10.994053655300526,
          -13.603077393760564,
          -0.3894659195119785,
          -9.23810837554962,
          -7.273309364911957,
          -10.508795881993306,
          -11.234620697270556,
          -10.383321503450619,
          -12.715963728893504,
          -1.996427127262156,
          -9.344856415100871,
          -8.898384490447942,
          -7.307678704829933,
          -8.629687165032113,
          -6.922350796281172,
          -10.719031881663973,
          -9.532437012007245,
          -8.1930167164184,
          8.020254354669449,
          2.444867248388025,
          0.2421654016780168,
          2.245698171908002,
          -9.361840604156301,
          -1.406788897929117,
          -2.3226884863060375,
          -1.7488766376864413,
          -13.044402431648006,
          -11.624566822474863,
          1.2287659535595838,
          -10.223512827300151,
          1.2468243240438706,
          0.6720094388685376,
          -1.5746157269520378,
          -7.515911678845329,
          1.464506141656872,
          -9.077391018532103,
          -9.049233911751557,
          -2.5945395709862593,
          -7.898925008047569,
          -9.401516137859995,
          7.235971067840669,
          -2.199609062141695,
          -7.262227685988265,
          -7.32203317225099,
          0.5176113201958619,
          -7.475977639375951,
          -8.182198924126345,
          -10.90740120361587,
          -9.417788466749556,
          -0.015326888126702354,
          -11.398536064670372,
          -4.6260407060514845,
          -9.644834408027014,
          -6.736741225097147,
          -7.24766215776755,
          -7.4991767202699835,
          3.8987372981227946,
          -7.765593780585162,
          -7.941069351294582,
          -9.593282304741725,
          -4.799489727042316,
          -10.240001687896259,
          -2.9108505247473784,
          3.7702578952681263,
          -11.199782534628062,
          -10.207841255586514,
          -7.995011322196263,
          -10.247061459359584,
          -2.411681014804568,
          -8.679925861104339,
          6.034329452748177,
          -1.2208940528346326,
          -7.1968185588144085,
          0.6500596488779717,
          -1.8699133659104554,
          -4.348391615237864,
          -7.763239476002951,
          -5.751309272673517,
          0.23707826157258638,
          -8.428825349491483,
          -8.618169030665069,
          -11.288682779246285,
          -8.153011291871774,
          -10.273991293138707,
          -9.894257129571997,
          -6.452488139682447,
          -9.38367110472323,
          -10.871538868518137,
          -4.792721845782185,
          7.840035866495526,
          -5.744698493702187,
          -9.704499692987037,
          -0.596339642251992,
          -7.958847325853259,
          -0.43050377830188413,
          -10.69041128299744,
          -2.660343790630228,
          -6.602164240196986,
          -8.399659360088345,
          5.63164734869251,
          1.0888841894145176,
          -9.596185670205431,
          -8.535010881642524,
          -9.025329197837802,
          -10.056343504526911,
          -5.5103764715670405,
          -9.20349174505829,
          -0.7417968405785491,
          10.112711046396587,
          0.24672435315606545,
          -8.361921807885803,
          -7.634897186271029,
          -1.8863438614012755,
          5.23033550233442,
          5.115541440973654,
          -13.869675528214277,
          4.885010556427913,
          -7.974140359163982,
          -12.23154470940659,
          -0.5146611178364109,
          -9.245780451037296,
          -8.117271112862836,
          3.102346885714889,
          -9.200310466567,
          -9.687707351142151,
          -0.4386698457547219,
          -9.62023354703612,
          1.6629142251751836,
          -10.775257928169673,
          -7.603935931855562,
          -2.234724127424722,
          -11.888227610859179,
          2.253678044729397,
          -3.238230797119456,
          -8.179896705583488,
          -1.1690160548092596,
          -9.612408025256745,
          -7.269184741350643,
          -2.735537355247181,
          8.902858521181871,
          -5.6803956457802585,
          -4.628849186933677,
          -3.611453845115475,
          -10.374345400239198,
          -5.065796501490531,
          6.903892074642446,
          -7.229717671458544,
          -11.792992670976275,
          -10.367455718348666,
          -3.685351578754872,
          -7.027329624357516,
          2.2338991977146003,
          -10.342492261673637,
          -9.272889487792066,
          1.2446566433141846,
          -1.1136489617716947,
          -7.344050714785507,
          -10.494316587501675,
          1.4041097243994116,
          -11.201238354425843,
          -6.732461115329125,
          -5.960366367155602,
          -6.710552580320772,
          -7.5188870978074505,
          -8.915572506568815,
          3.784574995430895,
          -8.00957735204408,
          5.651639311384018,
          -8.36873010551679,
          -9.373139543814698,
          -8.844357744174587,
          -2.6521948636946404,
          -8.965181183399991,
          -7.414386268161305,
          -9.49874075095482,
          1.5258269777750586,
          -6.075784125910052,
          -8.323976606851048,
          -8.298908042671785,
          -8.022963706925006,
          -8.845319863302882,
          7.741939605064484,
          -6.741032184176161,
          -2.293833376509816,
          -1.6396031977973424,
          3.1953417090937264,
          0.3601396797562091,
          4.444282346745174,
          -7.939289066523628,
          -8.90686540315171,
          -0.7875545519295644,
          -9.349406319485002,
          -2.0915483359651352,
          -8.661235133882665,
          -0.26101456724855254,
          -7.826753617635605,
          -0.8784996084009865,
          1.5864517650645236,
          -10.341324572578062,
          -10.755716835842744,
          2.912157807407284,
          -4.0513606324587155,
          0.7698176289297667,
          -2.7355744457458515,
          -9.535776159252032,
          -0.15943559270588092,
          -11.28503639604428,
          -1.4526284850272104,
          -8.531168604365815,
          -1.2719546522011786,
          3.1315666404376685,
          -10.034188915840456,
          -10.522413801790206,
          -9.793507053711954
         ],
         "y": [
          1,
          2,
          0,
          1,
          0,
          0,
          1,
          1,
          1,
          0,
          1,
          0,
          1,
          0,
          1,
          0,
          0,
          0,
          0,
          1,
          2,
          0,
          0,
          1,
          0,
          0,
          0,
          0,
          0,
          1,
          0,
          0,
          0,
          0,
          0,
          0,
          1,
          0,
          0,
          0,
          0,
          0,
          0,
          0,
          0,
          2,
          2,
          1,
          1,
          0,
          1,
          1,
          1,
          0,
          0,
          1,
          0,
          1,
          1,
          1,
          0,
          1,
          0,
          0,
          1,
          0,
          0,
          2,
          1,
          0,
          0,
          1,
          0,
          0,
          0,
          0,
          1,
          0,
          0,
          0,
          0,
          0,
          0,
          1,
          0,
          0,
          0,
          0,
          0,
          1,
          2,
          0,
          0,
          0,
          0,
          1,
          0,
          2,
          1,
          0,
          1,
          1,
          1,
          0,
          0,
          1,
          0,
          0,
          0,
          0,
          0,
          0,
          0,
          0,
          0,
          1,
          2,
          0,
          0,
          1,
          0,
          1,
          0,
          1,
          0,
          0,
          2,
          1,
          0,
          0,
          0,
          0,
          0,
          0,
          1,
          2,
          1,
          0,
          0,
          1,
          2,
          2,
          0,
          2,
          0,
          0,
          1,
          0,
          0,
          1,
          0,
          0,
          1,
          0,
          1,
          0,
          0,
          1,
          0,
          2,
          1,
          0,
          1,
          0,
          0,
          1,
          2,
          0,
          0,
          1,
          0,
          0,
          2,
          0,
          0,
          0,
          1,
          0,
          1,
          0,
          0,
          1,
          1,
          0,
          0,
          1,
          0,
          0,
          0,
          0,
          0,
          0,
          2,
          0,
          2,
          0,
          0,
          0,
          1,
          0,
          0,
          0,
          2,
          0,
          0,
          0,
          0,
          0,
          2,
          0,
          1,
          1,
          2,
          1,
          2,
          0,
          0,
          1,
          0,
          1,
          0,
          1,
          0,
          1,
          1,
          0,
          0,
          1,
          1,
          1,
          1,
          0,
          1,
          0,
          1,
          0,
          1,
          1,
          0,
          0,
          0
         ]
        },
        {
         "marker": {
          "color": "red"
         },
         "mode": "markers",
         "name": "class 1",
         "type": "scatter",
         "x": [
          5.312198581579215,
          -10.008931725892902,
          5.964563364179716,
          6.9025680320803415,
          4.655103922426807,
          0.802973783297422,
          7.589056479202164,
          5.663602320510568,
          4.925553952249324,
          0.6219033456071115,
          0.24360700861114482,
          8.395661683442501,
          -0.8381457980534428,
          4.5552161891716985,
          9.530670201038143,
          -1.4758838715043652,
          -1.5947237655470072,
          5.542468342259675,
          0.17132400034476492,
          1.2221133971210092,
          5.170306197423529,
          6.647054707202864,
          0.3180995922004204,
          -1.4616794862709388,
          0.12552219323805258,
          7.455626999999298,
          4.355065622191496,
          5.789310574984916,
          7.841230236109912,
          3.6796597900354477,
          -3.089178763815583,
          2.9224135085107137,
          8.557056165683443,
          5.041630169745188,
          6.152760960319184,
          -9.151143426042111,
          2.909756150018069,
          5.649082062676495,
          5.1042096305677624,
          5.102523934656754,
          4.7639263046368425,
          2.095789425509535,
          5.04168580242784,
          0.569541302031179,
          4.749315997068024,
          7.681723116282208,
          -0.4470013903556327,
          -0.5729321973291164,
          -11.460116271333924,
          7.0308276035664825,
          -1.5581954430865805,
          -0.14094771995607103,
          10.10924820503623,
          6.900311025534358,
          8.231682215848338,
          4.933959347832801,
          1.8150800004824572,
          8.089988819347795,
          7.18494560284804,
          7.1287657109886275,
          -8.502401677224459,
          0.751677855298599,
          5.436527461868774,
          7.610786848464363,
          6.955220363635115,
          4.465380347336531,
          -4.301442531648201,
          5.619557949830277,
          8.067373735879002,
          -0.7811946071491437,
          1.3206771399875392,
          -0.6456245594480792,
          -2.761155199688342,
          4.196731019048004,
          -3.6639033330344963,
          2.584316417951134,
          4.297088686938347,
          2.1176110812397186,
          1.7996878849619717,
          -1.875017965657162,
          6.9332865344576815,
          -2.2139967964000924,
          -6.58617000029308,
          4.610158197629522,
          5.861342606619035,
          -8.24487242735816,
          1.1729939976524246,
          -0.3729045590731357,
          -2.3613562820177716,
          5.768029629055207,
          8.23626679343539,
          7.169293220954852,
          -6.494263689533424,
          0.5900521888496895,
          8.080178306308191,
          5.929264150242578,
          9.669435253299373,
          8.465798384752475,
          3.6480346571173694,
          8.700213637363452,
          9.579509366412543,
          10.221210107201419,
          0.8429001373190228,
          1.771672156166348,
          -3.4394887939580654,
          5.78321586565292,
          0.006369626870652123,
          2.841687429211069,
          -3.3646362530192673,
          4.597311147485646,
          8.921784760926156,
          -3.232940035769489,
          10.275656134878965,
          5.762457655793821,
          2.6210698282509126,
          6.648548486896842,
          -4.254876681232515,
          -0.12366730541752502,
          5.154286077218449,
          2.8093174166819623,
          4.1321706887469976,
          -1.3976757257777934,
          5.1739413805779355,
          -9.444656285220718,
          -0.4750651090734628,
          9.535919896622053,
          5.337433660134743,
          -8.539810529271232,
          -0.9126620136432217,
          -0.8091498256174846,
          6.3125277005401665,
          0.43493106469415466,
          -10.550323238338319,
          -7.198288101471176,
          -2.4665432077906257,
          6.106819073596696,
          -2.1246108620381796,
          0.005481763999808598,
          4.983085731449199,
          -8.62687721802343,
          -1.3731579870229327,
          -1.6219699566057018,
          -3.94231385166525,
          2.6318800282635255,
          2.1133531886632944,
          9.73294275030425,
          3.146889158958936,
          7.349141413912007,
          6.9022458774691975,
          2.8750576272321595,
          7.878337488392976,
          2.114821637047089,
          1.92559754863841,
          -1.1462254074945555,
          4.428932006159529,
          3.9996616202549684,
          5.049254249724036,
          8.001762847360602,
          5.527126096374027,
          0.9122434082493929,
          -1.689974420309959,
          -2.4007970098425093,
          5.609885318248198,
          7.554838410497726,
          8.208348652606427,
          -9.750569900180228,
          -1.49726955543092,
          9.226722749126232,
          -3.793240849190864,
          2.4881487195342964,
          3.386931854311963,
          6.070720194109515,
          -8.912806286331506,
          0.3091603051734009,
          -1.8017563835778532,
          1.385372135509387,
          5.900594841682648,
          -2.451194238268855,
          6.172928813048575,
          8.231403605568973,
          8.293800752798965,
          6.773078290266183,
          -2.722632721552084,
          -2.754563037836377,
          -4.521377120797567,
          5.794225564852924,
          -0.9669448653887688,
          -1.6529989961563685,
          5.250390625394695,
          -8.761982708385082,
          -1.240929143577015,
          7.42957919497163,
          9.520498452898186,
          6.903231901110483,
          -3.88175204858368,
          7.705408123450573,
          -0.7319036068907537,
          6.734463627767729,
          5.1417154435298125,
          -9.698685444825754,
          -2.173047877643185,
          1.3105757721764504,
          -7.812842953525866,
          6.704988728738666,
          1.715066541845263,
          -2.3893871905744524,
          1.8115043675543756,
          5.061714224744061,
          4.5000607654486675,
          -3.4737067530827948,
          8.197992665494358,
          5.780017019672786,
          -11.189823691482083,
          6.700334317656558,
          6.043725673253105,
          7.348792209641738,
          -6.527671939094359,
          5.062652367444217,
          4.339662271954584,
          -2.994039591059365,
          0.1718208622052313,
          7.617688720531364,
          -1.2135879735584503,
          6.620544575567535,
          -3.5451175104919885,
          6.922328199954035,
          -0.9732946473056469,
          5.6020036323925515,
          0.3220405751973858,
          -5.615090797944507,
          7.706562443911245,
          -0.5777504899845665,
          7.217029396969699,
          9.409188342744814,
          -1.1023768952153283,
          -1.0037829656760073,
          4.342744042287189,
          7.260391341369822,
          -8.724597580005227,
          5.87869501645038,
          -0.2673359709198835,
          3.9562281107173813,
          -2.781111168326097,
          -2.331509036398253,
          6.01709789087205,
          4.935531958203645,
          8.91621647721904,
          2.0867182216089675,
          5.176721673623035,
          7.057759491170348,
          7.443422584225385,
          0.9871186946478776,
          4.812313865490981,
          8.416912657103925,
          -0.4346485755031595,
          -3.4662414708928533,
          5.162124204643754,
          -0.5185258155245356,
          -8.603400559746461
         ],
         "y": [
          2.1,
          0.1,
          2.1,
          2.1,
          2.1,
          1.1,
          2.1,
          2.1,
          2.1,
          1.1,
          1.1,
          2.1,
          1.1,
          2.1,
          2.1,
          1.1,
          1.1,
          2.1,
          1.1,
          1.1,
          2.1,
          2.1,
          1.1,
          1.1,
          1.1,
          2.1,
          2.1,
          2.1,
          2.1,
          2.1,
          1.1,
          2.1,
          2.1,
          2.1,
          2.1,
          0.1,
          1.1,
          2.1,
          2.1,
          2.1,
          2.1,
          2.1,
          2.1,
          1.1,
          2.1,
          2.1,
          1.1,
          1.1,
          0.1,
          2.1,
          1.1,
          1.1,
          2.1,
          2.1,
          2.1,
          2.1,
          1.1,
          2.1,
          2.1,
          2.1,
          0.1,
          1.1,
          2.1,
          2.1,
          2.1,
          2.1,
          1.1,
          2.1,
          2.1,
          1.1,
          1.1,
          1.1,
          1.1,
          2.1,
          1.1,
          1.1,
          2.1,
          1.1,
          1.1,
          1.1,
          2.1,
          1.1,
          1.1,
          2.1,
          2.1,
          0.1,
          2.1,
          1.1,
          1.1,
          2.1,
          2.1,
          2.1,
          0.1,
          1.1,
          2.1,
          2.1,
          2.1,
          2.1,
          2.1,
          2.1,
          2.1,
          2.1,
          1.1,
          2.1,
          1.1,
          2.1,
          1.1,
          2.1,
          1.1,
          2.1,
          2.1,
          1.1,
          2.1,
          2.1,
          1.1,
          2.1,
          1.1,
          1.1,
          2.1,
          1.1,
          2.1,
          1.1,
          2.1,
          0.1,
          1.1,
          2.1,
          2.1,
          0.1,
          1.1,
          1.1,
          2.1,
          2.1,
          0.1,
          0.1,
          1.1,
          2.1,
          1.1,
          1.1,
          2.1,
          0.1,
          1.1,
          1.1,
          1.1,
          2.1,
          2.1,
          2.1,
          2.1,
          2.1,
          2.1,
          1.1,
          2.1,
          2.1,
          2.1,
          1.1,
          2.1,
          2.1,
          2.1,
          2.1,
          2.1,
          1.1,
          1.1,
          1.1,
          2.1,
          2.1,
          2.1,
          0.1,
          1.1,
          2.1,
          1.1,
          2.1,
          2.1,
          2.1,
          0.1,
          1.1,
          1.1,
          1.1,
          2.1,
          1.1,
          2.1,
          2.1,
          2.1,
          2.1,
          1.1,
          1.1,
          1.1,
          2.1,
          1.1,
          1.1,
          2.1,
          0.1,
          1.1,
          2.1,
          2.1,
          2.1,
          1.1,
          2.1,
          1.1,
          2.1,
          2.1,
          0.1,
          1.1,
          1.1,
          0.1,
          2.1,
          2.1,
          1.1,
          2.1,
          1.1,
          2.1,
          1.1,
          2.1,
          2.1,
          0.1,
          2.1,
          2.1,
          2.1,
          0.1,
          2.1,
          2.1,
          1.1,
          1.1,
          2.1,
          1.1,
          2.1,
          1.1,
          2.1,
          1.1,
          2.1,
          1.1,
          0.1,
          2.1,
          1.1,
          2.1,
          2.1,
          1.1,
          1.1,
          2.1,
          2.1,
          0.1,
          2.1,
          1.1,
          2.1,
          1.1,
          1.1,
          2.1,
          2.1,
          2.1,
          1.1,
          2.1,
          2.1,
          2.1,
          2.1,
          2.1,
          2.1,
          1.1,
          1.1,
          2.1,
          1.1,
          0.1
         ]
        },
        {
         "line": {
          "color": "firebrick",
          "dash": "dash",
          "width": 2
         },
         "mode": "lines",
         "showlegend": false,
         "type": "scatter",
         "x": [
          -2.0915483359651352,
          -2.0915483359651352
         ],
         "y": [
          0,
          2
         ]
        }
       ],
       "layout": {
        "autosize": true,
        "template": {
         "data": {
          "bar": [
           {
            "error_x": {
             "color": "#2a3f5f"
            },
            "error_y": {
             "color": "#2a3f5f"
            },
            "marker": {
             "line": {
              "color": "#E5ECF6",
              "width": 0.5
             },
             "pattern": {
              "fillmode": "overlay",
              "size": 10,
              "solidity": 0.2
             }
            },
            "type": "bar"
           }
          ],
          "barpolar": [
           {
            "marker": {
             "line": {
              "color": "#E5ECF6",
              "width": 0.5
             },
             "pattern": {
              "fillmode": "overlay",
              "size": 10,
              "solidity": 0.2
             }
            },
            "type": "barpolar"
           }
          ],
          "carpet": [
           {
            "aaxis": {
             "endlinecolor": "#2a3f5f",
             "gridcolor": "white",
             "linecolor": "white",
             "minorgridcolor": "white",
             "startlinecolor": "#2a3f5f"
            },
            "baxis": {
             "endlinecolor": "#2a3f5f",
             "gridcolor": "white",
             "linecolor": "white",
             "minorgridcolor": "white",
             "startlinecolor": "#2a3f5f"
            },
            "type": "carpet"
           }
          ],
          "choropleth": [
           {
            "colorbar": {
             "outlinewidth": 0,
             "ticks": ""
            },
            "type": "choropleth"
           }
          ],
          "contour": [
           {
            "colorbar": {
             "outlinewidth": 0,
             "ticks": ""
            },
            "colorscale": [
             [
              0,
              "#0d0887"
             ],
             [
              0.1111111111111111,
              "#46039f"
             ],
             [
              0.2222222222222222,
              "#7201a8"
             ],
             [
              0.3333333333333333,
              "#9c179e"
             ],
             [
              0.4444444444444444,
              "#bd3786"
             ],
             [
              0.5555555555555556,
              "#d8576b"
             ],
             [
              0.6666666666666666,
              "#ed7953"
             ],
             [
              0.7777777777777778,
              "#fb9f3a"
             ],
             [
              0.8888888888888888,
              "#fdca26"
             ],
             [
              1,
              "#f0f921"
             ]
            ],
            "type": "contour"
           }
          ],
          "contourcarpet": [
           {
            "colorbar": {
             "outlinewidth": 0,
             "ticks": ""
            },
            "type": "contourcarpet"
           }
          ],
          "heatmap": [
           {
            "colorbar": {
             "outlinewidth": 0,
             "ticks": ""
            },
            "colorscale": [
             [
              0,
              "#0d0887"
             ],
             [
              0.1111111111111111,
              "#46039f"
             ],
             [
              0.2222222222222222,
              "#7201a8"
             ],
             [
              0.3333333333333333,
              "#9c179e"
             ],
             [
              0.4444444444444444,
              "#bd3786"
             ],
             [
              0.5555555555555556,
              "#d8576b"
             ],
             [
              0.6666666666666666,
              "#ed7953"
             ],
             [
              0.7777777777777778,
              "#fb9f3a"
             ],
             [
              0.8888888888888888,
              "#fdca26"
             ],
             [
              1,
              "#f0f921"
             ]
            ],
            "type": "heatmap"
           }
          ],
          "heatmapgl": [
           {
            "colorbar": {
             "outlinewidth": 0,
             "ticks": ""
            },
            "colorscale": [
             [
              0,
              "#0d0887"
             ],
             [
              0.1111111111111111,
              "#46039f"
             ],
             [
              0.2222222222222222,
              "#7201a8"
             ],
             [
              0.3333333333333333,
              "#9c179e"
             ],
             [
              0.4444444444444444,
              "#bd3786"
             ],
             [
              0.5555555555555556,
              "#d8576b"
             ],
             [
              0.6666666666666666,
              "#ed7953"
             ],
             [
              0.7777777777777778,
              "#fb9f3a"
             ],
             [
              0.8888888888888888,
              "#fdca26"
             ],
             [
              1,
              "#f0f921"
             ]
            ],
            "type": "heatmapgl"
           }
          ],
          "histogram": [
           {
            "marker": {
             "pattern": {
              "fillmode": "overlay",
              "size": 10,
              "solidity": 0.2
             }
            },
            "type": "histogram"
           }
          ],
          "histogram2d": [
           {
            "colorbar": {
             "outlinewidth": 0,
             "ticks": ""
            },
            "colorscale": [
             [
              0,
              "#0d0887"
             ],
             [
              0.1111111111111111,
              "#46039f"
             ],
             [
              0.2222222222222222,
              "#7201a8"
             ],
             [
              0.3333333333333333,
              "#9c179e"
             ],
             [
              0.4444444444444444,
              "#bd3786"
             ],
             [
              0.5555555555555556,
              "#d8576b"
             ],
             [
              0.6666666666666666,
              "#ed7953"
             ],
             [
              0.7777777777777778,
              "#fb9f3a"
             ],
             [
              0.8888888888888888,
              "#fdca26"
             ],
             [
              1,
              "#f0f921"
             ]
            ],
            "type": "histogram2d"
           }
          ],
          "histogram2dcontour": [
           {
            "colorbar": {
             "outlinewidth": 0,
             "ticks": ""
            },
            "colorscale": [
             [
              0,
              "#0d0887"
             ],
             [
              0.1111111111111111,
              "#46039f"
             ],
             [
              0.2222222222222222,
              "#7201a8"
             ],
             [
              0.3333333333333333,
              "#9c179e"
             ],
             [
              0.4444444444444444,
              "#bd3786"
             ],
             [
              0.5555555555555556,
              "#d8576b"
             ],
             [
              0.6666666666666666,
              "#ed7953"
             ],
             [
              0.7777777777777778,
              "#fb9f3a"
             ],
             [
              0.8888888888888888,
              "#fdca26"
             ],
             [
              1,
              "#f0f921"
             ]
            ],
            "type": "histogram2dcontour"
           }
          ],
          "mesh3d": [
           {
            "colorbar": {
             "outlinewidth": 0,
             "ticks": ""
            },
            "type": "mesh3d"
           }
          ],
          "parcoords": [
           {
            "line": {
             "colorbar": {
              "outlinewidth": 0,
              "ticks": ""
             }
            },
            "type": "parcoords"
           }
          ],
          "pie": [
           {
            "automargin": true,
            "type": "pie"
           }
          ],
          "scatter": [
           {
            "fillpattern": {
             "fillmode": "overlay",
             "size": 10,
             "solidity": 0.2
            },
            "type": "scatter"
           }
          ],
          "scatter3d": [
           {
            "line": {
             "colorbar": {
              "outlinewidth": 0,
              "ticks": ""
             }
            },
            "marker": {
             "colorbar": {
              "outlinewidth": 0,
              "ticks": ""
             }
            },
            "type": "scatter3d"
           }
          ],
          "scattercarpet": [
           {
            "marker": {
             "colorbar": {
              "outlinewidth": 0,
              "ticks": ""
             }
            },
            "type": "scattercarpet"
           }
          ],
          "scattergeo": [
           {
            "marker": {
             "colorbar": {
              "outlinewidth": 0,
              "ticks": ""
             }
            },
            "type": "scattergeo"
           }
          ],
          "scattergl": [
           {
            "marker": {
             "colorbar": {
              "outlinewidth": 0,
              "ticks": ""
             }
            },
            "type": "scattergl"
           }
          ],
          "scattermapbox": [
           {
            "marker": {
             "colorbar": {
              "outlinewidth": 0,
              "ticks": ""
             }
            },
            "type": "scattermapbox"
           }
          ],
          "scatterpolar": [
           {
            "marker": {
             "colorbar": {
              "outlinewidth": 0,
              "ticks": ""
             }
            },
            "type": "scatterpolar"
           }
          ],
          "scatterpolargl": [
           {
            "marker": {
             "colorbar": {
              "outlinewidth": 0,
              "ticks": ""
             }
            },
            "type": "scatterpolargl"
           }
          ],
          "scatterternary": [
           {
            "marker": {
             "colorbar": {
              "outlinewidth": 0,
              "ticks": ""
             }
            },
            "type": "scatterternary"
           }
          ],
          "surface": [
           {
            "colorbar": {
             "outlinewidth": 0,
             "ticks": ""
            },
            "colorscale": [
             [
              0,
              "#0d0887"
             ],
             [
              0.1111111111111111,
              "#46039f"
             ],
             [
              0.2222222222222222,
              "#7201a8"
             ],
             [
              0.3333333333333333,
              "#9c179e"
             ],
             [
              0.4444444444444444,
              "#bd3786"
             ],
             [
              0.5555555555555556,
              "#d8576b"
             ],
             [
              0.6666666666666666,
              "#ed7953"
             ],
             [
              0.7777777777777778,
              "#fb9f3a"
             ],
             [
              0.8888888888888888,
              "#fdca26"
             ],
             [
              1,
              "#f0f921"
             ]
            ],
            "type": "surface"
           }
          ],
          "table": [
           {
            "cells": {
             "fill": {
              "color": "#EBF0F8"
             },
             "line": {
              "color": "white"
             }
            },
            "header": {
             "fill": {
              "color": "#C8D4E3"
             },
             "line": {
              "color": "white"
             }
            },
            "type": "table"
           }
          ]
         },
         "layout": {
          "annotationdefaults": {
           "arrowcolor": "#2a3f5f",
           "arrowhead": 0,
           "arrowwidth": 1
          },
          "autotypenumbers": "strict",
          "coloraxis": {
           "colorbar": {
            "outlinewidth": 0,
            "ticks": ""
           }
          },
          "colorscale": {
           "diverging": [
            [
             0,
             "#8e0152"
            ],
            [
             0.1,
             "#c51b7d"
            ],
            [
             0.2,
             "#de77ae"
            ],
            [
             0.3,
             "#f1b6da"
            ],
            [
             0.4,
             "#fde0ef"
            ],
            [
             0.5,
             "#f7f7f7"
            ],
            [
             0.6,
             "#e6f5d0"
            ],
            [
             0.7,
             "#b8e186"
            ],
            [
             0.8,
             "#7fbc41"
            ],
            [
             0.9,
             "#4d9221"
            ],
            [
             1,
             "#276419"
            ]
           ],
           "sequential": [
            [
             0,
             "#0d0887"
            ],
            [
             0.1111111111111111,
             "#46039f"
            ],
            [
             0.2222222222222222,
             "#7201a8"
            ],
            [
             0.3333333333333333,
             "#9c179e"
            ],
            [
             0.4444444444444444,
             "#bd3786"
            ],
            [
             0.5555555555555556,
             "#d8576b"
            ],
            [
             0.6666666666666666,
             "#ed7953"
            ],
            [
             0.7777777777777778,
             "#fb9f3a"
            ],
            [
             0.8888888888888888,
             "#fdca26"
            ],
            [
             1,
             "#f0f921"
            ]
           ],
           "sequentialminus": [
            [
             0,
             "#0d0887"
            ],
            [
             0.1111111111111111,
             "#46039f"
            ],
            [
             0.2222222222222222,
             "#7201a8"
            ],
            [
             0.3333333333333333,
             "#9c179e"
            ],
            [
             0.4444444444444444,
             "#bd3786"
            ],
            [
             0.5555555555555556,
             "#d8576b"
            ],
            [
             0.6666666666666666,
             "#ed7953"
            ],
            [
             0.7777777777777778,
             "#fb9f3a"
            ],
            [
             0.8888888888888888,
             "#fdca26"
            ],
            [
             1,
             "#f0f921"
            ]
           ]
          },
          "colorway": [
           "#636efa",
           "#EF553B",
           "#00cc96",
           "#ab63fa",
           "#FFA15A",
           "#19d3f3",
           "#FF6692",
           "#B6E880",
           "#FF97FF",
           "#FECB52"
          ],
          "font": {
           "color": "#2a3f5f"
          },
          "geo": {
           "bgcolor": "white",
           "lakecolor": "white",
           "landcolor": "#E5ECF6",
           "showlakes": true,
           "showland": true,
           "subunitcolor": "white"
          },
          "hoverlabel": {
           "align": "left"
          },
          "hovermode": "closest",
          "mapbox": {
           "style": "light"
          },
          "paper_bgcolor": "white",
          "plot_bgcolor": "#E5ECF6",
          "polar": {
           "angularaxis": {
            "gridcolor": "white",
            "linecolor": "white",
            "ticks": ""
           },
           "bgcolor": "#E5ECF6",
           "radialaxis": {
            "gridcolor": "white",
            "linecolor": "white",
            "ticks": ""
           }
          },
          "scene": {
           "xaxis": {
            "backgroundcolor": "#E5ECF6",
            "gridcolor": "white",
            "gridwidth": 2,
            "linecolor": "white",
            "showbackground": true,
            "ticks": "",
            "zerolinecolor": "white"
           },
           "yaxis": {
            "backgroundcolor": "#E5ECF6",
            "gridcolor": "white",
            "gridwidth": 2,
            "linecolor": "white",
            "showbackground": true,
            "ticks": "",
            "zerolinecolor": "white"
           },
           "zaxis": {
            "backgroundcolor": "#E5ECF6",
            "gridcolor": "white",
            "gridwidth": 2,
            "linecolor": "white",
            "showbackground": true,
            "ticks": "",
            "zerolinecolor": "white"
           }
          },
          "shapedefaults": {
           "line": {
            "color": "#2a3f5f"
           }
          },
          "ternary": {
           "aaxis": {
            "gridcolor": "white",
            "linecolor": "white",
            "ticks": ""
           },
           "baxis": {
            "gridcolor": "white",
            "linecolor": "white",
            "ticks": ""
           },
           "bgcolor": "#E5ECF6",
           "caxis": {
            "gridcolor": "white",
            "linecolor": "white",
            "ticks": ""
           }
          },
          "title": {
           "x": 0.05
          },
          "xaxis": {
           "automargin": true,
           "gridcolor": "white",
           "linecolor": "white",
           "ticks": "",
           "title": {
            "standoff": 15
           },
           "zerolinecolor": "white",
           "zerolinewidth": 2
          },
          "yaxis": {
           "automargin": true,
           "gridcolor": "white",
           "linecolor": "white",
           "ticks": "",
           "title": {
            "standoff": 15
           },
           "zerolinecolor": "white",
           "zerolinewidth": 2
          }
         }
        },
        "xaxis": {
         "autorange": true,
         "range": [
          -15.416316520097443,
          11.82229712676213
         ],
         "type": "linear"
        },
        "yaxis": {
         "autorange": true,
         "range": [
          -0.1733009708737864,
          2.2733009708737866
         ],
         "type": "linear"
        }
       }
      },
      "image/png": "[encoded data removed]",
      "text/html": [
       "<div>                            <div id=\"ff212dc7-1a87-418f-8bda-1560199a1227\" class=\"plotly-graph-div\" style=\"height:525px; width:100%;\"></div>            <script type=\"text/javascript\">                require([\"plotly\"], function(Plotly) {                    window.PLOTLYENV=window.PLOTLYENV || {};                                    if (document.getElementById(\"ff212dc7-1a87-418f-8bda-1560199a1227\")) {                    Plotly.newPlot(                        \"ff212dc7-1a87-418f-8bda-1560199a1227\",                        [{\"marker\":{\"color\":\"blue\"},\"mode\":\"markers\",\"name\":\"class 0\",\"x\":[0.20463856059125796,4.1631199233999485,-8.369681215915417,1.7775587927405367,-11.244037457493777,-13.120281418995308,0.6480112369008153,0.6491692500669148,-1.5083597352147367,-11.746234640493512,-0.16539599005027494,-6.550984590389002,3.381399457939467,-11.145937244312341,4.056651413612796,-10.277460814908444,-6.757164583528672,-9.76810870933683,-7.39627793625731,-2.5638233653736013,7.030147227278731,-8.934770906613283,-7.834369572568356,0.34942305137594465,-7.137795837392885,-8.756357458017126,-8.759682095036741,-10.994053655300526,-13.603077393760564,-0.3894659195119785,-9.23810837554962,-7.273309364911957,-10.508795881993306,-11.234620697270556,-10.383321503450619,-12.715963728893504,-1.996427127262156,-9.344856415100871,-8.898384490447942,-7.307678704829933,-8.629687165032113,-6.922350796281172,-10.719031881663973,-9.532437012007245,-8.1930167164184,8.020254354669449,2.444867248388025,0.2421654016780168,2.245698171908002,-9.361840604156301,-1.406788897929117,-2.3226884863060375,-1.7488766376864413,-13.044402431648006,-11.624566822474863,1.2287659535595838,-10.223512827300151,1.2468243240438706,0.6720094388685376,-1.5746157269520378,-7.515911678845329,1.464506141656872,-9.077391018532103,-9.049233911751557,-2.5945395709862593,-7.898925008047569,-9.401516137859995,7.235971067840669,-2.199609062141695,-7.262227685988265,-7.32203317225099,0.5176113201958619,-7.475977639375951,-8.182198924126345,-10.90740120361587,-9.417788466749556,-0.015326888126702354,-11.398536064670372,-4.6260407060514845,-9.644834408027014,-6.736741225097147,-7.24766215776755,-7.4991767202699835,3.8987372981227946,-7.765593780585162,-7.941069351294582,-9.593282304741725,-4.799489727042316,-10.240001687896259,-2.9108505247473784,3.7702578952681263,-11.199782534628062,-10.207841255586514,-7.995011322196263,-10.247061459359584,-2.411681014804568,-8.679925861104339,6.034329452748177,-1.2208940528346326,-7.1968185588144085,0.6500596488779717,-1.8699133659104554,-4.348391615237864,-7.763239476002951,-5.751309272673517,0.23707826157258638,-8.428825349491483,-8.618169030665069,-11.288682779246285,-8.153011291871774,-10.273991293138707,-9.894257129571997,-6.452488139682447,-9.38367110472323,-10.871538868518137,-4.792721845782185,7.840035866495526,-5.744698493702187,-9.704499692987037,-0.596339642251992,-7.958847325853259,-0.43050377830188413,-10.69041128299744,-2.660343790630228,-6.602164240196986,-8.399659360088345,5.63164734869251,1.0888841894145176,-9.596185670205431,-8.535010881642524,-9.025329197837802,-10.056343504526911,-5.5103764715670405,-9.20349174505829,-0.7417968405785491,10.112711046396587,0.24672435315606545,-8.361921807885803,-7.634897186271029,-1.8863438614012755,5.23033550233442,5.115541440973654,-13.869675528214277,4.885010556427913,-7.974140359163982,-12.23154470940659,-0.5146611178364109,-9.245780451037296,-8.117271112862836,3.102346885714889,-9.200310466567,-9.687707351142151,-0.4386698457547219,-9.62023354703612,1.6629142251751836,-10.775257928169673,-7.603935931855562,-2.234724127424722,-11.888227610859179,2.253678044729397,-3.238230797119456,-8.179896705583488,-1.1690160548092596,-9.612408025256745,-7.269184741350643,-2.735537355247181,8.902858521181871,-5.6803956457802585,-4.628849186933677,-3.611453845115475,-10.374345400239198,-5.065796501490531,6.903892074642446,-7.229717671458544,-11.792992670976275,-10.367455718348666,-3.685351578754872,-7.027329624357516,2.2338991977146003,-10.342492261673637,-9.272889487792066,1.2446566433141846,-1.1136489617716947,-7.344050714785507,-10.494316587501675,1.4041097243994116,-11.201238354425843,-6.732461115329125,-5.960366367155602,-6.710552580320772,-7.5188870978074505,-8.915572506568815,3.784574995430895,-8.00957735204408,5.651639311384018,-8.36873010551679,-9.373139543814698,-8.844357744174587,-2.6521948636946404,-8.965181183399991,-7.414386268161305,-9.49874075095482,1.5258269777750586,-6.075784125910052,-8.323976606851048,-8.298908042671785,-8.022963706925006,-8.845319863302882,7.741939605064484,-6.741032184176161,-2.293833376509816,-1.6396031977973424,3.1953417090937264,0.3601396797562091,4.444282346745174,-7.939289066523628,-8.90686540315171,-0.7875545519295644,-9.349406319485002,-2.0915483359651352,-8.661235133882665,-0.26101456724855254,-7.826753617635605,-0.8784996084009865,1.5864517650645236,-10.341324572578062,-10.755716835842744,2.912157807407284,-4.0513606324587155,0.7698176289297667,-2.7355744457458515,-9.535776159252032,-0.15943559270588092,-11.28503639604428,-1.4526284850272104,-8.531168604365815,-1.2719546522011786,3.1315666404376685,-10.034188915840456,-10.522413801790206,-9.793507053711954],\"y\":[1.0,2.0,0.0,1.0,0.0,0.0,1.0,1.0,1.0,0.0,1.0,0.0,1.0,0.0,1.0,0.0,0.0,0.0,0.0,1.0,2.0,0.0,0.0,1.0,0.0,0.0,0.0,0.0,0.0,1.0,0.0,0.0,0.0,0.0,0.0,0.0,1.0,0.0,0.0,0.0,0.0,0.0,0.0,0.0,0.0,2.0,2.0,1.0,1.0,0.0,1.0,1.0,1.0,0.0,0.0,1.0,0.0,1.0,1.0,1.0,0.0,1.0,0.0,0.0,1.0,0.0,0.0,2.0,1.0,0.0,0.0,1.0,0.0,0.0,0.0,0.0,1.0,0.0,0.0,0.0,0.0,0.0,0.0,1.0,0.0,0.0,0.0,0.0,0.0,1.0,2.0,0.0,0.0,0.0,0.0,1.0,0.0,2.0,1.0,0.0,1.0,1.0,1.0,0.0,0.0,1.0,0.0,0.0,0.0,0.0,0.0,0.0,0.0,0.0,0.0,1.0,2.0,0.0,0.0,1.0,0.0,1.0,0.0,1.0,0.0,0.0,2.0,1.0,0.0,0.0,0.0,0.0,0.0,0.0,1.0,2.0,1.0,0.0,0.0,1.0,2.0,2.0,0.0,2.0,0.0,0.0,1.0,0.0,0.0,1.0,0.0,0.0,1.0,0.0,1.0,0.0,0.0,1.0,0.0,2.0,1.0,0.0,1.0,0.0,0.0,1.0,2.0,0.0,0.0,1.0,0.0,0.0,2.0,0.0,0.0,0.0,1.0,0.0,1.0,0.0,0.0,1.0,1.0,0.0,0.0,1.0,0.0,0.0,0.0,0.0,0.0,0.0,2.0,0.0,2.0,0.0,0.0,0.0,1.0,0.0,0.0,0.0,2.0,0.0,0.0,0.0,0.0,0.0,2.0,0.0,1.0,1.0,2.0,1.0,2.0,0.0,0.0,1.0,0.0,1.0,0.0,1.0,0.0,1.0,1.0,0.0,0.0,1.0,1.0,1.0,1.0,0.0,1.0,0.0,1.0,0.0,1.0,1.0,0.0,0.0,0.0],\"type\":\"scatter\"},{\"marker\":{\"color\":\"red\"},\"mode\":\"markers\",\"name\":\"class 1\",\"x\":[5.312198581579215,-10.008931725892902,5.964563364179716,6.9025680320803415,4.655103922426807,0.802973783297422,7.589056479202164,5.663602320510568,4.925553952249324,0.6219033456071115,0.24360700861114482,8.395661683442501,-0.8381457980534428,4.5552161891716985,9.530670201038143,-1.4758838715043652,-1.5947237655470072,5.542468342259675,0.17132400034476492,1.2221133971210092,5.170306197423529,6.647054707202864,0.3180995922004204,-1.4616794862709388,0.12552219323805258,7.455626999999298,4.355065622191496,5.789310574984916,7.841230236109912,3.6796597900354477,-3.089178763815583,2.9224135085107137,8.557056165683443,5.041630169745188,6.152760960319184,-9.151143426042111,2.909756150018069,5.649082062676495,5.1042096305677624,5.102523934656754,4.7639263046368425,2.095789425509535,5.04168580242784,0.569541302031179,4.749315997068024,7.681723116282208,-0.4470013903556327,-0.5729321973291164,-11.460116271333924,7.0308276035664825,-1.5581954430865805,-0.14094771995607103,10.10924820503623,6.900311025534358,8.231682215848338,4.933959347832801,1.8150800004824572,8.089988819347795,7.18494560284804,7.1287657109886275,-8.502401677224459,0.751677855298599,5.436527461868774,7.610786848464363,6.955220363635115,4.465380347336531,-4.301442531648201,5.619557949830277,8.067373735879002,-0.7811946071491437,1.3206771399875392,-0.6456245594480792,-2.761155199688342,4.196731019048004,-3.6639033330344963,2.584316417951134,4.297088686938347,2.1176110812397186,1.7996878849619717,-1.875017965657162,6.9332865344576815,-2.2139967964000924,-6.58617000029308,4.610158197629522,5.861342606619035,-8.24487242735816,1.1729939976524246,-0.3729045590731357,-2.3613562820177716,5.768029629055207,8.23626679343539,7.169293220954852,-6.494263689533424,0.5900521888496895,8.080178306308191,5.929264150242578,9.669435253299373,8.465798384752475,3.6480346571173694,8.700213637363452,9.579509366412543,10.221210107201419,0.8429001373190228,1.771672156166348,-3.4394887939580654,5.78321586565292,0.006369626870652123,2.841687429211069,-3.3646362530192673,4.597311147485646,8.921784760926156,-3.232940035769489,10.275656134878965,5.762457655793821,2.6210698282509126,6.648548486896842,-4.254876681232515,-0.12366730541752502,5.154286077218449,2.8093174166819623,4.1321706887469976,-1.3976757257777934,5.1739413805779355,-9.444656285220718,-0.4750651090734628,9.535919896622053,5.337433660134743,-8.539810529271232,-0.9126620136432217,-0.8091498256174846,6.3125277005401665,0.43493106469415466,-10.550323238338319,-7.198288101471176,-2.4665432077906257,6.106819073596696,-2.1246108620381796,0.005481763999808598,4.983085731449199,-8.62687721802343,-1.3731579870229327,-1.6219699566057018,-3.94231385166525,2.6318800282635255,2.1133531886632944,9.73294275030425,3.146889158958936,7.349141413912007,6.9022458774691975,2.8750576272321595,7.878337488392976,2.114821637047089,1.92559754863841,-1.1462254074945555,4.428932006159529,3.9996616202549684,5.049254249724036,8.001762847360602,5.527126096374027,0.9122434082493929,-1.689974420309959,-2.4007970098425093,5.609885318248198,7.554838410497726,8.208348652606427,-9.750569900180228,-1.49726955543092,9.226722749126232,-3.793240849190864,2.4881487195342964,3.386931854311963,6.070720194109515,-8.912806286331506,0.3091603051734009,-1.8017563835778532,1.385372135509387,5.900594841682648,-2.451194238268855,6.172928813048575,8.231403605568973,8.293800752798965,6.773078290266183,-2.722632721552084,-2.754563037836377,-4.521377120797567,5.794225564852924,-0.9669448653887688,-1.6529989961563685,5.250390625394695,-8.761982708385082,-1.240929143577015,7.42957919497163,9.520498452898186,6.903231901110483,-3.88175204858368,7.705408123450573,-0.7319036068907537,6.734463627767729,5.1417154435298125,-9.698685444825754,-2.173047877643185,1.3105757721764504,-7.812842953525866,6.704988728738666,1.715066541845263,-2.3893871905744524,1.8115043675543756,5.061714224744061,4.5000607654486675,-3.4737067530827948,8.197992665494358,5.780017019672786,-11.189823691482083,6.700334317656558,6.043725673253105,7.348792209641738,-6.527671939094359,5.062652367444217,4.339662271954584,-2.994039591059365,0.1718208622052313,7.617688720531364,-1.2135879735584503,6.620544575567535,-3.5451175104919885,6.922328199954035,-0.9732946473056469,5.6020036323925515,0.3220405751973858,-5.615090797944507,7.706562443911245,-0.5777504899845665,7.217029396969699,9.409188342744814,-1.1023768952153283,-1.0037829656760073,4.342744042287189,7.260391341369822,-8.724597580005227,5.87869501645038,-0.2673359709198835,3.9562281107173813,-2.781111168326097,-2.331509036398253,6.01709789087205,4.935531958203645,8.91621647721904,2.0867182216089675,5.176721673623035,7.057759491170348,7.443422584225385,0.9871186946478776,4.812313865490981,8.416912657103925,-0.4346485755031595,-3.4662414708928533,5.162124204643754,-0.5185258155245356,-8.603400559746461],\"y\":[2.1,0.1,2.1,2.1,2.1,1.1,2.1,2.1,2.1,1.1,1.1,2.1,1.1,2.1,2.1,1.1,1.1,2.1,1.1,1.1,2.1,2.1,1.1,1.1,1.1,2.1,2.1,2.1,2.1,2.1,1.1,2.1,2.1,2.1,2.1,0.1,1.1,2.1,2.1,2.1,2.1,2.1,2.1,1.1,2.1,2.1,1.1,1.1,0.1,2.1,1.1,1.1,2.1,2.1,2.1,2.1,1.1,2.1,2.1,2.1,0.1,1.1,2.1,2.1,2.1,2.1,1.1,2.1,2.1,1.1,1.1,1.1,1.1,2.1,1.1,1.1,2.1,1.1,1.1,1.1,2.1,1.1,1.1,2.1,2.1,0.1,2.1,1.1,1.1,2.1,2.1,2.1,0.1,1.1,2.1,2.1,2.1,2.1,2.1,2.1,2.1,2.1,1.1,2.1,1.1,2.1,1.1,2.1,1.1,2.1,2.1,1.1,2.1,2.1,1.1,2.1,1.1,1.1,2.1,1.1,2.1,1.1,2.1,0.1,1.1,2.1,2.1,0.1,1.1,1.1,2.1,2.1,0.1,0.1,1.1,2.1,1.1,1.1,2.1,0.1,1.1,1.1,1.1,2.1,2.1,2.1,2.1,2.1,2.1,1.1,2.1,2.1,2.1,1.1,2.1,2.1,2.1,2.1,2.1,1.1,1.1,1.1,2.1,2.1,2.1,0.1,1.1,2.1,1.1,2.1,2.1,2.1,0.1,1.1,1.1,1.1,2.1,1.1,2.1,2.1,2.1,2.1,1.1,1.1,1.1,2.1,1.1,1.1,2.1,0.1,1.1,2.1,2.1,2.1,1.1,2.1,1.1,2.1,2.1,0.1,1.1,1.1,0.1,2.1,2.1,1.1,2.1,1.1,2.1,1.1,2.1,2.1,0.1,2.1,2.1,2.1,0.1,2.1,2.1,1.1,1.1,2.1,1.1,2.1,1.1,2.1,1.1,2.1,1.1,0.1,2.1,1.1,2.1,2.1,1.1,1.1,2.1,2.1,0.1,2.1,1.1,2.1,1.1,1.1,2.1,2.1,2.1,1.1,2.1,2.1,2.1,2.1,2.1,2.1,1.1,1.1,2.1,1.1,0.1],\"type\":\"scatter\"},{\"line\":{\"color\":\"firebrick\",\"dash\":\"dash\",\"width\":2},\"mode\":\"lines\",\"showlegend\":false,\"x\":[-2.0915483359651352,-2.0915483359651352],\"y\":[0,2],\"type\":\"scatter\"}],                        {\"template\":{\"data\":{\"barpolar\":[{\"marker\":{\"line\":{\"color\":\"#E5ECF6\",\"width\":0.5},\"pattern\":{\"fillmode\":\"overlay\",\"size\":10,\"solidity\":0.2}},\"type\":\"barpolar\"}],\"bar\":[{\"error_x\":{\"color\":\"#2a3f5f\"},\"error_y\":{\"color\":\"#2a3f5f\"},\"marker\":{\"line\":{\"color\":\"#E5ECF6\",\"width\":0.5},\"pattern\":{\"fillmode\":\"overlay\",\"size\":10,\"solidity\":0.2}},\"type\":\"bar\"}],\"carpet\":[{\"aaxis\":{\"endlinecolor\":\"#2a3f5f\",\"gridcolor\":\"white\",\"linecolor\":\"white\",\"minorgridcolor\":\"white\",\"startlinecolor\":\"#2a3f5f\"},\"baxis\":{\"endlinecolor\":\"#2a3f5f\",\"gridcolor\":\"white\",\"linecolor\":\"white\",\"minorgridcolor\":\"white\",\"startlinecolor\":\"#2a3f5f\"},\"type\":\"carpet\"}],\"choropleth\":[{\"colorbar\":{\"outlinewidth\":0,\"ticks\":\"\"},\"type\":\"choropleth\"}],\"contourcarpet\":[{\"colorbar\":{\"outlinewidth\":0,\"ticks\":\"\"},\"type\":\"contourcarpet\"}],\"contour\":[{\"colorbar\":{\"outlinewidth\":0,\"ticks\":\"\"},\"colorscale\":[[0.0,\"#0d0887\"],[0.1111111111111111,\"#46039f\"],[0.2222222222222222,\"#7201a8\"],[0.3333333333333333,\"#9c179e\"],[0.4444444444444444,\"#bd3786\"],[0.5555555555555556,\"#d8576b\"],[0.6666666666666666,\"#ed7953\"],[0.7777777777777778,\"#fb9f3a\"],[0.8888888888888888,\"#fdca26\"],[1.0,\"#f0f921\"]],\"type\":\"contour\"}],\"heatmapgl\":[{\"colorbar\":{\"outlinewidth\":0,\"ticks\":\"\"},\"colorscale\":[[0.0,\"#0d0887\"],[0.1111111111111111,\"#46039f\"],[0.2222222222222222,\"#7201a8\"],[0.3333333333333333,\"#9c179e\"],[0.4444444444444444,\"#bd3786\"],[0.5555555555555556,\"#d8576b\"],[0.6666666666666666,\"#ed7953\"],[0.7777777777777778,\"#fb9f3a\"],[0.8888888888888888,\"#fdca26\"],[1.0,\"#f0f921\"]],\"type\":\"heatmapgl\"}],\"heatmap\":[{\"colorbar\":{\"outlinewidth\":0,\"ticks\":\"\"},\"colorscale\":[[0.0,\"#0d0887\"],[0.1111111111111111,\"#46039f\"],[0.2222222222222222,\"#7201a8\"],[0.3333333333333333,\"#9c179e\"],[0.4444444444444444,\"#bd3786\"],[0.5555555555555556,\"#d8576b\"],[0.6666666666666666,\"#ed7953\"],[0.7777777777777778,\"#fb9f3a\"],[0.8888888888888888,\"#fdca26\"],[1.0,\"#f0f921\"]],\"type\":\"heatmap\"}],\"histogram2dcontour\":[{\"colorbar\":{\"outlinewidth\":0,\"ticks\":\"\"},\"colorscale\":[[0.0,\"#0d0887\"],[0.1111111111111111,\"#46039f\"],[0.2222222222222222,\"#7201a8\"],[0.3333333333333333,\"#9c179e\"],[0.4444444444444444,\"#bd3786\"],[0.5555555555555556,\"#d8576b\"],[0.6666666666666666,\"#ed7953\"],[0.7777777777777778,\"#fb9f3a\"],[0.8888888888888888,\"#fdca26\"],[1.0,\"#f0f921\"]],\"type\":\"histogram2dcontour\"}],\"histogram2d\":[{\"colorbar\":{\"outlinewidth\":0,\"ticks\":\"\"},\"colorscale\":[[0.0,\"#0d0887\"],[0.1111111111111111,\"#46039f\"],[0.2222222222222222,\"#7201a8\"],[0.3333333333333333,\"#9c179e\"],[0.4444444444444444,\"#bd3786\"],[0.5555555555555556,\"#d8576b\"],[0.6666666666666666,\"#ed7953\"],[0.7777777777777778,\"#fb9f3a\"],[0.8888888888888888,\"#fdca26\"],[1.0,\"#f0f921\"]],\"type\":\"histogram2d\"}],\"histogram\":[{\"marker\":{\"pattern\":{\"fillmode\":\"overlay\",\"size\":10,\"solidity\":0.2}},\"type\":\"histogram\"}],\"mesh3d\":[{\"colorbar\":{\"outlinewidth\":0,\"ticks\":\"\"},\"type\":\"mesh3d\"}],\"parcoords\":[{\"line\":{\"colorbar\":{\"outlinewidth\":0,\"ticks\":\"\"}},\"type\":\"parcoords\"}],\"pie\":[{\"automargin\":true,\"type\":\"pie\"}],\"scatter3d\":[{\"line\":{\"colorbar\":{\"outlinewidth\":0,\"ticks\":\"\"}},\"marker\":{\"colorbar\":{\"outlinewidth\":0,\"ticks\":\"\"}},\"type\":\"scatter3d\"}],\"scattercarpet\":[{\"marker\":{\"colorbar\":{\"outlinewidth\":0,\"ticks\":\"\"}},\"type\":\"scattercarpet\"}],\"scattergeo\":[{\"marker\":{\"colorbar\":{\"outlinewidth\":0,\"ticks\":\"\"}},\"type\":\"scattergeo\"}],\"scattergl\":[{\"marker\":{\"colorbar\":{\"outlinewidth\":0,\"ticks\":\"\"}},\"type\":\"scattergl\"}],\"scattermapbox\":[{\"marker\":{\"colorbar\":{\"outlinewidth\":0,\"ticks\":\"\"}},\"type\":\"scattermapbox\"}],\"scatterpolargl\":[{\"marker\":{\"colorbar\":{\"outlinewidth\":0,\"ticks\":\"\"}},\"type\":\"scatterpolargl\"}],\"scatterpolar\":[{\"marker\":{\"colorbar\":{\"outlinewidth\":0,\"ticks\":\"\"}},\"type\":\"scatterpolar\"}],\"scatter\":[{\"fillpattern\":{\"fillmode\":\"overlay\",\"size\":10,\"solidity\":0.2},\"type\":\"scatter\"}],\"scatterternary\":[{\"marker\":{\"colorbar\":{\"outlinewidth\":0,\"ticks\":\"\"}},\"type\":\"scatterternary\"}],\"surface\":[{\"colorbar\":{\"outlinewidth\":0,\"ticks\":\"\"},\"colorscale\":[[0.0,\"#0d0887\"],[0.1111111111111111,\"#46039f\"],[0.2222222222222222,\"#7201a8\"],[0.3333333333333333,\"#9c179e\"],[0.4444444444444444,\"#bd3786\"],[0.5555555555555556,\"#d8576b\"],[0.6666666666666666,\"#ed7953\"],[0.7777777777777778,\"#fb9f3a\"],[0.8888888888888888,\"#fdca26\"],[1.0,\"#f0f921\"]],\"type\":\"surface\"}],\"table\":[{\"cells\":{\"fill\":{\"color\":\"#EBF0F8\"},\"line\":{\"color\":\"white\"}},\"header\":{\"fill\":{\"color\":\"#C8D4E3\"},\"line\":{\"color\":\"white\"}},\"type\":\"table\"}]},\"layout\":{\"annotationdefaults\":{\"arrowcolor\":\"#2a3f5f\",\"arrowhead\":0,\"arrowwidth\":1},\"autotypenumbers\":\"strict\",\"coloraxis\":{\"colorbar\":{\"outlinewidth\":0,\"ticks\":\"\"}},\"colorscale\":{\"diverging\":[[0,\"#8e0152\"],[0.1,\"#c51b7d\"],[0.2,\"#de77ae\"],[0.3,\"#f1b6da\"],[0.4,\"#fde0ef\"],[0.5,\"#f7f7f7\"],[0.6,\"#e6f5d0\"],[0.7,\"#b8e186\"],[0.8,\"#7fbc41\"],[0.9,\"#4d9221\"],[1,\"#276419\"]],\"sequential\":[[0.0,\"#0d0887\"],[0.1111111111111111,\"#46039f\"],[0.2222222222222222,\"#7201a8\"],[0.3333333333333333,\"#9c179e\"],[0.4444444444444444,\"#bd3786\"],[0.5555555555555556,\"#d8576b\"],[0.6666666666666666,\"#ed7953\"],[0.7777777777777778,\"#fb9f3a\"],[0.8888888888888888,\"#fdca26\"],[1.0,\"#f0f921\"]],\"sequentialminus\":[[0.0,\"#0d0887\"],[0.1111111111111111,\"#46039f\"],[0.2222222222222222,\"#7201a8\"],[0.3333333333333333,\"#9c179e\"],[0.4444444444444444,\"#bd3786\"],[0.5555555555555556,\"#d8576b\"],[0.6666666666666666,\"#ed7953\"],[0.7777777777777778,\"#fb9f3a\"],[0.8888888888888888,\"#fdca26\"],[1.0,\"#f0f921\"]]},\"colorway\":[\"#636efa\",\"#EF553B\",\"#00cc96\",\"#ab63fa\",\"#FFA15A\",\"#19d3f3\",\"#FF6692\",\"#B6E880\",\"#FF97FF\",\"#FECB52\"],\"font\":{\"color\":\"#2a3f5f\"},\"geo\":{\"bgcolor\":\"white\",\"lakecolor\":\"white\",\"landcolor\":\"#E5ECF6\",\"showlakes\":true,\"showland\":true,\"subunitcolor\":\"white\"},\"hoverlabel\":{\"align\":\"left\"},\"hovermode\":\"closest\",\"mapbox\":{\"style\":\"light\"},\"paper_bgcolor\":\"white\",\"plot_bgcolor\":\"#E5ECF6\",\"polar\":{\"angularaxis\":{\"gridcolor\":\"white\",\"linecolor\":\"white\",\"ticks\":\"\"},\"bgcolor\":\"#E5ECF6\",\"radialaxis\":{\"gridcolor\":\"white\",\"linecolor\":\"white\",\"ticks\":\"\"}},\"scene\":{\"xaxis\":{\"backgroundcolor\":\"#E5ECF6\",\"gridcolor\":\"white\",\"gridwidth\":2,\"linecolor\":\"white\",\"showbackground\":true,\"ticks\":\"\",\"zerolinecolor\":\"white\"},\"yaxis\":{\"backgroundcolor\":\"#E5ECF6\",\"gridcolor\":\"white\",\"gridwidth\":2,\"linecolor\":\"white\",\"showbackground\":true,\"ticks\":\"\",\"zerolinecolor\":\"white\"},\"zaxis\":{\"backgroundcolor\":\"#E5ECF6\",\"gridcolor\":\"white\",\"gridwidth\":2,\"linecolor\":\"white\",\"showbackground\":true,\"ticks\":\"\",\"zerolinecolor\":\"white\"}},\"shapedefaults\":{\"line\":{\"color\":\"#2a3f5f\"}},\"ternary\":{\"aaxis\":{\"gridcolor\":\"white\",\"linecolor\":\"white\",\"ticks\":\"\"},\"baxis\":{\"gridcolor\":\"white\",\"linecolor\":\"white\",\"ticks\":\"\"},\"bgcolor\":\"#E5ECF6\",\"caxis\":{\"gridcolor\":\"white\",\"linecolor\":\"white\",\"ticks\":\"\"}},\"title\":{\"x\":0.05},\"xaxis\":{\"automargin\":true,\"gridcolor\":\"white\",\"linecolor\":\"white\",\"ticks\":\"\",\"title\":{\"standoff\":15},\"zerolinecolor\":\"white\",\"zerolinewidth\":2},\"yaxis\":{\"automargin\":true,\"gridcolor\":\"white\",\"linecolor\":\"white\",\"ticks\":\"\",\"title\":{\"standoff\":15},\"zerolinecolor\":\"white\",\"zerolinewidth\":2}}}},                        {\"responsive\": true}                    ).then(function(){\n",
       "                            \n",
       "var gd = document.getElementById('ff212dc7-1a87-418f-8bda-1560199a1227');\n",
       "var x = new MutationObserver(function (mutations, observer) {{\n",
       "        var display = window.getComputedStyle(gd).display;\n",
       "        if (!display || display === 'none') {{\n",
       "            console.log([gd, 'removed!']);\n",
       "            Plotly.purge(gd);\n",
       "            observer.disconnect();\n",
       "        }}\n",
       "}});\n",
       "\n",
       "// Listen for the removal of the full notebook cells\n",
       "var notebookContainer = gd.closest('#notebook-container');\n",
       "if (notebookContainer) {{\n",
       "    x.observe(notebookContainer, {childList: true});\n",
       "}}\n",
       "\n",
       "// Listen for the clearing of the current output cell\n",
       "var outputEl = gd.closest('.output');\n",
       "if (outputEl) {{\n",
       "    x.observe(outputEl, {childList: true});\n",
       "}}\n",
       "\n",
       "                        })                };                });            </script>        </div>"
      ]
     },
     "metadata": {},
     "output_type": "display_data"
    }
   ],
   "source": [
    "bins = kmeans_ranges(    \n",
    "    max_clusters = 4, \n",
    "    kmeans_kwarg={'max_iter':50}\n",
    ").fit(example_data['var'].to_numpy()).bins\n",
    "\n",
    "bin_plot = deepcopy(two_classes_fig)\n",
    "\n",
    "\n",
    "for my_bin in bins:\n",
    "    bin_plot.add_scatter(\n",
    "        x = [my_bin, my_bin], y = [0, 2], mode='lines',\n",
    "        showlegend=False, line=dict(\n",
    "            dash='dash', color = \"firebrick\", width = 2\n",
    "        )\n",
    "    )\n",
    "    \n",
    "bin_plot.show()"
   ]
  },
  {
   "cell_type": "markdown",
   "id": "24e00927-f323-444d-baaf-5380bea91a04",
   "metadata": {},
   "source": [
    "# Description of the new method"
   ]
  },
  {
   "cell_type": "markdown",
   "id": "8e5d6283-853f-4bd8-8759-a3dcde72ffef",
   "metadata": {},
   "source": [
    "This method can catch only a bunch of points, but does not take into account the specifics of the classification problem. Now I show new method, which also based on kmeans algoritm but allso pay attention to classification task as well.\n",
    "\n",
    "The main idea of this method is to uses the classes as addition features for kmeans algorithm. How those features created look below."
   ]
  },
  {
   "cell_type": "code",
   "execution_count": 123,
   "id": "ed7d6959-429f-464a-8e4c-da631eb5b7f0",
   "metadata": {},
   "outputs": [],
   "source": [
    "from sklearn.cluster import KMeans\n",
    "\n",
    "class kmeans_ranges_cl(kmeans_ranges):\n",
    "    \n",
    "    '''\n",
    "        Applying the kmeans algorithm for 1 dimention data wich \n",
    "        helps divide data into ranges. Pays attention for classigication task.\n",
    "    '''\n",
    "    \n",
    "    def __init__(self, reduction_coef = 0.5, red_tol = 0.01, **kwargs):\n",
    "        '''\n",
    "            inputs:\n",
    "                reduction_coef - \n",
    "                red_tol -\n",
    "        '''\n",
    "        super().__init__(**kwargs)\n",
    "        self.reduction_coef = reduction_coef\n",
    "        self.red_tol = red_tol\n",
    "        \n",
    "    \n",
    "    def get_classes_space(self, var_range, y):\n",
    "        '''\n",
    "            Funciton returns the features \n",
    "            for every class.\n",
    "            \n",
    "            inputs:\n",
    "                y - np.array with shape (:,), the range which marks the class\n",
    "                    of every observation\n",
    "        '''\n",
    "        \n",
    "        self.y_markers_feat_cols = {lev : i for i, lev in enumerate(np.unique(y))}\n",
    "        y_sort_ind = np.argsort(var_range)\n",
    "        range_size = y.shape[0]\n",
    "        \n",
    "        def get_class_features(ind):\n",
    "            \n",
    "            counter = 1\n",
    "            curr_impact = self.reduction_coef\n",
    "            \n",
    "            not_sort_ind = y_sort_ind[ind]\n",
    "            \n",
    "            print(\"=============\" + str(ind) + \"==============\")\n",
    "            print(\"Индекс в исходном массиве\")\n",
    "            print(not_sort_ind)\n",
    "            print(\"Класс этого индекса\")\n",
    "            print(y[not_sort_ind])\n",
    "            print(\"Колонка этого индекса\")\n",
    "            print(self.y_markers_feat_cols[y[not_sort_ind]])\n",
    "            print(\"==========================================\")\n",
    "            \n",
    "            res = np.zeros(len(np.unique(y)))\n",
    "            res[self.y_markers_feat_cols[y[not_sort_ind]]] = 1\n",
    "            \n",
    "            while True:\n",
    "                \n",
    "                # while impact greater than tolerance\n",
    "                # we continue appending feature values\n",
    "                lower_ind = ind - counter\n",
    "                upper_ind = ind + counter\n",
    "                \n",
    "                if lower_ind >= 0:\n",
    "                    res[self.y_markers_feat_cols[y[y_sort_ind[lower_ind]]]] += curr_impact\n",
    "                if upper_ind < range_size:\n",
    "                    res[self.y_markers_feat_cols[y[y_sort_ind[upper_ind]]]] += curr_impact\n",
    "                \n",
    "                curr_impact *= self.reduction_coef\n",
    "                \n",
    "                if curr_impact < self.red_tol:\n",
    "                    break\n",
    "                    \n",
    "                counter += 1\n",
    "            return res\n",
    "            \n",
    "        return np.array(list(map(get_class_features, range(y.shape[0]))))\n",
    "    \n",
    "    \n",
    "    def build_kmeans_space(self, var_range, y):\n",
    "        '''\n",
    "            Creates kmeans_space field of the class.\n",
    "            inputs:\n",
    "                var_range - np.array with shape (:,), range which uses\n",
    "                            for fitting transformator;\n",
    "                y - np.array with shape (:,), the range which marks the class\n",
    "                    of every observation.\n",
    "        '''\n",
    "        \n",
    "        self.kmeans_space = np.concatenate([\n",
    "            var_range[:, np.newaxis], \n",
    "            self.get_classes_space(var_range ,y)\n",
    "        ], axis = 1)\n",
    "        return self\n",
    "\n",
    "    \n",
    "    def get_norm_space(self):\n",
    "        '''\n",
    "            Get factors space normalized.\n",
    "            \n",
    "            Output:\n",
    "                np.array with shape (:, classes count + 1),\n",
    "                the array each column is factor, each line \n",
    "                is observation\n",
    "        '''\n",
    "        def my_norm(col):\n",
    "            return (col - np.min(col))/(np.max(col) - np.min(col))\n",
    "        \n",
    "        return np.array(list(map(my_norm, self.kmeans_space.T))).T\n",
    "        \n",
    "    \n",
    "    def get_initial_centroids(self, factors_space, n_clusters):\n",
    "        '''\n",
    "            Funciton for building centroins for initial clusters.\n",
    "            \n",
    "            Inputs:\n",
    "                factors_space - is a space where factors_space[:, 0] fitting range\n",
    "                                other columns is factors for classes;\n",
    "                n_clusters - count of clusters which you need.\n",
    "            \n",
    "            Output:\n",
    "                np.array with shape (n_clusters, features count)\n",
    "                first column will be initialises as quantiles of input range\n",
    "                with n_clusters order.\n",
    "                Other will be setted to zeros.\n",
    "        '''\n",
    "        input_range_cent = np.quantile(\n",
    "                factors_space[:, 0], \n",
    "                [[i/(n_clusters + 1)] for i in range(1, n_clusters + 1)]\n",
    "        )\n",
    "        \n",
    "        return np.concatenate([\n",
    "            input_range_cent, \n",
    "            np.zeros([n_clusters, factors_space.shape[1] - 1]),\n",
    "        ], axis = 1)\n",
    "    \n",
    "    \n",
    "    def build_kmeans_instances(self):    \n",
    "        '''\n",
    "            Creates and initialise sklearn.cluster.kmeans instances\n",
    "            for different number of clusters.\n",
    "            \n",
    "            inputs:\n",
    "                var_range - numpy.array with shape (1,) \n",
    "                            the range which will used for fitting\n",
    "            output:\n",
    "                list of sklearn.cluster.kmeans instances for different\n",
    "                count of clusters. The same object is placed at the\n",
    "                self.kmeans_insts.\n",
    "        '''\n",
    "        \n",
    "        self.kmeans_insts = []\n",
    "        self.kmeans_kwarg['n_init'] = 1\n",
    "        \n",
    "        factors_space = self.get_norm_space()\n",
    "        \n",
    "        for n_clusters in range(1, self.max_clusters + 1):\n",
    "            self.kmeans_kwarg['init'] = \\\n",
    "                self.get_initial_centroids(factors_space, n_clusters)\n",
    "            \n",
    "            self.kmeans_kwarg['n_clusters'] = n_clusters\n",
    "\n",
    "            self.kmeans_insts.append(KMeans(\n",
    "                **self.kmeans_kwarg\n",
    "            ).fit(factors_space))\n",
    "\n",
    "        self.SSE_arr = np.array(\n",
    "            [kmean_inst.inertia_ for kmean_inst in self.kmeans_insts])\n",
    "            \n",
    "        return self\n",
    "        \n",
    "    \n",
    "    def fit(self, var_range, y):\n",
    "        '''\n",
    "            Fits the instance of the class. Fitting suggests preparing\n",
    "            for the work.\n",
    "            \n",
    "            inputs:\n",
    "                var_range - numpy.array with shape (:, 1) \n",
    "                            the range which will used for fitting\n",
    "                y - numpy.array with shape (1, ) \n",
    "                            the range wich contains classes as numeric markers\n",
    "        '''\n",
    "        \n",
    "        self.build_kmeans_space(var_range, y)\n",
    "        self.build_kmeans_instances()\n",
    "        \n",
    "        return self"
   ]
  },
  {
   "cell_type": "markdown",
   "id": "a2d6d56b-8d1f-4be3-bcfc-7bae40378312",
   "metadata": {
    "jp-MarkdownHeadingCollapsed": true,
    "tags": []
   },
   "source": [
    "# Basic algo testing\n",
    "\n",
    "Here I will use small and simple data example for checking alorithms and describing my thouds"
   ]
  },
  {
   "cell_type": "code",
   "execution_count": 113,
   "id": "9af5b288-1354-43da-a3dd-d2d7440c79a8",
   "metadata": {},
   "outputs": [],
   "source": [
    "s_var_range = np.array([6,3,2,7,9,8])\n",
    "s_y = np.array(['a','b','a','b','a','b'])\n",
    "\n",
    "# test_inst = kmeans_ranges_cl(reduction_coef = 0.1, max_clusters = 3)\n",
    "test_inst = kmeans_ranges_cl(reduction_coef = 0.1, max_clusters = 3)"
   ]
  },
  {
   "cell_type": "markdown",
   "id": "2b1ef386-6464-40e9-a208-9ea8dcac6838",
   "metadata": {},
   "source": [
    "### Features getting for different classes"
   ]
  },
  {
   "cell_type": "code",
   "execution_count": 96,
   "id": "a806aef5-b483-4db7-a51c-ca2989d3cfb8",
   "metadata": {},
   "outputs": [
    {
     "data": {
      "text/plain": [
       "array([[1.01, 0.1 ],\n",
       "       [0.2 , 1.01],\n",
       "       [1.01, 0.21],\n",
       "       [0.11, 1.11],\n",
       "       [0.11, 1.1 ],\n",
       "       [1.  , 0.11]])"
      ]
     },
     "execution_count": 96,
     "metadata": {},
     "output_type": "execute_result"
    }
   ],
   "source": [
    "test_inst.get_classes_space(s_var_range, s_y)"
   ]
  },
  {
   "cell_type": "markdown",
   "id": "aaabffce-c494-4a86-bb6f-fa6a9151af90",
   "metadata": {},
   "source": [
    "Now I will show how the results of this finction formed.\n",
    "\n",
    "Let's take first line of input \\[6, 'a'\\].\n",
    "\n",
    "At first input array sortes by var range colum we will get:\n",
    "\n",
    "| var | class |\n",
    "| --- | --- |\n",
    "| 2 | a |\n",
    "| 3 | b |\n",
    "| <b>6</b> | <b>a</b> |\n",
    "| 7 | b |\n",
    "| 8 | b |\n",
    "| 9 | a |\n",
    "\n",
    "It has 'b' class so we adds 1 to a feature. In has both 'b' classes around it so 'b' feature gets $0.1^1$ (reduction_coef) twice. Retreating two observations we gets one 'a' class and one 'b' class so well be added $0.1^2 = 0.01$ to each feature."
   ]
  },
  {
   "cell_type": "markdown",
   "id": "9cf7e7a2-8e46-4f04-9926-02c743c2cbd9",
   "metadata": {},
   "source": [
    "### Building full space for kmeans alorithm\n",
    "\n",
    "It just concatenation of the result of the previos method and fittig range."
   ]
  },
  {
   "cell_type": "code",
   "execution_count": 97,
   "id": "668316db-8d85-4de7-ab16-f407cb6ac2c9",
   "metadata": {},
   "outputs": [
    {
     "data": {
      "text/plain": [
       "array([[6.  , 1.01, 0.1 ],\n",
       "       [3.  , 0.2 , 1.01],\n",
       "       [2.  , 1.01, 0.21],\n",
       "       [7.  , 0.11, 1.11],\n",
       "       [9.  , 0.11, 1.1 ],\n",
       "       [8.  , 1.  , 0.11]])"
      ]
     },
     "execution_count": 97,
     "metadata": {},
     "output_type": "execute_result"
    }
   ],
   "source": [
    "test_inst.build_kmeans_space(s_var_range, s_y).kmeans_space"
   ]
  },
  {
   "cell_type": "markdown",
   "id": "8f754877-f045-47e2-8c0c-a22bfd150f34",
   "metadata": {},
   "source": [
    "### Normalization of the factors space\n",
    "\n",
    "normalization of the factors for using in kmeans."
   ]
  },
  {
   "cell_type": "code",
   "execution_count": 98,
   "id": "30fcbadd-2d5c-4c41-a34f-da5ee87edcec",
   "metadata": {},
   "outputs": [
    {
     "data": {
      "text/plain": [
       "array([[0.57142857, 1.        , 0.        ],\n",
       "       [0.14285714, 0.1       , 0.9009901 ],\n",
       "       [0.        , 1.        , 0.10891089],\n",
       "       [0.71428571, 0.        , 1.        ],\n",
       "       [1.        , 0.        , 0.99009901],\n",
       "       [0.85714286, 0.98888889, 0.00990099]])"
      ]
     },
     "execution_count": 98,
     "metadata": {},
     "output_type": "execute_result"
    }
   ],
   "source": [
    "factors_space = test_inst.get_norm_space()\n",
    "factors_space"
   ]
  },
  {
   "cell_type": "markdown",
   "id": "36749a23-3541-4e8d-90ab-54a2ea23bb0e",
   "metadata": {},
   "source": [
    "### Initial centroins for kmeans algorithm"
   ]
  },
  {
   "cell_type": "code",
   "execution_count": 99,
   "id": "b258740d-e7c8-4d42-bcfe-e20087ed46e3",
   "metadata": {},
   "outputs": [
    {
     "data": {
      "text/plain": [
       "array([[0.25      , 0.        , 0.        ],\n",
       "       [0.64285714, 0.        , 0.        ],\n",
       "       [0.82142857, 0.        , 0.        ]])"
      ]
     },
     "execution_count": 99,
     "metadata": {},
     "output_type": "execute_result"
    }
   ],
   "source": [
    "n_clusters = 3\n",
    "test_inst.get_initial_centroids(factors_space, n_clusters)"
   ]
  },
  {
   "cell_type": "markdown",
   "id": "5d51e51b-3be0-4008-93ec-1079ccaf6c1d",
   "metadata": {},
   "source": [
    "### Building of kmeans instances"
   ]
  },
  {
   "cell_type": "code",
   "execution_count": 100,
   "id": "b2b74a59-b90b-4491-83df-22eb03d913fc",
   "metadata": {},
   "outputs": [
    {
     "data": {
      "text/plain": [
       "[KMeans(init=array([[0.64285714, 0.        , 0.        ]]), n_clusters=1,\n",
       "        n_init=1),\n",
       " KMeans(init=array([[0.42857143, 0.        , 0.        ],\n",
       "        [0.76190476, 0.        , 0.        ]]),\n",
       "        n_clusters=2, n_init=1),\n",
       " KMeans(init=array([[0.25      , 0.        , 0.        ],\n",
       "        [0.64285714, 0.        , 0.        ],\n",
       "        [0.82142857, 0.        , 0.        ]]),\n",
       "        n_clusters=3, n_init=1)]"
      ]
     },
     "execution_count": 100,
     "metadata": {},
     "output_type": "execute_result"
    }
   ],
   "source": [
    "test_inst.build_kmeans_instances().kmeans_insts"
   ]
  },
  {
   "cell_type": "markdown",
   "id": "4048df6e-6842-4b2a-8705-324432e168df",
   "metadata": {},
   "source": [
    "### Elbow algorithm for cluster count choosing"
   ]
  },
  {
   "cell_type": "code",
   "execution_count": 101,
   "id": "ebc59eab-f1df-4bea-b4ab-ace1ecf85c24",
   "metadata": {},
   "outputs": [
    {
     "name": "stdout",
     "output_type": "stream",
     "text": [
      "Elbow result 1\n"
     ]
    },
    {
     "data": {
      "application/vnd.plotly.v1+json": {
       "config": {
        "plotlyServerURL": "https://plot.ly"
       },
       "data": [
        {
         "hovertemplate": "x=%{x}<br>y=%{y}<extra></extra>",
         "legendgroup": "",
         "line": {
          "color": "#636efa",
          "dash": "solid"
         },
         "marker": {
          "symbol": "circle"
         },
         "mode": "lines",
         "name": "",
         "orientation": "v",
         "showlegend": false,
         "type": "scatter",
         "x": [
          1,
          2,
          3
         ],
         "xaxis": "x",
         "y": [
          3.4843339714108064,
          0.7818550532301907,
          2.718651677003986
         ],
         "yaxis": "y"
        }
       ],
       "layout": {
        "autosize": true,
        "legend": {
         "tracegroupgap": 0
        },
        "margin": {
         "t": 60
        },
        "template": {
         "data": {
          "bar": [
           {
            "error_x": {
             "color": "#2a3f5f"
            },
            "error_y": {
             "color": "#2a3f5f"
            },
            "marker": {
             "line": {
              "color": "#E5ECF6",
              "width": 0.5
             },
             "pattern": {
              "fillmode": "overlay",
              "size": 10,
              "solidity": 0.2
             }
            },
            "type": "bar"
           }
          ],
          "barpolar": [
           {
            "marker": {
             "line": {
              "color": "#E5ECF6",
              "width": 0.5
             },
             "pattern": {
              "fillmode": "overlay",
              "size": 10,
              "solidity": 0.2
             }
            },
            "type": "barpolar"
           }
          ],
          "carpet": [
           {
            "aaxis": {
             "endlinecolor": "#2a3f5f",
             "gridcolor": "white",
             "linecolor": "white",
             "minorgridcolor": "white",
             "startlinecolor": "#2a3f5f"
            },
            "baxis": {
             "endlinecolor": "#2a3f5f",
             "gridcolor": "white",
             "linecolor": "white",
             "minorgridcolor": "white",
             "startlinecolor": "#2a3f5f"
            },
            "type": "carpet"
           }
          ],
          "choropleth": [
           {
            "colorbar": {
             "outlinewidth": 0,
             "ticks": ""
            },
            "type": "choropleth"
           }
          ],
          "contour": [
           {
            "colorbar": {
             "outlinewidth": 0,
             "ticks": ""
            },
            "colorscale": [
             [
              0,
              "#0d0887"
             ],
             [
              0.1111111111111111,
              "#46039f"
             ],
             [
              0.2222222222222222,
              "#7201a8"
             ],
             [
              0.3333333333333333,
              "#9c179e"
             ],
             [
              0.4444444444444444,
              "#bd3786"
             ],
             [
              0.5555555555555556,
              "#d8576b"
             ],
             [
              0.6666666666666666,
              "#ed7953"
             ],
             [
              0.7777777777777778,
              "#fb9f3a"
             ],
             [
              0.8888888888888888,
              "#fdca26"
             ],
             [
              1,
              "#f0f921"
             ]
            ],
            "type": "contour"
           }
          ],
          "contourcarpet": [
           {
            "colorbar": {
             "outlinewidth": 0,
             "ticks": ""
            },
            "type": "contourcarpet"
           }
          ],
          "heatmap": [
           {
            "colorbar": {
             "outlinewidth": 0,
             "ticks": ""
            },
            "colorscale": [
             [
              0,
              "#0d0887"
             ],
             [
              0.1111111111111111,
              "#46039f"
             ],
             [
              0.2222222222222222,
              "#7201a8"
             ],
             [
              0.3333333333333333,
              "#9c179e"
             ],
             [
              0.4444444444444444,
              "#bd3786"
             ],
             [
              0.5555555555555556,
              "#d8576b"
             ],
             [
              0.6666666666666666,
              "#ed7953"
             ],
             [
              0.7777777777777778,
              "#fb9f3a"
             ],
             [
              0.8888888888888888,
              "#fdca26"
             ],
             [
              1,
              "#f0f921"
             ]
            ],
            "type": "heatmap"
           }
          ],
          "heatmapgl": [
           {
            "colorbar": {
             "outlinewidth": 0,
             "ticks": ""
            },
            "colorscale": [
             [
              0,
              "#0d0887"
             ],
             [
              0.1111111111111111,
              "#46039f"
             ],
             [
              0.2222222222222222,
              "#7201a8"
             ],
             [
              0.3333333333333333,
              "#9c179e"
             ],
             [
              0.4444444444444444,
              "#bd3786"
             ],
             [
              0.5555555555555556,
              "#d8576b"
             ],
             [
              0.6666666666666666,
              "#ed7953"
             ],
             [
              0.7777777777777778,
              "#fb9f3a"
             ],
             [
              0.8888888888888888,
              "#fdca26"
             ],
             [
              1,
              "#f0f921"
             ]
            ],
            "type": "heatmapgl"
           }
          ],
          "histogram": [
           {
            "marker": {
             "pattern": {
              "fillmode": "overlay",
              "size": 10,
              "solidity": 0.2
             }
            },
            "type": "histogram"
           }
          ],
          "histogram2d": [
           {
            "colorbar": {
             "outlinewidth": 0,
             "ticks": ""
            },
            "colorscale": [
             [
              0,
              "#0d0887"
             ],
             [
              0.1111111111111111,
              "#46039f"
             ],
             [
              0.2222222222222222,
              "#7201a8"
             ],
             [
              0.3333333333333333,
              "#9c179e"
             ],
             [
              0.4444444444444444,
              "#bd3786"
             ],
             [
              0.5555555555555556,
              "#d8576b"
             ],
             [
              0.6666666666666666,
              "#ed7953"
             ],
             [
              0.7777777777777778,
              "#fb9f3a"
             ],
             [
              0.8888888888888888,
              "#fdca26"
             ],
             [
              1,
              "#f0f921"
             ]
            ],
            "type": "histogram2d"
           }
          ],
          "histogram2dcontour": [
           {
            "colorbar": {
             "outlinewidth": 0,
             "ticks": ""
            },
            "colorscale": [
             [
              0,
              "#0d0887"
             ],
             [
              0.1111111111111111,
              "#46039f"
             ],
             [
              0.2222222222222222,
              "#7201a8"
             ],
             [
              0.3333333333333333,
              "#9c179e"
             ],
             [
              0.4444444444444444,
              "#bd3786"
             ],
             [
              0.5555555555555556,
              "#d8576b"
             ],
             [
              0.6666666666666666,
              "#ed7953"
             ],
             [
              0.7777777777777778,
              "#fb9f3a"
             ],
             [
              0.8888888888888888,
              "#fdca26"
             ],
             [
              1,
              "#f0f921"
             ]
            ],
            "type": "histogram2dcontour"
           }
          ],
          "mesh3d": [
           {
            "colorbar": {
             "outlinewidth": 0,
             "ticks": ""
            },
            "type": "mesh3d"
           }
          ],
          "parcoords": [
           {
            "line": {
             "colorbar": {
              "outlinewidth": 0,
              "ticks": ""
             }
            },
            "type": "parcoords"
           }
          ],
          "pie": [
           {
            "automargin": true,
            "type": "pie"
           }
          ],
          "scatter": [
           {
            "fillpattern": {
             "fillmode": "overlay",
             "size": 10,
             "solidity": 0.2
            },
            "type": "scatter"
           }
          ],
          "scatter3d": [
           {
            "line": {
             "colorbar": {
              "outlinewidth": 0,
              "ticks": ""
             }
            },
            "marker": {
             "colorbar": {
              "outlinewidth": 0,
              "ticks": ""
             }
            },
            "type": "scatter3d"
           }
          ],
          "scattercarpet": [
           {
            "marker": {
             "colorbar": {
              "outlinewidth": 0,
              "ticks": ""
             }
            },
            "type": "scattercarpet"
           }
          ],
          "scattergeo": [
           {
            "marker": {
             "colorbar": {
              "outlinewidth": 0,
              "ticks": ""
             }
            },
            "type": "scattergeo"
           }
          ],
          "scattergl": [
           {
            "marker": {
             "colorbar": {
              "outlinewidth": 0,
              "ticks": ""
             }
            },
            "type": "scattergl"
           }
          ],
          "scattermapbox": [
           {
            "marker": {
             "colorbar": {
              "outlinewidth": 0,
              "ticks": ""
             }
            },
            "type": "scattermapbox"
           }
          ],
          "scatterpolar": [
           {
            "marker": {
             "colorbar": {
              "outlinewidth": 0,
              "ticks": ""
             }
            },
            "type": "scatterpolar"
           }
          ],
          "scatterpolargl": [
           {
            "marker": {
             "colorbar": {
              "outlinewidth": 0,
              "ticks": ""
             }
            },
            "type": "scatterpolargl"
           }
          ],
          "scatterternary": [
           {
            "marker": {
             "colorbar": {
              "outlinewidth": 0,
              "ticks": ""
             }
            },
            "type": "scatterternary"
           }
          ],
          "surface": [
           {
            "colorbar": {
             "outlinewidth": 0,
             "ticks": ""
            },
            "colorscale": [
             [
              0,
              "#0d0887"
             ],
             [
              0.1111111111111111,
              "#46039f"
             ],
             [
              0.2222222222222222,
              "#7201a8"
             ],
             [
              0.3333333333333333,
              "#9c179e"
             ],
             [
              0.4444444444444444,
              "#bd3786"
             ],
             [
              0.5555555555555556,
              "#d8576b"
             ],
             [
              0.6666666666666666,
              "#ed7953"
             ],
             [
              0.7777777777777778,
              "#fb9f3a"
             ],
             [
              0.8888888888888888,
              "#fdca26"
             ],
             [
              1,
              "#f0f921"
             ]
            ],
            "type": "surface"
           }
          ],
          "table": [
           {
            "cells": {
             "fill": {
              "color": "#EBF0F8"
             },
             "line": {
              "color": "white"
             }
            },
            "header": {
             "fill": {
              "color": "#C8D4E3"
             },
             "line": {
              "color": "white"
             }
            },
            "type": "table"
           }
          ]
         },
         "layout": {
          "annotationdefaults": {
           "arrowcolor": "#2a3f5f",
           "arrowhead": 0,
           "arrowwidth": 1
          },
          "autotypenumbers": "strict",
          "coloraxis": {
           "colorbar": {
            "outlinewidth": 0,
            "ticks": ""
           }
          },
          "colorscale": {
           "diverging": [
            [
             0,
             "#8e0152"
            ],
            [
             0.1,
             "#c51b7d"
            ],
            [
             0.2,
             "#de77ae"
            ],
            [
             0.3,
             "#f1b6da"
            ],
            [
             0.4,
             "#fde0ef"
            ],
            [
             0.5,
             "#f7f7f7"
            ],
            [
             0.6,
             "#e6f5d0"
            ],
            [
             0.7,
             "#b8e186"
            ],
            [
             0.8,
             "#7fbc41"
            ],
            [
             0.9,
             "#4d9221"
            ],
            [
             1,
             "#276419"
            ]
           ],
           "sequential": [
            [
             0,
             "#0d0887"
            ],
            [
             0.1111111111111111,
             "#46039f"
            ],
            [
             0.2222222222222222,
             "#7201a8"
            ],
            [
             0.3333333333333333,
             "#9c179e"
            ],
            [
             0.4444444444444444,
             "#bd3786"
            ],
            [
             0.5555555555555556,
             "#d8576b"
            ],
            [
             0.6666666666666666,
             "#ed7953"
            ],
            [
             0.7777777777777778,
             "#fb9f3a"
            ],
            [
             0.8888888888888888,
             "#fdca26"
            ],
            [
             1,
             "#f0f921"
            ]
           ],
           "sequentialminus": [
            [
             0,
             "#0d0887"
            ],
            [
             0.1111111111111111,
             "#46039f"
            ],
            [
             0.2222222222222222,
             "#7201a8"
            ],
            [
             0.3333333333333333,
             "#9c179e"
            ],
            [
             0.4444444444444444,
             "#bd3786"
            ],
            [
             0.5555555555555556,
             "#d8576b"
            ],
            [
             0.6666666666666666,
             "#ed7953"
            ],
            [
             0.7777777777777778,
             "#fb9f3a"
            ],
            [
             0.8888888888888888,
             "#fdca26"
            ],
            [
             1,
             "#f0f921"
            ]
           ]
          },
          "colorway": [
           "#636efa",
           "#EF553B",
           "#00cc96",
           "#ab63fa",
           "#FFA15A",
           "#19d3f3",
           "#FF6692",
           "#B6E880",
           "#FF97FF",
           "#FECB52"
          ],
          "font": {
           "color": "#2a3f5f"
          },
          "geo": {
           "bgcolor": "white",
           "lakecolor": "white",
           "landcolor": "#E5ECF6",
           "showlakes": true,
           "showland": true,
           "subunitcolor": "white"
          },
          "hoverlabel": {
           "align": "left"
          },
          "hovermode": "closest",
          "mapbox": {
           "style": "light"
          },
          "paper_bgcolor": "white",
          "plot_bgcolor": "#E5ECF6",
          "polar": {
           "angularaxis": {
            "gridcolor": "white",
            "linecolor": "white",
            "ticks": ""
           },
           "bgcolor": "#E5ECF6",
           "radialaxis": {
            "gridcolor": "white",
            "linecolor": "white",
            "ticks": ""
           }
          },
          "scene": {
           "xaxis": {
            "backgroundcolor": "#E5ECF6",
            "gridcolor": "white",
            "gridwidth": 2,
            "linecolor": "white",
            "showbackground": true,
            "ticks": "",
            "zerolinecolor": "white"
           },
           "yaxis": {
            "backgroundcolor": "#E5ECF6",
            "gridcolor": "white",
            "gridwidth": 2,
            "linecolor": "white",
            "showbackground": true,
            "ticks": "",
            "zerolinecolor": "white"
           },
           "zaxis": {
            "backgroundcolor": "#E5ECF6",
            "gridcolor": "white",
            "gridwidth": 2,
            "linecolor": "white",
            "showbackground": true,
            "ticks": "",
            "zerolinecolor": "white"
           }
          },
          "shapedefaults": {
           "line": {
            "color": "#2a3f5f"
           }
          },
          "ternary": {
           "aaxis": {
            "gridcolor": "white",
            "linecolor": "white",
            "ticks": ""
           },
           "baxis": {
            "gridcolor": "white",
            "linecolor": "white",
            "ticks": ""
           },
           "bgcolor": "#E5ECF6",
           "caxis": {
            "gridcolor": "white",
            "linecolor": "white",
            "ticks": ""
           }
          },
          "title": {
           "x": 0.05
          },
          "xaxis": {
           "automargin": true,
           "gridcolor": "white",
           "linecolor": "white",
           "ticks": "",
           "title": {
            "standoff": 15
           },
           "zerolinecolor": "white",
           "zerolinewidth": 2
          },
          "yaxis": {
           "automargin": true,
           "gridcolor": "white",
           "linecolor": "white",
           "ticks": "",
           "title": {
            "standoff": 15
           },
           "zerolinecolor": "white",
           "zerolinewidth": 2
          }
         }
        },
        "xaxis": {
         "anchor": "y",
         "autorange": true,
         "domain": [
          0,
          1
         ],
         "range": [
          1,
          3
         ],
         "title": {
          "text": "x"
         },
         "type": "linear"
        },
        "yaxis": {
         "anchor": "x",
         "autorange": true,
         "domain": [
          0,
          1
         ],
         "range": [
          0.6317173355534897,
          3.634471689087507
         ],
         "title": {
          "text": "y"
         },
         "type": "linear"
        }
       }
      },
      "image/png": "[encoded data removed]",
      "text/html": [
       "<div>                            <div id=\"c24bc688-8030-4784-b9b6-ab0f80f79f53\" class=\"plotly-graph-div\" style=\"height:525px; width:100%;\"></div>            <script type=\"text/javascript\">                require([\"plotly\"], function(Plotly) {                    window.PLOTLYENV=window.PLOTLYENV || {};                                    if (document.getElementById(\"c24bc688-8030-4784-b9b6-ab0f80f79f53\")) {                    Plotly.newPlot(                        \"c24bc688-8030-4784-b9b6-ab0f80f79f53\",                        [{\"hovertemplate\":\"x=%{x}<br>y=%{y}<extra></extra>\",\"legendgroup\":\"\",\"line\":{\"color\":\"#636efa\",\"dash\":\"solid\"},\"marker\":{\"symbol\":\"circle\"},\"mode\":\"lines\",\"name\":\"\",\"orientation\":\"v\",\"showlegend\":false,\"x\":[1,2,3],\"xaxis\":\"x\",\"y\":[3.4843339714108064,0.7818550532301907,2.718651677003986],\"yaxis\":\"y\",\"type\":\"scatter\"}],                        {\"template\":{\"data\":{\"histogram2dcontour\":[{\"type\":\"histogram2dcontour\",\"colorbar\":{\"outlinewidth\":0,\"ticks\":\"\"},\"colorscale\":[[0.0,\"#0d0887\"],[0.1111111111111111,\"#46039f\"],[0.2222222222222222,\"#7201a8\"],[0.3333333333333333,\"#9c179e\"],[0.4444444444444444,\"#bd3786\"],[0.5555555555555556,\"#d8576b\"],[0.6666666666666666,\"#ed7953\"],[0.7777777777777778,\"#fb9f3a\"],[0.8888888888888888,\"#fdca26\"],[1.0,\"#f0f921\"]]}],\"choropleth\":[{\"type\":\"choropleth\",\"colorbar\":{\"outlinewidth\":0,\"ticks\":\"\"}}],\"histogram2d\":[{\"type\":\"histogram2d\",\"colorbar\":{\"outlinewidth\":0,\"ticks\":\"\"},\"colorscale\":[[0.0,\"#0d0887\"],[0.1111111111111111,\"#46039f\"],[0.2222222222222222,\"#7201a8\"],[0.3333333333333333,\"#9c179e\"],[0.4444444444444444,\"#bd3786\"],[0.5555555555555556,\"#d8576b\"],[0.6666666666666666,\"#ed7953\"],[0.7777777777777778,\"#fb9f3a\"],[0.8888888888888888,\"#fdca26\"],[1.0,\"#f0f921\"]]}],\"heatmap\":[{\"type\":\"heatmap\",\"colorbar\":{\"outlinewidth\":0,\"ticks\":\"\"},\"colorscale\":[[0.0,\"#0d0887\"],[0.1111111111111111,\"#46039f\"],[0.2222222222222222,\"#7201a8\"],[0.3333333333333333,\"#9c179e\"],[0.4444444444444444,\"#bd3786\"],[0.5555555555555556,\"#d8576b\"],[0.6666666666666666,\"#ed7953\"],[0.7777777777777778,\"#fb9f3a\"],[0.8888888888888888,\"#fdca26\"],[1.0,\"#f0f921\"]]}],\"heatmapgl\":[{\"type\":\"heatmapgl\",\"colorbar\":{\"outlinewidth\":0,\"ticks\":\"\"},\"colorscale\":[[0.0,\"#0d0887\"],[0.1111111111111111,\"#46039f\"],[0.2222222222222222,\"#7201a8\"],[0.3333333333333333,\"#9c179e\"],[0.4444444444444444,\"#bd3786\"],[0.5555555555555556,\"#d8576b\"],[0.6666666666666666,\"#ed7953\"],[0.7777777777777778,\"#fb9f3a\"],[0.8888888888888888,\"#fdca26\"],[1.0,\"#f0f921\"]]}],\"contourcarpet\":[{\"type\":\"contourcarpet\",\"colorbar\":{\"outlinewidth\":0,\"ticks\":\"\"}}],\"contour\":[{\"type\":\"contour\",\"colorbar\":{\"outlinewidth\":0,\"ticks\":\"\"},\"colorscale\":[[0.0,\"#0d0887\"],[0.1111111111111111,\"#46039f\"],[0.2222222222222222,\"#7201a8\"],[0.3333333333333333,\"#9c179e\"],[0.4444444444444444,\"#bd3786\"],[0.5555555555555556,\"#d8576b\"],[0.6666666666666666,\"#ed7953\"],[0.7777777777777778,\"#fb9f3a\"],[0.8888888888888888,\"#fdca26\"],[1.0,\"#f0f921\"]]}],\"surface\":[{\"type\":\"surface\",\"colorbar\":{\"outlinewidth\":0,\"ticks\":\"\"},\"colorscale\":[[0.0,\"#0d0887\"],[0.1111111111111111,\"#46039f\"],[0.2222222222222222,\"#7201a8\"],[0.3333333333333333,\"#9c179e\"],[0.4444444444444444,\"#bd3786\"],[0.5555555555555556,\"#d8576b\"],[0.6666666666666666,\"#ed7953\"],[0.7777777777777778,\"#fb9f3a\"],[0.8888888888888888,\"#fdca26\"],[1.0,\"#f0f921\"]]}],\"mesh3d\":[{\"type\":\"mesh3d\",\"colorbar\":{\"outlinewidth\":0,\"ticks\":\"\"}}],\"scatter\":[{\"fillpattern\":{\"fillmode\":\"overlay\",\"size\":10,\"solidity\":0.2},\"type\":\"scatter\"}],\"parcoords\":[{\"type\":\"parcoords\",\"line\":{\"colorbar\":{\"outlinewidth\":0,\"ticks\":\"\"}}}],\"scatterpolargl\":[{\"type\":\"scatterpolargl\",\"marker\":{\"colorbar\":{\"outlinewidth\":0,\"ticks\":\"\"}}}],\"bar\":[{\"error_x\":{\"color\":\"#2a3f5f\"},\"error_y\":{\"color\":\"#2a3f5f\"},\"marker\":{\"line\":{\"color\":\"#E5ECF6\",\"width\":0.5},\"pattern\":{\"fillmode\":\"overlay\",\"size\":10,\"solidity\":0.2}},\"type\":\"bar\"}],\"scattergeo\":[{\"type\":\"scattergeo\",\"marker\":{\"colorbar\":{\"outlinewidth\":0,\"ticks\":\"\"}}}],\"scatterpolar\":[{\"type\":\"scatterpolar\",\"marker\":{\"colorbar\":{\"outlinewidth\":0,\"ticks\":\"\"}}}],\"histogram\":[{\"marker\":{\"pattern\":{\"fillmode\":\"overlay\",\"size\":10,\"solidity\":0.2}},\"type\":\"histogram\"}],\"scattergl\":[{\"type\":\"scattergl\",\"marker\":{\"colorbar\":{\"outlinewidth\":0,\"ticks\":\"\"}}}],\"scatter3d\":[{\"type\":\"scatter3d\",\"line\":{\"colorbar\":{\"outlinewidth\":0,\"ticks\":\"\"}},\"marker\":{\"colorbar\":{\"outlinewidth\":0,\"ticks\":\"\"}}}],\"scattermapbox\":[{\"type\":\"scattermapbox\",\"marker\":{\"colorbar\":{\"outlinewidth\":0,\"ticks\":\"\"}}}],\"scatterternary\":[{\"type\":\"scatterternary\",\"marker\":{\"colorbar\":{\"outlinewidth\":0,\"ticks\":\"\"}}}],\"scattercarpet\":[{\"type\":\"scattercarpet\",\"marker\":{\"colorbar\":{\"outlinewidth\":0,\"ticks\":\"\"}}}],\"carpet\":[{\"aaxis\":{\"endlinecolor\":\"#2a3f5f\",\"gridcolor\":\"white\",\"linecolor\":\"white\",\"minorgridcolor\":\"white\",\"startlinecolor\":\"#2a3f5f\"},\"baxis\":{\"endlinecolor\":\"#2a3f5f\",\"gridcolor\":\"white\",\"linecolor\":\"white\",\"minorgridcolor\":\"white\",\"startlinecolor\":\"#2a3f5f\"},\"type\":\"carpet\"}],\"table\":[{\"cells\":{\"fill\":{\"color\":\"#EBF0F8\"},\"line\":{\"color\":\"white\"}},\"header\":{\"fill\":{\"color\":\"#C8D4E3\"},\"line\":{\"color\":\"white\"}},\"type\":\"table\"}],\"barpolar\":[{\"marker\":{\"line\":{\"color\":\"#E5ECF6\",\"width\":0.5},\"pattern\":{\"fillmode\":\"overlay\",\"size\":10,\"solidity\":0.2}},\"type\":\"barpolar\"}],\"pie\":[{\"automargin\":true,\"type\":\"pie\"}]},\"layout\":{\"autotypenumbers\":\"strict\",\"colorway\":[\"#636efa\",\"#EF553B\",\"#00cc96\",\"#ab63fa\",\"#FFA15A\",\"#19d3f3\",\"#FF6692\",\"#B6E880\",\"#FF97FF\",\"#FECB52\"],\"font\":{\"color\":\"#2a3f5f\"},\"hovermode\":\"closest\",\"hoverlabel\":{\"align\":\"left\"},\"paper_bgcolor\":\"white\",\"plot_bgcolor\":\"#E5ECF6\",\"polar\":{\"bgcolor\":\"#E5ECF6\",\"angularaxis\":{\"gridcolor\":\"white\",\"linecolor\":\"white\",\"ticks\":\"\"},\"radialaxis\":{\"gridcolor\":\"white\",\"linecolor\":\"white\",\"ticks\":\"\"}},\"ternary\":{\"bgcolor\":\"#E5ECF6\",\"aaxis\":{\"gridcolor\":\"white\",\"linecolor\":\"white\",\"ticks\":\"\"},\"baxis\":{\"gridcolor\":\"white\",\"linecolor\":\"white\",\"ticks\":\"\"},\"caxis\":{\"gridcolor\":\"white\",\"linecolor\":\"white\",\"ticks\":\"\"}},\"coloraxis\":{\"colorbar\":{\"outlinewidth\":0,\"ticks\":\"\"}},\"colorscale\":{\"sequential\":[[0.0,\"#0d0887\"],[0.1111111111111111,\"#46039f\"],[0.2222222222222222,\"#7201a8\"],[0.3333333333333333,\"#9c179e\"],[0.4444444444444444,\"#bd3786\"],[0.5555555555555556,\"#d8576b\"],[0.6666666666666666,\"#ed7953\"],[0.7777777777777778,\"#fb9f3a\"],[0.8888888888888888,\"#fdca26\"],[1.0,\"#f0f921\"]],\"sequentialminus\":[[0.0,\"#0d0887\"],[0.1111111111111111,\"#46039f\"],[0.2222222222222222,\"#7201a8\"],[0.3333333333333333,\"#9c179e\"],[0.4444444444444444,\"#bd3786\"],[0.5555555555555556,\"#d8576b\"],[0.6666666666666666,\"#ed7953\"],[0.7777777777777778,\"#fb9f3a\"],[0.8888888888888888,\"#fdca26\"],[1.0,\"#f0f921\"]],\"diverging\":[[0,\"#8e0152\"],[0.1,\"#c51b7d\"],[0.2,\"#de77ae\"],[0.3,\"#f1b6da\"],[0.4,\"#fde0ef\"],[0.5,\"#f7f7f7\"],[0.6,\"#e6f5d0\"],[0.7,\"#b8e186\"],[0.8,\"#7fbc41\"],[0.9,\"#4d9221\"],[1,\"#276419\"]]},\"xaxis\":{\"gridcolor\":\"white\",\"linecolor\":\"white\",\"ticks\":\"\",\"title\":{\"standoff\":15},\"zerolinecolor\":\"white\",\"automargin\":true,\"zerolinewidth\":2},\"yaxis\":{\"gridcolor\":\"white\",\"linecolor\":\"white\",\"ticks\":\"\",\"title\":{\"standoff\":15},\"zerolinecolor\":\"white\",\"automargin\":true,\"zerolinewidth\":2},\"scene\":{\"xaxis\":{\"backgroundcolor\":\"#E5ECF6\",\"gridcolor\":\"white\",\"linecolor\":\"white\",\"showbackground\":true,\"ticks\":\"\",\"zerolinecolor\":\"white\",\"gridwidth\":2},\"yaxis\":{\"backgroundcolor\":\"#E5ECF6\",\"gridcolor\":\"white\",\"linecolor\":\"white\",\"showbackground\":true,\"ticks\":\"\",\"zerolinecolor\":\"white\",\"gridwidth\":2},\"zaxis\":{\"backgroundcolor\":\"#E5ECF6\",\"gridcolor\":\"white\",\"linecolor\":\"white\",\"showbackground\":true,\"ticks\":\"\",\"zerolinecolor\":\"white\",\"gridwidth\":2}},\"shapedefaults\":{\"line\":{\"color\":\"#2a3f5f\"}},\"annotationdefaults\":{\"arrowcolor\":\"#2a3f5f\",\"arrowhead\":0,\"arrowwidth\":1},\"geo\":{\"bgcolor\":\"white\",\"landcolor\":\"#E5ECF6\",\"subunitcolor\":\"white\",\"showland\":true,\"showlakes\":true,\"lakecolor\":\"white\"},\"title\":{\"x\":0.05},\"mapbox\":{\"style\":\"light\"}}},\"xaxis\":{\"anchor\":\"y\",\"domain\":[0.0,1.0],\"title\":{\"text\":\"x\"}},\"yaxis\":{\"anchor\":\"x\",\"domain\":[0.0,1.0],\"title\":{\"text\":\"y\"}},\"legend\":{\"tracegroupgap\":0},\"margin\":{\"t\":60}},                        {\"responsive\": true}                    ).then(function(){\n",
       "                            \n",
       "var gd = document.getElementById('c24bc688-8030-4784-b9b6-ab0f80f79f53');\n",
       "var x = new MutationObserver(function (mutations, observer) {{\n",
       "        var display = window.getComputedStyle(gd).display;\n",
       "        if (!display || display === 'none') {{\n",
       "            console.log([gd, 'removed!']);\n",
       "            Plotly.purge(gd);\n",
       "            observer.disconnect();\n",
       "        }}\n",
       "}});\n",
       "\n",
       "// Listen for the removal of the full notebook cells\n",
       "var notebookContainer = gd.closest('#notebook-container');\n",
       "if (notebookContainer) {{\n",
       "    x.observe(notebookContainer, {childList: true});\n",
       "}}\n",
       "\n",
       "// Listen for the clearing of the current output cell\n",
       "var outputEl = gd.closest('.output');\n",
       "if (outputEl) {{\n",
       "    x.observe(outputEl, {childList: true});\n",
       "}}\n",
       "\n",
       "                        })                };                });            </script>        </div>"
      ]
     },
     "metadata": {},
     "output_type": "display_data"
    }
   ],
   "source": [
    "print(\"Elbow result \" + str(test_inst.elbow_choose().best_idx))\n",
    "\n",
    "px.line(x = range(1,4), y = test_inst.SSE_arr)"
   ]
  },
  {
   "cell_type": "markdown",
   "id": "0244679a-c8dd-4868-9265-1df8cfaf677b",
   "metadata": {},
   "source": [
    "# Testing in more realistic cases"
   ]
  },
  {
   "cell_type": "markdown",
   "id": "e388ad20-aada-4e0f-9d21-2a292b0c9643",
   "metadata": {},
   "source": [
    "## 2 classes"
   ]
  },
  {
   "cell_type": "code",
   "execution_count": 124,
   "id": "a65e96dd-4707-49be-bc53-6ebb28d9f23f",
   "metadata": {},
   "outputs": [
    {
     "name": "stdout",
     "output_type": "stream",
     "text": [
      "=============0==============\n",
      "Индекс в исходном массиве\n",
      "1\n",
      "Класс этого индекса\n",
      "0\n",
      "Колонка этого индекса\n",
      "0\n",
      "==========================================\n",
      "=============1==============\n",
      "Индекс в исходном массиве\n",
      "6\n",
      "Класс этого индекса\n",
      "0\n",
      "Колонка этого индекса\n",
      "0\n",
      "==========================================\n",
      "=============2==============\n",
      "Индекс в исходном массиве\n",
      "9\n",
      "Класс этого индекса\n",
      "0\n",
      "Колонка этого индекса\n",
      "0\n",
      "==========================================\n",
      "=============3==============\n",
      "Индекс в исходном массиве\n",
      "4\n",
      "Класс этого индекса\n",
      "1\n",
      "Колонка этого индекса\n",
      "1\n",
      "==========================================\n",
      "=============4==============\n",
      "Индекс в исходном массиве\n",
      "2\n",
      "Класс этого индекса\n",
      "1\n",
      "Колонка этого индекса\n",
      "1\n",
      "==========================================\n",
      "=============5==============\n",
      "Индекс в исходном массиве\n",
      "8\n",
      "Класс этого индекса\n",
      "0\n",
      "Колонка этого индекса\n",
      "0\n",
      "==========================================\n",
      "=============6==============\n",
      "Индекс в исходном массиве\n",
      "5\n",
      "Класс этого индекса\n",
      "1\n",
      "Колонка этого индекса\n",
      "1\n",
      "==========================================\n",
      "=============7==============\n",
      "Индекс в исходном массиве\n",
      "7\n",
      "Класс этого индекса\n",
      "1\n",
      "Колонка этого индекса\n",
      "1\n",
      "==========================================\n",
      "=============8==============\n",
      "Индекс в исходном массиве\n",
      "3\n",
      "Класс этого индекса\n",
      "1\n",
      "Колонка этого индекса\n",
      "1\n",
      "==========================================\n",
      "=============9==============\n",
      "Индекс в исходном массиве\n",
      "0\n",
      "Класс этого индекса\n",
      "1\n",
      "Колонка этого индекса\n",
      "1\n",
      "==========================================\n",
      "=============0==============\n",
      "Индекс в исходном массиве\n",
      "1\n",
      "Класс этого индекса\n",
      "0\n",
      "Колонка этого индекса\n",
      "0\n",
      "==========================================\n",
      "=============1==============\n",
      "Индекс в исходном массиве\n",
      "6\n",
      "Класс этого индекса\n",
      "0\n",
      "Колонка этого индекса\n",
      "0\n",
      "==========================================\n",
      "=============2==============\n",
      "Индекс в исходном массиве\n",
      "9\n",
      "Класс этого индекса\n",
      "0\n",
      "Колонка этого индекса\n",
      "0\n",
      "==========================================\n",
      "=============3==============\n",
      "Индекс в исходном массиве\n",
      "4\n",
      "Класс этого индекса\n",
      "1\n",
      "Колонка этого индекса\n",
      "1\n",
      "==========================================\n",
      "=============4==============\n",
      "Индекс в исходном массиве\n",
      "2\n",
      "Класс этого индекса\n",
      "1\n",
      "Колонка этого индекса\n",
      "1\n",
      "==========================================\n",
      "=============5==============\n",
      "Индекс в исходном массиве\n",
      "8\n",
      "Класс этого индекса\n",
      "0\n",
      "Колонка этого индекса\n",
      "0\n",
      "==========================================\n",
      "=============6==============\n",
      "Индекс в исходном массиве\n",
      "5\n",
      "Класс этого индекса\n",
      "1\n",
      "Колонка этого индекса\n",
      "1\n",
      "==========================================\n",
      "=============7==============\n",
      "Индекс в исходном массиве\n",
      "7\n",
      "Класс этого индекса\n",
      "1\n",
      "Колонка этого индекса\n",
      "1\n",
      "==========================================\n",
      "=============8==============\n",
      "Индекс в исходном массиве\n",
      "3\n",
      "Класс этого индекса\n",
      "1\n",
      "Колонка этого индекса\n",
      "1\n",
      "==========================================\n",
      "=============9==============\n",
      "Индекс в исходном массиве\n",
      "0\n",
      "Класс этого индекса\n",
      "1\n",
      "Колонка этого индекса\n",
      "1\n",
      "==========================================\n"
     ]
    },
    {
     "data": {
      "text/plain": [
       "array([[1., 0.],\n",
       "       [1., 0.],\n",
       "       [1., 0.],\n",
       "       [0., 1.],\n",
       "       [0., 1.],\n",
       "       [1., 0.],\n",
       "       [0., 1.],\n",
       "       [0., 1.],\n",
       "       [0., 1.],\n",
       "       [0., 1.]])"
      ]
     },
     "execution_count": 124,
     "metadata": {},
     "output_type": "execute_result"
    }
   ],
   "source": [
    "inst_param = dict(\n",
    "    max_clusters = 5,\n",
    "    kmeans_kwarg={'max_iter':50}\n",
    ")\n",
    "\n",
    "\n",
    "two_classes = kmeans_ranges_cl( reduction_coef = 0, red_tol = 0.01, **inst_param).\\\n",
    "    fit(example_data['var'].to_numpy(), example_data['class2'])\n",
    "\n",
    "two_classes.get_classes_space(\n",
    "    example_data['var'].to_numpy(), \n",
    "    example_data['class2']\n",
    ")"
   ]
  },
  {
   "cell_type": "code",
   "execution_count": 120,
   "id": "f0096058-a03c-4bf8-88aa-d6623a778f98",
   "metadata": {},
   "outputs": [
    {
     "data": {
      "text/html": [
       "<div>\n",
       "<style scoped>\n",
       "    .dataframe tbody tr th:only-of-type {\n",
       "        vertical-align: middle;\n",
       "    }\n",
       "\n",
       "    .dataframe tbody tr th {\n",
       "        vertical-align: top;\n",
       "    }\n",
       "\n",
       "    .dataframe thead th {\n",
       "        text-align: right;\n",
       "    }\n",
       "</style>\n",
       "<table border=\"1\" class=\"dataframe\">\n",
       "  <thead>\n",
       "    <tr style=\"text-align: right;\">\n",
       "      <th></th>\n",
       "      <th>var</th>\n",
       "      <th>blob</th>\n",
       "      <th>class2</th>\n",
       "      <th>hello</th>\n",
       "    </tr>\n",
       "  </thead>\n",
       "  <tbody>\n",
       "    <tr>\n",
       "      <th>0</th>\n",
       "      <td>6.638078</td>\n",
       "      <td>2</td>\n",
       "      <td>1</td>\n",
       "      <td>1.0</td>\n",
       "    </tr>\n",
       "    <tr>\n",
       "      <th>1</th>\n",
       "      <td>-11.145937</td>\n",
       "      <td>0</td>\n",
       "      <td>0</td>\n",
       "      <td>1.0</td>\n",
       "    </tr>\n",
       "    <tr>\n",
       "      <th>2</th>\n",
       "      <td>-5.603077</td>\n",
       "      <td>1</td>\n",
       "      <td>1</td>\n",
       "      <td>1.0</td>\n",
       "    </tr>\n",
       "    <tr>\n",
       "      <th>3</th>\n",
       "      <td>5.501259</td>\n",
       "      <td>2</td>\n",
       "      <td>1</td>\n",
       "      <td>0.0</td>\n",
       "    </tr>\n",
       "    <tr>\n",
       "      <th>4</th>\n",
       "      <td>-5.751309</td>\n",
       "      <td>0</td>\n",
       "      <td>1</td>\n",
       "      <td>0.0</td>\n",
       "    </tr>\n",
       "    <tr>\n",
       "      <th>5</th>\n",
       "      <td>2.489624</td>\n",
       "      <td>1</td>\n",
       "      <td>1</td>\n",
       "      <td>1.0</td>\n",
       "    </tr>\n",
       "    <tr>\n",
       "      <th>6</th>\n",
       "      <td>-10.223513</td>\n",
       "      <td>0</td>\n",
       "      <td>0</td>\n",
       "      <td>0.0</td>\n",
       "    </tr>\n",
       "    <tr>\n",
       "      <th>7</th>\n",
       "      <td>4.477586</td>\n",
       "      <td>2</td>\n",
       "      <td>1</td>\n",
       "      <td>0.0</td>\n",
       "    </tr>\n",
       "    <tr>\n",
       "      <th>8</th>\n",
       "      <td>0.730815</td>\n",
       "      <td>1</td>\n",
       "      <td>0</td>\n",
       "      <td>0.0</td>\n",
       "    </tr>\n",
       "    <tr>\n",
       "      <th>9</th>\n",
       "      <td>-10.056344</td>\n",
       "      <td>0</td>\n",
       "      <td>0</td>\n",
       "      <td>0.0</td>\n",
       "    </tr>\n",
       "  </tbody>\n",
       "</table>\n",
       "</div>"
      ],
      "text/plain": [
       "         var  blob  class2  hello\n",
       "0   6.638078     2       1    1.0\n",
       "1 -11.145937     0       0    1.0\n",
       "2  -5.603077     1       1    1.0\n",
       "3   5.501259     2       1    0.0\n",
       "4  -5.751309     0       1    0.0\n",
       "5   2.489624     1       1    1.0\n",
       "6 -10.223513     0       0    0.0\n",
       "7   4.477586     2       1    0.0\n",
       "8   0.730815     1       0    0.0\n",
       "9 -10.056344     0       0    0.0"
      ]
     },
     "execution_count": 120,
     "metadata": {},
     "output_type": "execute_result"
    }
   ],
   "source": [
    "example_data"
   ]
  },
  {
   "cell_type": "code",
   "execution_count": 104,
   "id": "c9dfd28d-ae61-40c4-abf5-9097b9c6c792",
   "metadata": {},
   "outputs": [
    {
     "data": {
      "text/html": [
       "<div>\n",
       "<style scoped>\n",
       "    .dataframe tbody tr th:only-of-type {\n",
       "        vertical-align: middle;\n",
       "    }\n",
       "\n",
       "    .dataframe tbody tr th {\n",
       "        vertical-align: top;\n",
       "    }\n",
       "\n",
       "    .dataframe thead th {\n",
       "        text-align: right;\n",
       "    }\n",
       "</style>\n",
       "<table border=\"1\" class=\"dataframe\">\n",
       "  <thead>\n",
       "    <tr style=\"text-align: right;\">\n",
       "      <th></th>\n",
       "      <th>var</th>\n",
       "      <th>blob</th>\n",
       "      <th>class2</th>\n",
       "      <th>hello</th>\n",
       "    </tr>\n",
       "  </thead>\n",
       "  <tbody>\n",
       "    <tr>\n",
       "      <th>0</th>\n",
       "      <td>6.638078</td>\n",
       "      <td>2</td>\n",
       "      <td>1</td>\n",
       "      <td>1.0</td>\n",
       "    </tr>\n",
       "    <tr>\n",
       "      <th>1</th>\n",
       "      <td>-11.145937</td>\n",
       "      <td>0</td>\n",
       "      <td>0</td>\n",
       "      <td>1.0</td>\n",
       "    </tr>\n",
       "    <tr>\n",
       "      <th>2</th>\n",
       "      <td>-5.603077</td>\n",
       "      <td>1</td>\n",
       "      <td>1</td>\n",
       "      <td>1.0</td>\n",
       "    </tr>\n",
       "    <tr>\n",
       "      <th>3</th>\n",
       "      <td>5.501259</td>\n",
       "      <td>2</td>\n",
       "      <td>1</td>\n",
       "      <td>0.0</td>\n",
       "    </tr>\n",
       "    <tr>\n",
       "      <th>4</th>\n",
       "      <td>-5.751309</td>\n",
       "      <td>0</td>\n",
       "      <td>1</td>\n",
       "      <td>0.0</td>\n",
       "    </tr>\n",
       "    <tr>\n",
       "      <th>5</th>\n",
       "      <td>2.489624</td>\n",
       "      <td>1</td>\n",
       "      <td>1</td>\n",
       "      <td>1.0</td>\n",
       "    </tr>\n",
       "    <tr>\n",
       "      <th>6</th>\n",
       "      <td>-10.223513</td>\n",
       "      <td>0</td>\n",
       "      <td>0</td>\n",
       "      <td>0.0</td>\n",
       "    </tr>\n",
       "    <tr>\n",
       "      <th>7</th>\n",
       "      <td>4.477586</td>\n",
       "      <td>2</td>\n",
       "      <td>1</td>\n",
       "      <td>0.0</td>\n",
       "    </tr>\n",
       "    <tr>\n",
       "      <th>8</th>\n",
       "      <td>0.730815</td>\n",
       "      <td>1</td>\n",
       "      <td>0</td>\n",
       "      <td>0.0</td>\n",
       "    </tr>\n",
       "    <tr>\n",
       "      <th>9</th>\n",
       "      <td>-10.056344</td>\n",
       "      <td>0</td>\n",
       "      <td>0</td>\n",
       "      <td>0.0</td>\n",
       "    </tr>\n",
       "  </tbody>\n",
       "</table>\n",
       "</div>"
      ],
      "text/plain": [
       "         var  blob  class2  hello\n",
       "0   6.638078     2       1    1.0\n",
       "1 -11.145937     0       0    1.0\n",
       "2  -5.603077     1       1    1.0\n",
       "3   5.501259     2       1    0.0\n",
       "4  -5.751309     0       1    0.0\n",
       "5   2.489624     1       1    1.0\n",
       "6 -10.223513     0       0    0.0\n",
       "7   4.477586     2       1    0.0\n",
       "8   0.730815     1       0    0.0\n",
       "9 -10.056344     0       0    0.0"
      ]
     },
     "execution_count": 104,
     "metadata": {},
     "output_type": "execute_result"
    }
   ],
   "source": [
    "space = two_classes.get_norm_space()\n",
    "\n",
    "example_data['hello'] = space[:,1]\n",
    "example_data\n",
    "\n",
    "# px.scatter(\n",
    "#     x=space[:,1], y=space[:,2], color = example_data[\"class2\"],\n",
    "#     labels={\n",
    "#         \"x\": \"class 0 feature\",\n",
    "#         \"y\": \"class 1 feature\"\n",
    "#     }\n",
    "# )"
   ]
  },
  {
   "cell_type": "markdown",
   "id": "470d8a53-aa5f-4b91-8782-2359d2b908cd",
   "metadata": {},
   "source": [
    "## Fiting procedures"
   ]
  },
  {
   "cell_type": "code",
   "execution_count": null,
   "id": "7fc687d5-7c6b-42ae-9363-52a854a97b93",
   "metadata": {},
   "outputs": [],
   "source": [
    "# two_classes.build_factor_space(example_data['var'], example_data['class2'])\n"
   ]
  }
 ],
 "metadata": {
  "kernelspec": {
   "display_name": "Python 3 (ipykernel)",
   "language": "python",
   "name": "python3"
  },
  "language_info": {
   "codemirror_mode": {
    "name": "ipython",
    "version": 3
   },
   "file_extension": ".py",
   "mimetype": "text/x-python",
   "name": "python",
   "nbconvert_exporter": "python",
   "pygments_lexer": "ipython3",
   "version": "3.10.0"
  }
 },
 "nbformat": 4,
 "nbformat_minor": 5
}
