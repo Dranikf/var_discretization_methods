{
 "cells": [
  {
   "cell_type": "markdown",
   "id": "79eee1e9-ff12-4ac0-b079-2bd943bb2c8a",
   "metadata": {},
   "source": [
    "# Factors discretization using KMeans method (Example of using kmeans_rages class)\n",
    "\n",
    "This notebook has been created for developing and testing methods of discretization for numeric variables"
   ]
  },
  {
   "cell_type": "code",
   "execution_count": 1,
   "id": "eae45d82-9c81-4851-b432-14d546eb9093",
   "metadata": {},
   "outputs": [
    {
     "ename": "ModuleNotFoundError",
     "evalue": "No module named 'reangers'",
     "output_type": "error",
     "traceback": [
      "\u001b[0;31m---------------------------------------------------------------------------\u001b[0m",
      "\u001b[0;31mModuleNotFoundError\u001b[0m                       Traceback (most recent call last)",
      "Input \u001b[0;32mIn [1]\u001b[0m, in \u001b[0;36m<cell line: 6>\u001b[0;34m()\u001b[0m\n\u001b[1;32m      3\u001b[0m \u001b[38;5;28;01mimport\u001b[39;00m \u001b[38;5;21;01mnumpy\u001b[39;00m \u001b[38;5;28;01mas\u001b[39;00m \u001b[38;5;21;01mnp\u001b[39;00m\n\u001b[1;32m      4\u001b[0m \u001b[38;5;28;01mimport\u001b[39;00m \u001b[38;5;21;01mpandas\u001b[39;00m \u001b[38;5;28;01mas\u001b[39;00m \u001b[38;5;21;01mpd\u001b[39;00m\n\u001b[0;32m----> 6\u001b[0m \u001b[38;5;28;01mfrom\u001b[39;00m \u001b[38;5;21;01mreangers\u001b[39;00m \u001b[38;5;28;01mimport\u001b[39;00m kmeans_ranges\n\u001b[1;32m      7\u001b[0m \u001b[38;5;28;01mfrom\u001b[39;00m \u001b[38;5;21;01msklearn\u001b[39;00m\u001b[38;5;21;01m.\u001b[39;00m\u001b[38;5;21;01mdatasets\u001b[39;00m \u001b[38;5;28;01mimport\u001b[39;00m make_blobs\n\u001b[1;32m      9\u001b[0m \u001b[38;5;28;01mimport\u001b[39;00m \u001b[38;5;21;01mplotly\u001b[39;00m\u001b[38;5;21;01m.\u001b[39;00m\u001b[38;5;21;01mexpress\u001b[39;00m \u001b[38;5;28;01mas\u001b[39;00m \u001b[38;5;21;01mpx\u001b[39;00m\n",
      "\u001b[0;31mModuleNotFoundError\u001b[0m: No module named 'reangers'"
     ]
    }
   ],
   "source": [
    "from copy import deepcopy\n",
    "\n",
    "import numpy as np\n",
    "import pandas as pd\n",
    "\n",
    "from rangers import kmeans_ranges\n",
    "from sklearn.datasets import make_blobs\n",
    "\n",
    "import plotly.express as px\n",
    "import plotly.graph_objects as go"
   ]
  },
  {
   "cell_type": "markdown",
   "id": "cd088c08-44d0-4fe2-a676-e9dce8a5e959",
   "metadata": {},
   "source": [
    "# Lests generate some random ranges which will be used as test data"
   ]
  },
  {
   "cell_type": "markdown",
   "id": "6dd9fcb3-6e04-47b3-8d64-776f291e5aef",
   "metadata": {},
   "source": [
    "Data building"
   ]
  },
  {
   "cell_type": "code",
   "execution_count": null,
   "id": "fb40bd25-252c-4e9c-94ae-f5eafd6bfc78",
   "metadata": {},
   "outputs": [],
   "source": [
    "# 3 differend data blobs\n",
    "X,y = make_blobs(\n",
    "    n_samples = 150, n_features = 1,\n",
    "    centers = 3, cluster_std = 1.6,\n",
    "    random_state=1\n",
    ")\n",
    "\n",
    "example_data = pd.DataFrame(\n",
    "    {'var': X.ravel(), 'blob':y})\n",
    "\n",
    "del X,y"
   ]
  },
  {
   "cell_type": "markdown",
   "id": "c2f3c1c1-959b-4c76-b8ac-6cb6255628b4",
   "metadata": {},
   "source": [
    "Data visualisation"
   ]
  },
  {
   "cell_type": "code",
   "execution_count": null,
   "id": "db0e203b-eb61-4fb9-be87-1522b8ea1f3c",
   "metadata": {},
   "outputs": [],
   "source": [
    "basic_plot = px.box(example_data, x = 'var', color = 'blob', points = 'all')\n",
    "basic_plot.show()"
   ]
  },
  {
   "cell_type": "markdown",
   "id": "24afac82-c89f-4a56-8a26-e0c9b9b031af",
   "metadata": {},
   "source": [
    "# Examples"
   ]
  },
  {
   "cell_type": "markdown",
   "id": "175cf9e5-3b83-4346-b166-b107b03da240",
   "metadata": {},
   "source": [
    "Creating, fitting and dealing with SSE for different numbers of clusters."
   ]
  },
  {
   "cell_type": "code",
   "execution_count": null,
   "id": "4618b77b-da3d-494c-855f-3ef9cfc0c905",
   "metadata": {},
   "outputs": [],
   "source": [
    "my_ranges = kmeans_ranges(\n",
    "    max_clusters = 5, \n",
    "    kmeans_kwarg={'max_iter':50}\n",
    ")\n",
    "my_ranges.build_kmeans_instances(\n",
    "    example_data['var'].to_numpy()[:, np.newaxis])\n",
    "\n",
    "# my_ranges.fit(example_data['var'].to_numpy()[:, np.newaxis])\n",
    "\n",
    "px.line(\n",
    "    x = range(1, len(my_ranges.SSE_arr) + 1), \n",
    "    y = my_ranges.SSE_arr)"
   ]
  },
  {
   "cell_type": "markdown",
   "id": "7f873a38-db0c-46de-9fc0-1a202178e09e",
   "metadata": {},
   "source": [
    "After building instances you can auromaricly select the best clusters number according to the Elbow method. This method returns an index of the best sklearn.cluster.kmeans instance in kmeans_insts list."
   ]
  },
  {
   "cell_type": "code",
   "execution_count": null,
   "id": "1d4e7981-7cbc-429a-9ccd-5674d3db9d25",
   "metadata": {},
   "outputs": [],
   "source": [
    "my_ranges.elbow_choose()"
   ]
  },
  {
   "cell_type": "markdown",
   "id": "54dcabea-4966-4061-a073-fffa33f5e54e",
   "metadata": {},
   "source": [
    "For more readability of the result data range, we converts numbers which marks clusters in sklearn.cluster.kmeans, in to strings wich looks like \"\\[4;5)\".\n",
    "\n",
    "We make bins with a method init_bens. Bean is a point wich is closing each next cluster in case incleasing moving. Let's get and plot bean for each cluster."
   ]
  },
  {
   "cell_type": "code",
   "execution_count": null,
   "id": "73a149b6-b1d8-4050-b3cc-c90f4601cb0a",
   "metadata": {},
   "outputs": [],
   "source": [
    "bins = my_ranges.init_bins(\n",
    "    example_data['var'].to_numpy()[:, np.newaxis])\n",
    "\n",
    "box_with_bins = deepcopy(basic_plot)\n",
    "box_with_bins.layout.yaxis2 = \\\n",
    "    go.layout.YAxis(overlaying='y', range=[0, 2], showticklabels=False)\n",
    "\n",
    "\n",
    "for my_bin in bins:\n",
    "    box_with_bins.add_scatter(\n",
    "    x = [my_bin, my_bin], y = [0, 2], mode='lines', yaxis='y2',\n",
    "    showlegend=False, line=dict(\n",
    "        dash='dash', color = \"firebrick\", width = 2\n",
    "    ))\n",
    "    \n",
    "    \n",
    "box_with_bins.show()"
   ]
  },
  {
   "cell_type": "markdown",
   "id": "3828235e-d1b2-4e86-9b8a-90fe5ce46d67",
   "metadata": {},
   "source": [
    "After calling all methods described above (they are joined in fit method), we can use predict, wich converts input data frame to strings with the corresponding ranges.\n",
    "\n",
    "Let's see how it works and adds it to the visualisation."
   ]
  },
  {
   "cell_type": "code",
   "execution_count": null,
   "id": "a72aab66-fc4e-4596-b2ea-12d62c67e03c",
   "metadata": {},
   "outputs": [],
   "source": [
    "ranged_series = my_ranges.transform(\n",
    "    example_data['var'].to_numpy()[:, np.newaxis])\n",
    "\n",
    "ranged_series[:5]"
   ]
  },
  {
   "cell_type": "code",
   "execution_count": null,
   "id": "482e1076-cc94-47a4-a456-0b0187531a2a",
   "metadata": {},
   "outputs": [],
   "source": [
    "box_with_groups = deepcopy(box_with_bins)\n",
    "\n",
    "example_data[\"data_groups\"] = ranged_series\n",
    "example_data\n",
    "\n",
    "\n",
    "for data_group in example_data['data_groups'].unique():\n",
    "    \n",
    "    draw_data = example_data.query(\"data_groups == '\" + data_group + \"'\")\n",
    "        \n",
    "    box_with_groups.add_trace(\n",
    "        go.Scatter(\n",
    "            x = draw_data['var'], \n",
    "            y = np.ones(draw_data.shape[0])*1.8,\n",
    "            mode = 'markers',\n",
    "            name = data_group,\n",
    "            yaxis = 'y2'\n",
    "        )\n",
    "    )\n",
    "    \n",
    "box_with_groups.show()"
   ]
  },
  {
   "cell_type": "markdown",
   "id": "783803e8-8284-40b6-8602-ae1f3484dfe2",
   "metadata": {},
   "source": [
    "And finally check full complex of methods in one line of the code."
   ]
  },
  {
   "cell_type": "code",
   "execution_count": null,
   "id": "3af84a39-4c39-44b7-b242-1a0f950144e7",
   "metadata": {},
   "outputs": [],
   "source": [
    "my_ranges.fit_transform(example_data['var'].to_numpy()[:, np.newaxis])"
   ]
  }
 ],
 "metadata": {
  "kernelspec": {
   "display_name": "Python 3 (ipykernel)",
   "language": "python",
   "name": "python3"
  },
  "language_info": {
   "codemirror_mode": {
    "name": "ipython",
    "version": 3
   },
   "file_extension": ".py",
   "mimetype": "text/x-python",
   "name": "python",
   "nbconvert_exporter": "python",
   "pygments_lexer": "ipython3",
   "version": "3.10.0"
  }
 },
 "nbformat": 4,
 "nbformat_minor": 5
}
