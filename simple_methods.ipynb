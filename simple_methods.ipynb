{
 "cells": [
  {
   "cell_type": "markdown",
   "id": "7455058d-1e29-4664-995c-296274d80118",
   "metadata": {},
   "source": [
    "# Simple discretization methods"
   ]
  },
  {
   "cell_type": "code",
   "execution_count": 47,
   "id": "448285cc-dcf2-4d8e-a7fc-252d9c6f1e9d",
   "metadata": {},
   "outputs": [],
   "source": [
    "import numpy as np\n",
    "import pandas as pd\n",
    "\n",
    "from sklearn.preprocessing import normalize\n",
    "from sklearn import preprocessing\n",
    "\n",
    "import plotly.express as px\n",
    "import plotly.graph_objects as go"
   ]
  },
  {
   "cell_type": "markdown",
   "id": "7684a731-a9f1-460e-944e-896ad64250b8",
   "metadata": {},
   "source": [
    "# Generation example dataframe"
   ]
  },
  {
   "cell_type": "code",
   "execution_count": 48,
   "id": "1cc2d2d6-3450-4fd4-af1b-d1ee61f92e27",
   "metadata": {},
   "outputs": [],
   "source": [
    "sample_size = 1000\n",
    "\n",
    "np.random.seed(432409)\n",
    "\n",
    "example_data = pd.DataFrame(\n",
    "    {\n",
    "        \"var\" : np.random.uniform(-200, 200, size = sample_size)\n",
    "    }\n",
    ")\n",
    "\n",
    "example_data[\"class\"] = list(map(\n",
    "    lambda p: np.random.choice([0,1], p=[1-p, p]),\n",
    "    (example_data[\"var\"] - example_data['var'].min())/\\\n",
    "    (example_data[\"var\"].max() - example_data[\"var\"].min())\n",
    "))"
   ]
  },
  {
   "cell_type": "code",
   "execution_count": 61,
   "id": "bc17dc2d-4d77-4bc7-b492-c5a89fc89a2e",
   "metadata": {},
   "outputs": [
    {
     "ename": "SyntaxError",
     "evalue": "Python keyword not valid identifier in numexpr query (<unknown>, line 1)",
     "output_type": "error",
     "traceback": [
      "Traceback \u001b[0;36m(most recent call last)\u001b[0m:\n",
      "  File \u001b[1;32m~/.local/lib/python3.10/site-packages/IPython/core/interactiveshell.py:3369\u001b[0m in \u001b[1;35mrun_code\u001b[0m\n    exec(code_obj, self.user_global_ns, self.user_ns)\n",
      "  Input \u001b[1;32mIn [61]\u001b[0m in \u001b[1;35m<cell line: 5>\u001b[0m\n    x = example_data.query(\"class == '\" + str(cl) + \"'\")[\"var\"],\n",
      "  File \u001b[1;32m~/.local/lib/python3.10/site-packages/pandas/core/frame.py:4111\u001b[0m in \u001b[1;35mquery\u001b[0m\n    res = self.eval(expr, **kwargs)\n",
      "  File \u001b[1;32m~/.local/lib/python3.10/site-packages/pandas/core/frame.py:4240\u001b[0m in \u001b[1;35meval\u001b[0m\n    return _eval(expr, inplace=inplace, **kwargs)\n",
      "  File \u001b[1;32m~/.local/lib/python3.10/site-packages/pandas/core/computation/eval.py:350\u001b[0m in \u001b[1;35meval\u001b[0m\n    parsed_expr = Expr(expr, engine=engine, parser=parser, env=env)\n",
      "  File \u001b[1;32m~/.local/lib/python3.10/site-packages/pandas/core/computation/expr.py:811\u001b[0m in \u001b[1;35m__init__\u001b[0m\n    self.terms = self.parse()\n",
      "  File \u001b[1;32m~/.local/lib/python3.10/site-packages/pandas/core/computation/expr.py:830\u001b[0m in \u001b[1;35mparse\u001b[0m\n    return self._visitor.visit(self.expr)\n",
      "  File \u001b[1;32m~/.local/lib/python3.10/site-packages/pandas/core/computation/expr.py:411\u001b[0m in \u001b[1;35mvisit\u001b[0m\n    raise e\n",
      "  File \u001b[1;32m~/.local/lib/python3.10/site-packages/pandas/core/computation/expr.py:407\u001b[0m in \u001b[1;35mvisit\u001b[0m\n    node = ast.fix_missing_locations(ast.parse(clean))\n",
      "\u001b[0;36m  File \u001b[0;32m/usr/lib64/python3.10/ast.py:50\u001b[0;36m in \u001b[0;35mparse\u001b[0;36m\u001b[0m\n\u001b[0;31m    return compile(source, filename, mode, flags,\u001b[0m\n",
      "\u001b[0;36m  File \u001b[0;32m<unknown>:1\u001b[0;36m\u001b[0m\n\u001b[0;31m    class =='1'\u001b[0m\n\u001b[0m          ^\u001b[0m\n\u001b[0;31mSyntaxError\u001b[0m\u001b[0;31m:\u001b[0m Python keyword not valid identifier in numexpr query\n"
     ]
    }
   ],
   "source": [
    "fig = go.Figure()\n",
    "\n",
    "colors = [\"blue\", 'red']\n",
    "\n",
    "for cl in example_data[\"class\"].unique():\n",
    "    \n",
    "    fig.add_trace(\n",
    "        go.Histogram(\n",
    "            x = example_data.query(\"class == '\" + str(cl) + \"'\")[\"var\"],\n",
    "            marker_color = colors[cl],\n",
    "            opacity = 0.75\n",
    "        )\n",
    "    )\n",
    "\n",
    "#fig.update_layout(barmode='overlay')\n",
    "fig.update_traces(opacity=0.75)\n",
    "\n",
    "fig.show()\n",
    "#px.histogram(example_data, x = \"var\", color = 'class', nbins = 40)"
   ]
  },
  {
   "cell_type": "code",
   "execution_count": 62,
   "id": "a252ca78-47c5-4fff-bf3e-7bef97730dc8",
   "metadata": {},
   "outputs": [
    {
     "ename": "SyntaxError",
     "evalue": "Python keyword not valid identifier in numexpr query (<unknown>, line 1)",
     "output_type": "error",
     "traceback": [
      "Traceback \u001b[0;36m(most recent call last)\u001b[0m:\n",
      "  File \u001b[1;32m~/.local/lib/python3.10/site-packages/IPython/core/interactiveshell.py:3369\u001b[0m in \u001b[1;35mrun_code\u001b[0m\n    exec(code_obj, self.user_global_ns, self.user_ns)\n",
      "  Input \u001b[1;32mIn [62]\u001b[0m in \u001b[1;35m<cell line: 1>\u001b[0m\n    example_data.query('class == 1')\n",
      "  File \u001b[1;32m~/.local/lib/python3.10/site-packages/pandas/core/frame.py:4111\u001b[0m in \u001b[1;35mquery\u001b[0m\n    res = self.eval(expr, **kwargs)\n",
      "  File \u001b[1;32m~/.local/lib/python3.10/site-packages/pandas/core/frame.py:4240\u001b[0m in \u001b[1;35meval\u001b[0m\n    return _eval(expr, inplace=inplace, **kwargs)\n",
      "  File \u001b[1;32m~/.local/lib/python3.10/site-packages/pandas/core/computation/eval.py:350\u001b[0m in \u001b[1;35meval\u001b[0m\n    parsed_expr = Expr(expr, engine=engine, parser=parser, env=env)\n",
      "  File \u001b[1;32m~/.local/lib/python3.10/site-packages/pandas/core/computation/expr.py:811\u001b[0m in \u001b[1;35m__init__\u001b[0m\n    self.terms = self.parse()\n",
      "  File \u001b[1;32m~/.local/lib/python3.10/site-packages/pandas/core/computation/expr.py:830\u001b[0m in \u001b[1;35mparse\u001b[0m\n    return self._visitor.visit(self.expr)\n",
      "  File \u001b[1;32m~/.local/lib/python3.10/site-packages/pandas/core/computation/expr.py:411\u001b[0m in \u001b[1;35mvisit\u001b[0m\n    raise e\n",
      "  File \u001b[1;32m~/.local/lib/python3.10/site-packages/pandas/core/computation/expr.py:407\u001b[0m in \u001b[1;35mvisit\u001b[0m\n    node = ast.fix_missing_locations(ast.parse(clean))\n",
      "\u001b[0;36m  File \u001b[0;32m/usr/lib64/python3.10/ast.py:50\u001b[0;36m in \u001b[0;35mparse\u001b[0;36m\u001b[0m\n\u001b[0;31m    return compile(source, filename, mode, flags,\u001b[0m\n",
      "\u001b[0;36m  File \u001b[0;32m<unknown>:1\u001b[0;36m\u001b[0m\n\u001b[0;31m    class ==1\u001b[0m\n\u001b[0m          ^\u001b[0m\n\u001b[0;31mSyntaxError\u001b[0m\u001b[0;31m:\u001b[0m Python keyword not valid identifier in numexpr query\n"
     ]
    }
   ],
   "source": [
    "example_data.query('class == 1')"
   ]
  },
  {
   "cell_type": "code",
   "execution_count": 5,
   "id": "804195f6-a09f-4313-9c98-5687dd7bb001",
   "metadata": {},
   "outputs": [
    {
     "name": "stdout",
     "output_type": "stream",
     "text": [
      "[[0.11785113 0.1767767  0.29462783 0.35355339 0.41247896 0.23570226\n",
      "  0.47140452 0.41247896 0.35355339]]\n"
     ]
    }
   ],
   "source": [
    "\n",
    "\n",
    "x_array = np.array([2,3,5,6,7,4,8,7,6])\n",
    "normalized_arr = preprocessing.normalize([x_array])\n",
    "print(normalized_arr)"
   ]
  }
 ],
 "metadata": {
  "kernelspec": {
   "display_name": "Python 3 (ipykernel)",
   "language": "python",
   "name": "python3"
  },
  "language_info": {
   "codemirror_mode": {
    "name": "ipython",
    "version": 3
   },
   "file_extension": ".py",
   "mimetype": "text/x-python",
   "name": "python",
   "nbconvert_exporter": "python",
   "pygments_lexer": "ipython3",
   "version": "3.10.0"
  }
 },
 "nbformat": 4,
 "nbformat_minor": 5
}
